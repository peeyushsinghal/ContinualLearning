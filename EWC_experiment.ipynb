{
  "nbformat": 4,
  "nbformat_minor": 0,
  "metadata": {
    "colab": {
      "provenance": [],
      "toc_visible": true,
      "authorship_tag": "ABX9TyO/GY1Gn/GJtY/ybW6HWykp",
      "include_colab_link": true
    },
    "kernelspec": {
      "name": "python3",
      "display_name": "Python 3"
    },
    "language_info": {
      "name": "python"
    },
    "accelerator": "GPU",
    "gpuClass": "standard",
    "widgets": {
      "application/vnd.jupyter.widget-state+json": {
        "217aa4aaeeed4423a0cbd53e5297464c": {
          "model_module": "@jupyter-widgets/controls",
          "model_name": "HBoxModel",
          "model_module_version": "1.5.0",
          "state": {
            "_dom_classes": [],
            "_model_module": "@jupyter-widgets/controls",
            "_model_module_version": "1.5.0",
            "_model_name": "HBoxModel",
            "_view_count": null,
            "_view_module": "@jupyter-widgets/controls",
            "_view_module_version": "1.5.0",
            "_view_name": "HBoxView",
            "box_style": "",
            "children": [
              "IPY_MODEL_ef60cffdd13c4578ac879164987fb2a8",
              "IPY_MODEL_9593bd25813b476fbf9b29a33e7f69af",
              "IPY_MODEL_5a771ced2b294dc8bc532d775bb404d4"
            ],
            "layout": "IPY_MODEL_c89655c5ab6146b29231238246a9d33b"
          }
        },
        "ef60cffdd13c4578ac879164987fb2a8": {
          "model_module": "@jupyter-widgets/controls",
          "model_name": "HTMLModel",
          "model_module_version": "1.5.0",
          "state": {
            "_dom_classes": [],
            "_model_module": "@jupyter-widgets/controls",
            "_model_module_version": "1.5.0",
            "_model_name": "HTMLModel",
            "_view_count": null,
            "_view_module": "@jupyter-widgets/controls",
            "_view_module_version": "1.5.0",
            "_view_name": "HTMLView",
            "description": "",
            "description_tooltip": null,
            "layout": "IPY_MODEL_1a398bd0c122499584e087badc9f9b1e",
            "placeholder": "​",
            "style": "IPY_MODEL_5b713a6653cf4c758eb964fcda6ef431",
            "value": "100%"
          }
        },
        "9593bd25813b476fbf9b29a33e7f69af": {
          "model_module": "@jupyter-widgets/controls",
          "model_name": "FloatProgressModel",
          "model_module_version": "1.5.0",
          "state": {
            "_dom_classes": [],
            "_model_module": "@jupyter-widgets/controls",
            "_model_module_version": "1.5.0",
            "_model_name": "FloatProgressModel",
            "_view_count": null,
            "_view_module": "@jupyter-widgets/controls",
            "_view_module_version": "1.5.0",
            "_view_name": "ProgressView",
            "bar_style": "success",
            "description": "",
            "description_tooltip": null,
            "layout": "IPY_MODEL_0005657fd59546c29e27d147ee28fcb6",
            "max": 9912422,
            "min": 0,
            "orientation": "horizontal",
            "style": "IPY_MODEL_51bcf3692f8f4a35b987726785c6ddbd",
            "value": 9912422
          }
        },
        "5a771ced2b294dc8bc532d775bb404d4": {
          "model_module": "@jupyter-widgets/controls",
          "model_name": "HTMLModel",
          "model_module_version": "1.5.0",
          "state": {
            "_dom_classes": [],
            "_model_module": "@jupyter-widgets/controls",
            "_model_module_version": "1.5.0",
            "_model_name": "HTMLModel",
            "_view_count": null,
            "_view_module": "@jupyter-widgets/controls",
            "_view_module_version": "1.5.0",
            "_view_name": "HTMLView",
            "description": "",
            "description_tooltip": null,
            "layout": "IPY_MODEL_18b0d64dab4747dbb8c20a69c8b02c62",
            "placeholder": "​",
            "style": "IPY_MODEL_8160b2ae2f3b4d498007ed5f93a6f56c",
            "value": " 9912422/9912422 [00:00&lt;00:00, 29397316.60it/s]"
          }
        },
        "c89655c5ab6146b29231238246a9d33b": {
          "model_module": "@jupyter-widgets/base",
          "model_name": "LayoutModel",
          "model_module_version": "1.2.0",
          "state": {
            "_model_module": "@jupyter-widgets/base",
            "_model_module_version": "1.2.0",
            "_model_name": "LayoutModel",
            "_view_count": null,
            "_view_module": "@jupyter-widgets/base",
            "_view_module_version": "1.2.0",
            "_view_name": "LayoutView",
            "align_content": null,
            "align_items": null,
            "align_self": null,
            "border": null,
            "bottom": null,
            "display": null,
            "flex": null,
            "flex_flow": null,
            "grid_area": null,
            "grid_auto_columns": null,
            "grid_auto_flow": null,
            "grid_auto_rows": null,
            "grid_column": null,
            "grid_gap": null,
            "grid_row": null,
            "grid_template_areas": null,
            "grid_template_columns": null,
            "grid_template_rows": null,
            "height": null,
            "justify_content": null,
            "justify_items": null,
            "left": null,
            "margin": null,
            "max_height": null,
            "max_width": null,
            "min_height": null,
            "min_width": null,
            "object_fit": null,
            "object_position": null,
            "order": null,
            "overflow": null,
            "overflow_x": null,
            "overflow_y": null,
            "padding": null,
            "right": null,
            "top": null,
            "visibility": null,
            "width": null
          }
        },
        "1a398bd0c122499584e087badc9f9b1e": {
          "model_module": "@jupyter-widgets/base",
          "model_name": "LayoutModel",
          "model_module_version": "1.2.0",
          "state": {
            "_model_module": "@jupyter-widgets/base",
            "_model_module_version": "1.2.0",
            "_model_name": "LayoutModel",
            "_view_count": null,
            "_view_module": "@jupyter-widgets/base",
            "_view_module_version": "1.2.0",
            "_view_name": "LayoutView",
            "align_content": null,
            "align_items": null,
            "align_self": null,
            "border": null,
            "bottom": null,
            "display": null,
            "flex": null,
            "flex_flow": null,
            "grid_area": null,
            "grid_auto_columns": null,
            "grid_auto_flow": null,
            "grid_auto_rows": null,
            "grid_column": null,
            "grid_gap": null,
            "grid_row": null,
            "grid_template_areas": null,
            "grid_template_columns": null,
            "grid_template_rows": null,
            "height": null,
            "justify_content": null,
            "justify_items": null,
            "left": null,
            "margin": null,
            "max_height": null,
            "max_width": null,
            "min_height": null,
            "min_width": null,
            "object_fit": null,
            "object_position": null,
            "order": null,
            "overflow": null,
            "overflow_x": null,
            "overflow_y": null,
            "padding": null,
            "right": null,
            "top": null,
            "visibility": null,
            "width": null
          }
        },
        "5b713a6653cf4c758eb964fcda6ef431": {
          "model_module": "@jupyter-widgets/controls",
          "model_name": "DescriptionStyleModel",
          "model_module_version": "1.5.0",
          "state": {
            "_model_module": "@jupyter-widgets/controls",
            "_model_module_version": "1.5.0",
            "_model_name": "DescriptionStyleModel",
            "_view_count": null,
            "_view_module": "@jupyter-widgets/base",
            "_view_module_version": "1.2.0",
            "_view_name": "StyleView",
            "description_width": ""
          }
        },
        "0005657fd59546c29e27d147ee28fcb6": {
          "model_module": "@jupyter-widgets/base",
          "model_name": "LayoutModel",
          "model_module_version": "1.2.0",
          "state": {
            "_model_module": "@jupyter-widgets/base",
            "_model_module_version": "1.2.0",
            "_model_name": "LayoutModel",
            "_view_count": null,
            "_view_module": "@jupyter-widgets/base",
            "_view_module_version": "1.2.0",
            "_view_name": "LayoutView",
            "align_content": null,
            "align_items": null,
            "align_self": null,
            "border": null,
            "bottom": null,
            "display": null,
            "flex": null,
            "flex_flow": null,
            "grid_area": null,
            "grid_auto_columns": null,
            "grid_auto_flow": null,
            "grid_auto_rows": null,
            "grid_column": null,
            "grid_gap": null,
            "grid_row": null,
            "grid_template_areas": null,
            "grid_template_columns": null,
            "grid_template_rows": null,
            "height": null,
            "justify_content": null,
            "justify_items": null,
            "left": null,
            "margin": null,
            "max_height": null,
            "max_width": null,
            "min_height": null,
            "min_width": null,
            "object_fit": null,
            "object_position": null,
            "order": null,
            "overflow": null,
            "overflow_x": null,
            "overflow_y": null,
            "padding": null,
            "right": null,
            "top": null,
            "visibility": null,
            "width": null
          }
        },
        "51bcf3692f8f4a35b987726785c6ddbd": {
          "model_module": "@jupyter-widgets/controls",
          "model_name": "ProgressStyleModel",
          "model_module_version": "1.5.0",
          "state": {
            "_model_module": "@jupyter-widgets/controls",
            "_model_module_version": "1.5.0",
            "_model_name": "ProgressStyleModel",
            "_view_count": null,
            "_view_module": "@jupyter-widgets/base",
            "_view_module_version": "1.2.0",
            "_view_name": "StyleView",
            "bar_color": null,
            "description_width": ""
          }
        },
        "18b0d64dab4747dbb8c20a69c8b02c62": {
          "model_module": "@jupyter-widgets/base",
          "model_name": "LayoutModel",
          "model_module_version": "1.2.0",
          "state": {
            "_model_module": "@jupyter-widgets/base",
            "_model_module_version": "1.2.0",
            "_model_name": "LayoutModel",
            "_view_count": null,
            "_view_module": "@jupyter-widgets/base",
            "_view_module_version": "1.2.0",
            "_view_name": "LayoutView",
            "align_content": null,
            "align_items": null,
            "align_self": null,
            "border": null,
            "bottom": null,
            "display": null,
            "flex": null,
            "flex_flow": null,
            "grid_area": null,
            "grid_auto_columns": null,
            "grid_auto_flow": null,
            "grid_auto_rows": null,
            "grid_column": null,
            "grid_gap": null,
            "grid_row": null,
            "grid_template_areas": null,
            "grid_template_columns": null,
            "grid_template_rows": null,
            "height": null,
            "justify_content": null,
            "justify_items": null,
            "left": null,
            "margin": null,
            "max_height": null,
            "max_width": null,
            "min_height": null,
            "min_width": null,
            "object_fit": null,
            "object_position": null,
            "order": null,
            "overflow": null,
            "overflow_x": null,
            "overflow_y": null,
            "padding": null,
            "right": null,
            "top": null,
            "visibility": null,
            "width": null
          }
        },
        "8160b2ae2f3b4d498007ed5f93a6f56c": {
          "model_module": "@jupyter-widgets/controls",
          "model_name": "DescriptionStyleModel",
          "model_module_version": "1.5.0",
          "state": {
            "_model_module": "@jupyter-widgets/controls",
            "_model_module_version": "1.5.0",
            "_model_name": "DescriptionStyleModel",
            "_view_count": null,
            "_view_module": "@jupyter-widgets/base",
            "_view_module_version": "1.2.0",
            "_view_name": "StyleView",
            "description_width": ""
          }
        },
        "f03322b287844e48b2c0096b16f71712": {
          "model_module": "@jupyter-widgets/controls",
          "model_name": "HBoxModel",
          "model_module_version": "1.5.0",
          "state": {
            "_dom_classes": [],
            "_model_module": "@jupyter-widgets/controls",
            "_model_module_version": "1.5.0",
            "_model_name": "HBoxModel",
            "_view_count": null,
            "_view_module": "@jupyter-widgets/controls",
            "_view_module_version": "1.5.0",
            "_view_name": "HBoxView",
            "box_style": "",
            "children": [
              "IPY_MODEL_7aa85bab68fc45668d1174c159b0041b",
              "IPY_MODEL_ef72957b4d024eb18092c8b873ecf6a5",
              "IPY_MODEL_03609ce838b3432ba9d7491e1926da96"
            ],
            "layout": "IPY_MODEL_d88e11b4bdfd4395bdde663a67324b02"
          }
        },
        "7aa85bab68fc45668d1174c159b0041b": {
          "model_module": "@jupyter-widgets/controls",
          "model_name": "HTMLModel",
          "model_module_version": "1.5.0",
          "state": {
            "_dom_classes": [],
            "_model_module": "@jupyter-widgets/controls",
            "_model_module_version": "1.5.0",
            "_model_name": "HTMLModel",
            "_view_count": null,
            "_view_module": "@jupyter-widgets/controls",
            "_view_module_version": "1.5.0",
            "_view_name": "HTMLView",
            "description": "",
            "description_tooltip": null,
            "layout": "IPY_MODEL_207bf37b5fbc41dfbc22c505e3548bc4",
            "placeholder": "​",
            "style": "IPY_MODEL_e5d71e9b9a56442d9022bb14046587f6",
            "value": "100%"
          }
        },
        "ef72957b4d024eb18092c8b873ecf6a5": {
          "model_module": "@jupyter-widgets/controls",
          "model_name": "FloatProgressModel",
          "model_module_version": "1.5.0",
          "state": {
            "_dom_classes": [],
            "_model_module": "@jupyter-widgets/controls",
            "_model_module_version": "1.5.0",
            "_model_name": "FloatProgressModel",
            "_view_count": null,
            "_view_module": "@jupyter-widgets/controls",
            "_view_module_version": "1.5.0",
            "_view_name": "ProgressView",
            "bar_style": "success",
            "description": "",
            "description_tooltip": null,
            "layout": "IPY_MODEL_8313307e64e743c6b5700c5f99220d83",
            "max": 28881,
            "min": 0,
            "orientation": "horizontal",
            "style": "IPY_MODEL_08a1ea6e81d74901bbae3b139cff12af",
            "value": 28881
          }
        },
        "03609ce838b3432ba9d7491e1926da96": {
          "model_module": "@jupyter-widgets/controls",
          "model_name": "HTMLModel",
          "model_module_version": "1.5.0",
          "state": {
            "_dom_classes": [],
            "_model_module": "@jupyter-widgets/controls",
            "_model_module_version": "1.5.0",
            "_model_name": "HTMLModel",
            "_view_count": null,
            "_view_module": "@jupyter-widgets/controls",
            "_view_module_version": "1.5.0",
            "_view_name": "HTMLView",
            "description": "",
            "description_tooltip": null,
            "layout": "IPY_MODEL_436a112fbac6495f9e2924fe8231c26b",
            "placeholder": "​",
            "style": "IPY_MODEL_8696bf59c8d34845ae8219c585a52a46",
            "value": " 28881/28881 [00:00&lt;00:00, 937423.15it/s]"
          }
        },
        "d88e11b4bdfd4395bdde663a67324b02": {
          "model_module": "@jupyter-widgets/base",
          "model_name": "LayoutModel",
          "model_module_version": "1.2.0",
          "state": {
            "_model_module": "@jupyter-widgets/base",
            "_model_module_version": "1.2.0",
            "_model_name": "LayoutModel",
            "_view_count": null,
            "_view_module": "@jupyter-widgets/base",
            "_view_module_version": "1.2.0",
            "_view_name": "LayoutView",
            "align_content": null,
            "align_items": null,
            "align_self": null,
            "border": null,
            "bottom": null,
            "display": null,
            "flex": null,
            "flex_flow": null,
            "grid_area": null,
            "grid_auto_columns": null,
            "grid_auto_flow": null,
            "grid_auto_rows": null,
            "grid_column": null,
            "grid_gap": null,
            "grid_row": null,
            "grid_template_areas": null,
            "grid_template_columns": null,
            "grid_template_rows": null,
            "height": null,
            "justify_content": null,
            "justify_items": null,
            "left": null,
            "margin": null,
            "max_height": null,
            "max_width": null,
            "min_height": null,
            "min_width": null,
            "object_fit": null,
            "object_position": null,
            "order": null,
            "overflow": null,
            "overflow_x": null,
            "overflow_y": null,
            "padding": null,
            "right": null,
            "top": null,
            "visibility": null,
            "width": null
          }
        },
        "207bf37b5fbc41dfbc22c505e3548bc4": {
          "model_module": "@jupyter-widgets/base",
          "model_name": "LayoutModel",
          "model_module_version": "1.2.0",
          "state": {
            "_model_module": "@jupyter-widgets/base",
            "_model_module_version": "1.2.0",
            "_model_name": "LayoutModel",
            "_view_count": null,
            "_view_module": "@jupyter-widgets/base",
            "_view_module_version": "1.2.0",
            "_view_name": "LayoutView",
            "align_content": null,
            "align_items": null,
            "align_self": null,
            "border": null,
            "bottom": null,
            "display": null,
            "flex": null,
            "flex_flow": null,
            "grid_area": null,
            "grid_auto_columns": null,
            "grid_auto_flow": null,
            "grid_auto_rows": null,
            "grid_column": null,
            "grid_gap": null,
            "grid_row": null,
            "grid_template_areas": null,
            "grid_template_columns": null,
            "grid_template_rows": null,
            "height": null,
            "justify_content": null,
            "justify_items": null,
            "left": null,
            "margin": null,
            "max_height": null,
            "max_width": null,
            "min_height": null,
            "min_width": null,
            "object_fit": null,
            "object_position": null,
            "order": null,
            "overflow": null,
            "overflow_x": null,
            "overflow_y": null,
            "padding": null,
            "right": null,
            "top": null,
            "visibility": null,
            "width": null
          }
        },
        "e5d71e9b9a56442d9022bb14046587f6": {
          "model_module": "@jupyter-widgets/controls",
          "model_name": "DescriptionStyleModel",
          "model_module_version": "1.5.0",
          "state": {
            "_model_module": "@jupyter-widgets/controls",
            "_model_module_version": "1.5.0",
            "_model_name": "DescriptionStyleModel",
            "_view_count": null,
            "_view_module": "@jupyter-widgets/base",
            "_view_module_version": "1.2.0",
            "_view_name": "StyleView",
            "description_width": ""
          }
        },
        "8313307e64e743c6b5700c5f99220d83": {
          "model_module": "@jupyter-widgets/base",
          "model_name": "LayoutModel",
          "model_module_version": "1.2.0",
          "state": {
            "_model_module": "@jupyter-widgets/base",
            "_model_module_version": "1.2.0",
            "_model_name": "LayoutModel",
            "_view_count": null,
            "_view_module": "@jupyter-widgets/base",
            "_view_module_version": "1.2.0",
            "_view_name": "LayoutView",
            "align_content": null,
            "align_items": null,
            "align_self": null,
            "border": null,
            "bottom": null,
            "display": null,
            "flex": null,
            "flex_flow": null,
            "grid_area": null,
            "grid_auto_columns": null,
            "grid_auto_flow": null,
            "grid_auto_rows": null,
            "grid_column": null,
            "grid_gap": null,
            "grid_row": null,
            "grid_template_areas": null,
            "grid_template_columns": null,
            "grid_template_rows": null,
            "height": null,
            "justify_content": null,
            "justify_items": null,
            "left": null,
            "margin": null,
            "max_height": null,
            "max_width": null,
            "min_height": null,
            "min_width": null,
            "object_fit": null,
            "object_position": null,
            "order": null,
            "overflow": null,
            "overflow_x": null,
            "overflow_y": null,
            "padding": null,
            "right": null,
            "top": null,
            "visibility": null,
            "width": null
          }
        },
        "08a1ea6e81d74901bbae3b139cff12af": {
          "model_module": "@jupyter-widgets/controls",
          "model_name": "ProgressStyleModel",
          "model_module_version": "1.5.0",
          "state": {
            "_model_module": "@jupyter-widgets/controls",
            "_model_module_version": "1.5.0",
            "_model_name": "ProgressStyleModel",
            "_view_count": null,
            "_view_module": "@jupyter-widgets/base",
            "_view_module_version": "1.2.0",
            "_view_name": "StyleView",
            "bar_color": null,
            "description_width": ""
          }
        },
        "436a112fbac6495f9e2924fe8231c26b": {
          "model_module": "@jupyter-widgets/base",
          "model_name": "LayoutModel",
          "model_module_version": "1.2.0",
          "state": {
            "_model_module": "@jupyter-widgets/base",
            "_model_module_version": "1.2.0",
            "_model_name": "LayoutModel",
            "_view_count": null,
            "_view_module": "@jupyter-widgets/base",
            "_view_module_version": "1.2.0",
            "_view_name": "LayoutView",
            "align_content": null,
            "align_items": null,
            "align_self": null,
            "border": null,
            "bottom": null,
            "display": null,
            "flex": null,
            "flex_flow": null,
            "grid_area": null,
            "grid_auto_columns": null,
            "grid_auto_flow": null,
            "grid_auto_rows": null,
            "grid_column": null,
            "grid_gap": null,
            "grid_row": null,
            "grid_template_areas": null,
            "grid_template_columns": null,
            "grid_template_rows": null,
            "height": null,
            "justify_content": null,
            "justify_items": null,
            "left": null,
            "margin": null,
            "max_height": null,
            "max_width": null,
            "min_height": null,
            "min_width": null,
            "object_fit": null,
            "object_position": null,
            "order": null,
            "overflow": null,
            "overflow_x": null,
            "overflow_y": null,
            "padding": null,
            "right": null,
            "top": null,
            "visibility": null,
            "width": null
          }
        },
        "8696bf59c8d34845ae8219c585a52a46": {
          "model_module": "@jupyter-widgets/controls",
          "model_name": "DescriptionStyleModel",
          "model_module_version": "1.5.0",
          "state": {
            "_model_module": "@jupyter-widgets/controls",
            "_model_module_version": "1.5.0",
            "_model_name": "DescriptionStyleModel",
            "_view_count": null,
            "_view_module": "@jupyter-widgets/base",
            "_view_module_version": "1.2.0",
            "_view_name": "StyleView",
            "description_width": ""
          }
        },
        "b032ed7059514316b750301ac3518536": {
          "model_module": "@jupyter-widgets/controls",
          "model_name": "HBoxModel",
          "model_module_version": "1.5.0",
          "state": {
            "_dom_classes": [],
            "_model_module": "@jupyter-widgets/controls",
            "_model_module_version": "1.5.0",
            "_model_name": "HBoxModel",
            "_view_count": null,
            "_view_module": "@jupyter-widgets/controls",
            "_view_module_version": "1.5.0",
            "_view_name": "HBoxView",
            "box_style": "",
            "children": [
              "IPY_MODEL_48928246eaea48b5897b7ef24df93c01",
              "IPY_MODEL_90447d0003274171851f39297881d4d2",
              "IPY_MODEL_6005cd8013c94183b1f2d9b50a66f00a"
            ],
            "layout": "IPY_MODEL_893fc864619848b49ff53131cc6d0753"
          }
        },
        "48928246eaea48b5897b7ef24df93c01": {
          "model_module": "@jupyter-widgets/controls",
          "model_name": "HTMLModel",
          "model_module_version": "1.5.0",
          "state": {
            "_dom_classes": [],
            "_model_module": "@jupyter-widgets/controls",
            "_model_module_version": "1.5.0",
            "_model_name": "HTMLModel",
            "_view_count": null,
            "_view_module": "@jupyter-widgets/controls",
            "_view_module_version": "1.5.0",
            "_view_name": "HTMLView",
            "description": "",
            "description_tooltip": null,
            "layout": "IPY_MODEL_46c0bf7089bf425b91a4082aa9c4d5be",
            "placeholder": "​",
            "style": "IPY_MODEL_c20d521955d74841a8cf9414ac4ed688",
            "value": "100%"
          }
        },
        "90447d0003274171851f39297881d4d2": {
          "model_module": "@jupyter-widgets/controls",
          "model_name": "FloatProgressModel",
          "model_module_version": "1.5.0",
          "state": {
            "_dom_classes": [],
            "_model_module": "@jupyter-widgets/controls",
            "_model_module_version": "1.5.0",
            "_model_name": "FloatProgressModel",
            "_view_count": null,
            "_view_module": "@jupyter-widgets/controls",
            "_view_module_version": "1.5.0",
            "_view_name": "ProgressView",
            "bar_style": "success",
            "description": "",
            "description_tooltip": null,
            "layout": "IPY_MODEL_56113b40a9d145abb014673e82eac538",
            "max": 1648877,
            "min": 0,
            "orientation": "horizontal",
            "style": "IPY_MODEL_365d56af29774a2bb94b14d3ef1b83ca",
            "value": 1648877
          }
        },
        "6005cd8013c94183b1f2d9b50a66f00a": {
          "model_module": "@jupyter-widgets/controls",
          "model_name": "HTMLModel",
          "model_module_version": "1.5.0",
          "state": {
            "_dom_classes": [],
            "_model_module": "@jupyter-widgets/controls",
            "_model_module_version": "1.5.0",
            "_model_name": "HTMLModel",
            "_view_count": null,
            "_view_module": "@jupyter-widgets/controls",
            "_view_module_version": "1.5.0",
            "_view_name": "HTMLView",
            "description": "",
            "description_tooltip": null,
            "layout": "IPY_MODEL_d4440fa216f84e20997eaff3a8d6484e",
            "placeholder": "​",
            "style": "IPY_MODEL_e3616b1bf1574d3e86bd3ec00670d228",
            "value": " 1648877/1648877 [00:00&lt;00:00, 15719510.30it/s]"
          }
        },
        "893fc864619848b49ff53131cc6d0753": {
          "model_module": "@jupyter-widgets/base",
          "model_name": "LayoutModel",
          "model_module_version": "1.2.0",
          "state": {
            "_model_module": "@jupyter-widgets/base",
            "_model_module_version": "1.2.0",
            "_model_name": "LayoutModel",
            "_view_count": null,
            "_view_module": "@jupyter-widgets/base",
            "_view_module_version": "1.2.0",
            "_view_name": "LayoutView",
            "align_content": null,
            "align_items": null,
            "align_self": null,
            "border": null,
            "bottom": null,
            "display": null,
            "flex": null,
            "flex_flow": null,
            "grid_area": null,
            "grid_auto_columns": null,
            "grid_auto_flow": null,
            "grid_auto_rows": null,
            "grid_column": null,
            "grid_gap": null,
            "grid_row": null,
            "grid_template_areas": null,
            "grid_template_columns": null,
            "grid_template_rows": null,
            "height": null,
            "justify_content": null,
            "justify_items": null,
            "left": null,
            "margin": null,
            "max_height": null,
            "max_width": null,
            "min_height": null,
            "min_width": null,
            "object_fit": null,
            "object_position": null,
            "order": null,
            "overflow": null,
            "overflow_x": null,
            "overflow_y": null,
            "padding": null,
            "right": null,
            "top": null,
            "visibility": null,
            "width": null
          }
        },
        "46c0bf7089bf425b91a4082aa9c4d5be": {
          "model_module": "@jupyter-widgets/base",
          "model_name": "LayoutModel",
          "model_module_version": "1.2.0",
          "state": {
            "_model_module": "@jupyter-widgets/base",
            "_model_module_version": "1.2.0",
            "_model_name": "LayoutModel",
            "_view_count": null,
            "_view_module": "@jupyter-widgets/base",
            "_view_module_version": "1.2.0",
            "_view_name": "LayoutView",
            "align_content": null,
            "align_items": null,
            "align_self": null,
            "border": null,
            "bottom": null,
            "display": null,
            "flex": null,
            "flex_flow": null,
            "grid_area": null,
            "grid_auto_columns": null,
            "grid_auto_flow": null,
            "grid_auto_rows": null,
            "grid_column": null,
            "grid_gap": null,
            "grid_row": null,
            "grid_template_areas": null,
            "grid_template_columns": null,
            "grid_template_rows": null,
            "height": null,
            "justify_content": null,
            "justify_items": null,
            "left": null,
            "margin": null,
            "max_height": null,
            "max_width": null,
            "min_height": null,
            "min_width": null,
            "object_fit": null,
            "object_position": null,
            "order": null,
            "overflow": null,
            "overflow_x": null,
            "overflow_y": null,
            "padding": null,
            "right": null,
            "top": null,
            "visibility": null,
            "width": null
          }
        },
        "c20d521955d74841a8cf9414ac4ed688": {
          "model_module": "@jupyter-widgets/controls",
          "model_name": "DescriptionStyleModel",
          "model_module_version": "1.5.0",
          "state": {
            "_model_module": "@jupyter-widgets/controls",
            "_model_module_version": "1.5.0",
            "_model_name": "DescriptionStyleModel",
            "_view_count": null,
            "_view_module": "@jupyter-widgets/base",
            "_view_module_version": "1.2.0",
            "_view_name": "StyleView",
            "description_width": ""
          }
        },
        "56113b40a9d145abb014673e82eac538": {
          "model_module": "@jupyter-widgets/base",
          "model_name": "LayoutModel",
          "model_module_version": "1.2.0",
          "state": {
            "_model_module": "@jupyter-widgets/base",
            "_model_module_version": "1.2.0",
            "_model_name": "LayoutModel",
            "_view_count": null,
            "_view_module": "@jupyter-widgets/base",
            "_view_module_version": "1.2.0",
            "_view_name": "LayoutView",
            "align_content": null,
            "align_items": null,
            "align_self": null,
            "border": null,
            "bottom": null,
            "display": null,
            "flex": null,
            "flex_flow": null,
            "grid_area": null,
            "grid_auto_columns": null,
            "grid_auto_flow": null,
            "grid_auto_rows": null,
            "grid_column": null,
            "grid_gap": null,
            "grid_row": null,
            "grid_template_areas": null,
            "grid_template_columns": null,
            "grid_template_rows": null,
            "height": null,
            "justify_content": null,
            "justify_items": null,
            "left": null,
            "margin": null,
            "max_height": null,
            "max_width": null,
            "min_height": null,
            "min_width": null,
            "object_fit": null,
            "object_position": null,
            "order": null,
            "overflow": null,
            "overflow_x": null,
            "overflow_y": null,
            "padding": null,
            "right": null,
            "top": null,
            "visibility": null,
            "width": null
          }
        },
        "365d56af29774a2bb94b14d3ef1b83ca": {
          "model_module": "@jupyter-widgets/controls",
          "model_name": "ProgressStyleModel",
          "model_module_version": "1.5.0",
          "state": {
            "_model_module": "@jupyter-widgets/controls",
            "_model_module_version": "1.5.0",
            "_model_name": "ProgressStyleModel",
            "_view_count": null,
            "_view_module": "@jupyter-widgets/base",
            "_view_module_version": "1.2.0",
            "_view_name": "StyleView",
            "bar_color": null,
            "description_width": ""
          }
        },
        "d4440fa216f84e20997eaff3a8d6484e": {
          "model_module": "@jupyter-widgets/base",
          "model_name": "LayoutModel",
          "model_module_version": "1.2.0",
          "state": {
            "_model_module": "@jupyter-widgets/base",
            "_model_module_version": "1.2.0",
            "_model_name": "LayoutModel",
            "_view_count": null,
            "_view_module": "@jupyter-widgets/base",
            "_view_module_version": "1.2.0",
            "_view_name": "LayoutView",
            "align_content": null,
            "align_items": null,
            "align_self": null,
            "border": null,
            "bottom": null,
            "display": null,
            "flex": null,
            "flex_flow": null,
            "grid_area": null,
            "grid_auto_columns": null,
            "grid_auto_flow": null,
            "grid_auto_rows": null,
            "grid_column": null,
            "grid_gap": null,
            "grid_row": null,
            "grid_template_areas": null,
            "grid_template_columns": null,
            "grid_template_rows": null,
            "height": null,
            "justify_content": null,
            "justify_items": null,
            "left": null,
            "margin": null,
            "max_height": null,
            "max_width": null,
            "min_height": null,
            "min_width": null,
            "object_fit": null,
            "object_position": null,
            "order": null,
            "overflow": null,
            "overflow_x": null,
            "overflow_y": null,
            "padding": null,
            "right": null,
            "top": null,
            "visibility": null,
            "width": null
          }
        },
        "e3616b1bf1574d3e86bd3ec00670d228": {
          "model_module": "@jupyter-widgets/controls",
          "model_name": "DescriptionStyleModel",
          "model_module_version": "1.5.0",
          "state": {
            "_model_module": "@jupyter-widgets/controls",
            "_model_module_version": "1.5.0",
            "_model_name": "DescriptionStyleModel",
            "_view_count": null,
            "_view_module": "@jupyter-widgets/base",
            "_view_module_version": "1.2.0",
            "_view_name": "StyleView",
            "description_width": ""
          }
        },
        "37e592e2765d4191b097e1aa83618df4": {
          "model_module": "@jupyter-widgets/controls",
          "model_name": "HBoxModel",
          "model_module_version": "1.5.0",
          "state": {
            "_dom_classes": [],
            "_model_module": "@jupyter-widgets/controls",
            "_model_module_version": "1.5.0",
            "_model_name": "HBoxModel",
            "_view_count": null,
            "_view_module": "@jupyter-widgets/controls",
            "_view_module_version": "1.5.0",
            "_view_name": "HBoxView",
            "box_style": "",
            "children": [
              "IPY_MODEL_f7d9a4886bbe4efca54d16845c9493c4",
              "IPY_MODEL_6351953fd6924810a290b203402f7406",
              "IPY_MODEL_5aac5f13cf624c5e96883d53d44b036b"
            ],
            "layout": "IPY_MODEL_556a1537328543e19f4c673b1b4beaae"
          }
        },
        "f7d9a4886bbe4efca54d16845c9493c4": {
          "model_module": "@jupyter-widgets/controls",
          "model_name": "HTMLModel",
          "model_module_version": "1.5.0",
          "state": {
            "_dom_classes": [],
            "_model_module": "@jupyter-widgets/controls",
            "_model_module_version": "1.5.0",
            "_model_name": "HTMLModel",
            "_view_count": null,
            "_view_module": "@jupyter-widgets/controls",
            "_view_module_version": "1.5.0",
            "_view_name": "HTMLView",
            "description": "",
            "description_tooltip": null,
            "layout": "IPY_MODEL_5a0cca9a686345e9a4f95a570b76d440",
            "placeholder": "​",
            "style": "IPY_MODEL_b6cdc51a7c4e4586a5fced606c803e2e",
            "value": "100%"
          }
        },
        "6351953fd6924810a290b203402f7406": {
          "model_module": "@jupyter-widgets/controls",
          "model_name": "FloatProgressModel",
          "model_module_version": "1.5.0",
          "state": {
            "_dom_classes": [],
            "_model_module": "@jupyter-widgets/controls",
            "_model_module_version": "1.5.0",
            "_model_name": "FloatProgressModel",
            "_view_count": null,
            "_view_module": "@jupyter-widgets/controls",
            "_view_module_version": "1.5.0",
            "_view_name": "ProgressView",
            "bar_style": "success",
            "description": "",
            "description_tooltip": null,
            "layout": "IPY_MODEL_d2a97f54fe5748f89bfc754b29f10f42",
            "max": 4542,
            "min": 0,
            "orientation": "horizontal",
            "style": "IPY_MODEL_b93a0941a50b499c82796df974531bd1",
            "value": 4542
          }
        },
        "5aac5f13cf624c5e96883d53d44b036b": {
          "model_module": "@jupyter-widgets/controls",
          "model_name": "HTMLModel",
          "model_module_version": "1.5.0",
          "state": {
            "_dom_classes": [],
            "_model_module": "@jupyter-widgets/controls",
            "_model_module_version": "1.5.0",
            "_model_name": "HTMLModel",
            "_view_count": null,
            "_view_module": "@jupyter-widgets/controls",
            "_view_module_version": "1.5.0",
            "_view_name": "HTMLView",
            "description": "",
            "description_tooltip": null,
            "layout": "IPY_MODEL_a65a075e291b4631956040c3c640f18c",
            "placeholder": "​",
            "style": "IPY_MODEL_0cd54040156d42e0ad25cc8a586dd257",
            "value": " 4542/4542 [00:00&lt;00:00, 197944.02it/s]"
          }
        },
        "556a1537328543e19f4c673b1b4beaae": {
          "model_module": "@jupyter-widgets/base",
          "model_name": "LayoutModel",
          "model_module_version": "1.2.0",
          "state": {
            "_model_module": "@jupyter-widgets/base",
            "_model_module_version": "1.2.0",
            "_model_name": "LayoutModel",
            "_view_count": null,
            "_view_module": "@jupyter-widgets/base",
            "_view_module_version": "1.2.0",
            "_view_name": "LayoutView",
            "align_content": null,
            "align_items": null,
            "align_self": null,
            "border": null,
            "bottom": null,
            "display": null,
            "flex": null,
            "flex_flow": null,
            "grid_area": null,
            "grid_auto_columns": null,
            "grid_auto_flow": null,
            "grid_auto_rows": null,
            "grid_column": null,
            "grid_gap": null,
            "grid_row": null,
            "grid_template_areas": null,
            "grid_template_columns": null,
            "grid_template_rows": null,
            "height": null,
            "justify_content": null,
            "justify_items": null,
            "left": null,
            "margin": null,
            "max_height": null,
            "max_width": null,
            "min_height": null,
            "min_width": null,
            "object_fit": null,
            "object_position": null,
            "order": null,
            "overflow": null,
            "overflow_x": null,
            "overflow_y": null,
            "padding": null,
            "right": null,
            "top": null,
            "visibility": null,
            "width": null
          }
        },
        "5a0cca9a686345e9a4f95a570b76d440": {
          "model_module": "@jupyter-widgets/base",
          "model_name": "LayoutModel",
          "model_module_version": "1.2.0",
          "state": {
            "_model_module": "@jupyter-widgets/base",
            "_model_module_version": "1.2.0",
            "_model_name": "LayoutModel",
            "_view_count": null,
            "_view_module": "@jupyter-widgets/base",
            "_view_module_version": "1.2.0",
            "_view_name": "LayoutView",
            "align_content": null,
            "align_items": null,
            "align_self": null,
            "border": null,
            "bottom": null,
            "display": null,
            "flex": null,
            "flex_flow": null,
            "grid_area": null,
            "grid_auto_columns": null,
            "grid_auto_flow": null,
            "grid_auto_rows": null,
            "grid_column": null,
            "grid_gap": null,
            "grid_row": null,
            "grid_template_areas": null,
            "grid_template_columns": null,
            "grid_template_rows": null,
            "height": null,
            "justify_content": null,
            "justify_items": null,
            "left": null,
            "margin": null,
            "max_height": null,
            "max_width": null,
            "min_height": null,
            "min_width": null,
            "object_fit": null,
            "object_position": null,
            "order": null,
            "overflow": null,
            "overflow_x": null,
            "overflow_y": null,
            "padding": null,
            "right": null,
            "top": null,
            "visibility": null,
            "width": null
          }
        },
        "b6cdc51a7c4e4586a5fced606c803e2e": {
          "model_module": "@jupyter-widgets/controls",
          "model_name": "DescriptionStyleModel",
          "model_module_version": "1.5.0",
          "state": {
            "_model_module": "@jupyter-widgets/controls",
            "_model_module_version": "1.5.0",
            "_model_name": "DescriptionStyleModel",
            "_view_count": null,
            "_view_module": "@jupyter-widgets/base",
            "_view_module_version": "1.2.0",
            "_view_name": "StyleView",
            "description_width": ""
          }
        },
        "d2a97f54fe5748f89bfc754b29f10f42": {
          "model_module": "@jupyter-widgets/base",
          "model_name": "LayoutModel",
          "model_module_version": "1.2.0",
          "state": {
            "_model_module": "@jupyter-widgets/base",
            "_model_module_version": "1.2.0",
            "_model_name": "LayoutModel",
            "_view_count": null,
            "_view_module": "@jupyter-widgets/base",
            "_view_module_version": "1.2.0",
            "_view_name": "LayoutView",
            "align_content": null,
            "align_items": null,
            "align_self": null,
            "border": null,
            "bottom": null,
            "display": null,
            "flex": null,
            "flex_flow": null,
            "grid_area": null,
            "grid_auto_columns": null,
            "grid_auto_flow": null,
            "grid_auto_rows": null,
            "grid_column": null,
            "grid_gap": null,
            "grid_row": null,
            "grid_template_areas": null,
            "grid_template_columns": null,
            "grid_template_rows": null,
            "height": null,
            "justify_content": null,
            "justify_items": null,
            "left": null,
            "margin": null,
            "max_height": null,
            "max_width": null,
            "min_height": null,
            "min_width": null,
            "object_fit": null,
            "object_position": null,
            "order": null,
            "overflow": null,
            "overflow_x": null,
            "overflow_y": null,
            "padding": null,
            "right": null,
            "top": null,
            "visibility": null,
            "width": null
          }
        },
        "b93a0941a50b499c82796df974531bd1": {
          "model_module": "@jupyter-widgets/controls",
          "model_name": "ProgressStyleModel",
          "model_module_version": "1.5.0",
          "state": {
            "_model_module": "@jupyter-widgets/controls",
            "_model_module_version": "1.5.0",
            "_model_name": "ProgressStyleModel",
            "_view_count": null,
            "_view_module": "@jupyter-widgets/base",
            "_view_module_version": "1.2.0",
            "_view_name": "StyleView",
            "bar_color": null,
            "description_width": ""
          }
        },
        "a65a075e291b4631956040c3c640f18c": {
          "model_module": "@jupyter-widgets/base",
          "model_name": "LayoutModel",
          "model_module_version": "1.2.0",
          "state": {
            "_model_module": "@jupyter-widgets/base",
            "_model_module_version": "1.2.0",
            "_model_name": "LayoutModel",
            "_view_count": null,
            "_view_module": "@jupyter-widgets/base",
            "_view_module_version": "1.2.0",
            "_view_name": "LayoutView",
            "align_content": null,
            "align_items": null,
            "align_self": null,
            "border": null,
            "bottom": null,
            "display": null,
            "flex": null,
            "flex_flow": null,
            "grid_area": null,
            "grid_auto_columns": null,
            "grid_auto_flow": null,
            "grid_auto_rows": null,
            "grid_column": null,
            "grid_gap": null,
            "grid_row": null,
            "grid_template_areas": null,
            "grid_template_columns": null,
            "grid_template_rows": null,
            "height": null,
            "justify_content": null,
            "justify_items": null,
            "left": null,
            "margin": null,
            "max_height": null,
            "max_width": null,
            "min_height": null,
            "min_width": null,
            "object_fit": null,
            "object_position": null,
            "order": null,
            "overflow": null,
            "overflow_x": null,
            "overflow_y": null,
            "padding": null,
            "right": null,
            "top": null,
            "visibility": null,
            "width": null
          }
        },
        "0cd54040156d42e0ad25cc8a586dd257": {
          "model_module": "@jupyter-widgets/controls",
          "model_name": "DescriptionStyleModel",
          "model_module_version": "1.5.0",
          "state": {
            "_model_module": "@jupyter-widgets/controls",
            "_model_module_version": "1.5.0",
            "_model_name": "DescriptionStyleModel",
            "_view_count": null,
            "_view_module": "@jupyter-widgets/base",
            "_view_module_version": "1.2.0",
            "_view_name": "StyleView",
            "description_width": ""
          }
        }
      }
    }
  },
  "cells": [
    {
      "cell_type": "markdown",
      "metadata": {
        "id": "view-in-github",
        "colab_type": "text"
      },
      "source": [
        "<a href=\"https://colab.research.google.com/github/peeyushsinghal/ContinualLearning/blob/main/EWC_experiment.ipynb\" target=\"_parent\"><img src=\"https://colab.research.google.com/assets/colab-badge.svg\" alt=\"Open In Colab\"/></a>"
      ]
    },
    {
      "cell_type": "markdown",
      "source": [
        "## Importing Libraries"
      ],
      "metadata": {
        "id": "-t8BCmUKNuMb"
      }
    },
    {
      "cell_type": "code",
      "source": [
        "import torch\n",
        "import torch.nn as nn\n",
        "import torch.nn.functional as F\n",
        "import torch.optim as optim\n",
        "from torchvision import datasets, transforms\n",
        "from torchsummary import summary\n",
        "%matplotlib inline\n",
        "import matplotlib.pyplot as plt\n",
        "import random\n",
        "import warnings\n",
        "warnings.filterwarnings('ignore')\n",
        "from torch.autograd import Variable\n",
        "from copy import deepcopy\n",
        "from tqdm import tqdm"
      ],
      "metadata": {
        "id": "mew9xHnvzdXc"
      },
      "execution_count": 1,
      "outputs": []
    },
    {
      "cell_type": "code",
      "source": [
        "use_cuda = torch.cuda.is_available()\n",
        "device = torch.device(\"cuda\" if use_cuda else \"cpu\")\n",
        "device"
      ],
      "metadata": {
        "colab": {
          "base_uri": "https://localhost:8080/"
        },
        "id": "W2Bg56Nd0C21",
        "outputId": "fd2e2477-82fb-4770-f6e7-65ea43f5e234"
      },
      "execution_count": 2,
      "outputs": [
        {
          "output_type": "execute_result",
          "data": {
            "text/plain": [
              "device(type='cuda')"
            ]
          },
          "metadata": {},
          "execution_count": 2
        }
      ]
    },
    {
      "cell_type": "code",
      "source": [
        "def mnist_imshow(img):\n",
        "    plt.imshow(img.reshape([28,28]), cmap=\"gray\")\n",
        "    plt.axis('off')\n",
        "    plt.show()"
      ],
      "metadata": {
        "id": "UozkbtMB0PQh"
      },
      "execution_count": 3,
      "outputs": []
    },
    {
      "cell_type": "code",
      "source": [
        "#@title Experiment Constants\n",
        "epochs = 2\n",
        "epochs = 50\n",
        "lr = 1e-3\n",
        "batch_size = 128\n",
        "sample_size = 200\n",
        "hidden_size = 200\n",
        "num_task = 3 # Number of tasks, task 1 we would not have any permutation\n",
        "batch_size = 128"
      ],
      "metadata": {
        "id": "ir_1lR-lOK6u"
      },
      "execution_count": 4,
      "outputs": []
    },
    {
      "cell_type": "markdown",
      "source": [
        "## Dataset and Dataloader"
      ],
      "metadata": {
        "id": "xPwKwrauAz2w"
      }
    },
    {
      "cell_type": "code",
      "source": [
        "class PermutedMNIST(datasets.MNIST):\n",
        "\n",
        "    def __init__(self, root=\"~/.torch/data/mnist\", train=True, permute_idx=None):\n",
        "        super(PermutedMNIST, self).__init__(root, train, download=True)\n",
        "        assert len(permute_idx) == 28 * 28\n",
        "        if self.train:\n",
        "          # print(\"data\", type(self.train_data),type(self.train_data[0]),self.train_data.shape, self.train_data[0].shape, self.train_data[0])\n",
        "          self.training_data= torch.stack([img.float().view(-1)[permute_idx] / 255 for img in self.train_data])\n",
        "          self.training_labels = self.train_labels\n",
        "        else:\n",
        "          self.testing_data = torch.stack([img.float().view(-1)[permute_idx] / 255 for img in self.test_data])\n",
        "          self.testing_labels = self.test_labels\n",
        "\n",
        "    def __getitem__(self, index):\n",
        "\n",
        "        if self.train:\n",
        "            img, target = self.training_data[index], self.training_labels[index]\n",
        "        else:\n",
        "            img, target = self.testing_data[index], self.testing_labels[index]\n",
        "\n",
        "        return img, target\n",
        "\n",
        "    def get_sample(self, sample_size):\n",
        "        sample_idx = random.sample(range(len(self)), sample_size)\n",
        "        return [img for img in self.training_data[sample_idx]]"
      ],
      "metadata": {
        "id": "wIIODGl2239_"
      },
      "execution_count": 5,
      "outputs": []
    },
    {
      "cell_type": "code",
      "source": [
        "def get_permute_mnist():\n",
        "    train_loader = {}\n",
        "    test_loader = {}\n",
        "    idx = list(range(28 * 28)) # first time there is no shuffle\n",
        "    for i in range(num_task):\n",
        "        train_loader[i] = torch.utils.data.DataLoader(PermutedMNIST(train=True, permute_idx=idx),\n",
        "                                                      batch_size=batch_size,\n",
        "                                                      num_workers=4)\n",
        "        test_loader[i] = torch.utils.data.DataLoader(PermutedMNIST(train=False, permute_idx=idx),\n",
        "                                                     batch_size=batch_size)\n",
        "        print(f'Index for  task {i} \\n {idx}')\n",
        "        idx = random.sample(idx, len(idx))\n",
        "    return train_loader, test_loader \n",
        "\n",
        "\n",
        "train_loader, test_loader = get_permute_mnist()"
      ],
      "metadata": {
        "colab": {
          "base_uri": "https://localhost:8080/",
          "height": 547,
          "referenced_widgets": [
            "217aa4aaeeed4423a0cbd53e5297464c",
            "ef60cffdd13c4578ac879164987fb2a8",
            "9593bd25813b476fbf9b29a33e7f69af",
            "5a771ced2b294dc8bc532d775bb404d4",
            "c89655c5ab6146b29231238246a9d33b",
            "1a398bd0c122499584e087badc9f9b1e",
            "5b713a6653cf4c758eb964fcda6ef431",
            "0005657fd59546c29e27d147ee28fcb6",
            "51bcf3692f8f4a35b987726785c6ddbd",
            "18b0d64dab4747dbb8c20a69c8b02c62",
            "8160b2ae2f3b4d498007ed5f93a6f56c",
            "f03322b287844e48b2c0096b16f71712",
            "7aa85bab68fc45668d1174c159b0041b",
            "ef72957b4d024eb18092c8b873ecf6a5",
            "03609ce838b3432ba9d7491e1926da96",
            "d88e11b4bdfd4395bdde663a67324b02",
            "207bf37b5fbc41dfbc22c505e3548bc4",
            "e5d71e9b9a56442d9022bb14046587f6",
            "8313307e64e743c6b5700c5f99220d83",
            "08a1ea6e81d74901bbae3b139cff12af",
            "436a112fbac6495f9e2924fe8231c26b",
            "8696bf59c8d34845ae8219c585a52a46",
            "b032ed7059514316b750301ac3518536",
            "48928246eaea48b5897b7ef24df93c01",
            "90447d0003274171851f39297881d4d2",
            "6005cd8013c94183b1f2d9b50a66f00a",
            "893fc864619848b49ff53131cc6d0753",
            "46c0bf7089bf425b91a4082aa9c4d5be",
            "c20d521955d74841a8cf9414ac4ed688",
            "56113b40a9d145abb014673e82eac538",
            "365d56af29774a2bb94b14d3ef1b83ca",
            "d4440fa216f84e20997eaff3a8d6484e",
            "e3616b1bf1574d3e86bd3ec00670d228",
            "37e592e2765d4191b097e1aa83618df4",
            "f7d9a4886bbe4efca54d16845c9493c4",
            "6351953fd6924810a290b203402f7406",
            "5aac5f13cf624c5e96883d53d44b036b",
            "556a1537328543e19f4c673b1b4beaae",
            "5a0cca9a686345e9a4f95a570b76d440",
            "b6cdc51a7c4e4586a5fced606c803e2e",
            "d2a97f54fe5748f89bfc754b29f10f42",
            "b93a0941a50b499c82796df974531bd1",
            "a65a075e291b4631956040c3c640f18c",
            "0cd54040156d42e0ad25cc8a586dd257"
          ]
        },
        "id": "5RmbGeB54SLO",
        "outputId": "4c723610-9425-44fd-dd91-acdcbef84eab"
      },
      "execution_count": 6,
      "outputs": [
        {
          "output_type": "stream",
          "name": "stdout",
          "text": [
            "Downloading http://yann.lecun.com/exdb/mnist/train-images-idx3-ubyte.gz\n",
            "Downloading http://yann.lecun.com/exdb/mnist/train-images-idx3-ubyte.gz to /root/.torch/data/mnist/PermutedMNIST/raw/train-images-idx3-ubyte.gz\n"
          ]
        },
        {
          "output_type": "display_data",
          "data": {
            "text/plain": [
              "  0%|          | 0/9912422 [00:00<?, ?it/s]"
            ],
            "application/vnd.jupyter.widget-view+json": {
              "version_major": 2,
              "version_minor": 0,
              "model_id": "217aa4aaeeed4423a0cbd53e5297464c"
            }
          },
          "metadata": {}
        },
        {
          "output_type": "stream",
          "name": "stdout",
          "text": [
            "Extracting /root/.torch/data/mnist/PermutedMNIST/raw/train-images-idx3-ubyte.gz to /root/.torch/data/mnist/PermutedMNIST/raw\n",
            "\n",
            "Downloading http://yann.lecun.com/exdb/mnist/train-labels-idx1-ubyte.gz\n",
            "Downloading http://yann.lecun.com/exdb/mnist/train-labels-idx1-ubyte.gz to /root/.torch/data/mnist/PermutedMNIST/raw/train-labels-idx1-ubyte.gz\n"
          ]
        },
        {
          "output_type": "display_data",
          "data": {
            "text/plain": [
              "  0%|          | 0/28881 [00:00<?, ?it/s]"
            ],
            "application/vnd.jupyter.widget-view+json": {
              "version_major": 2,
              "version_minor": 0,
              "model_id": "f03322b287844e48b2c0096b16f71712"
            }
          },
          "metadata": {}
        },
        {
          "output_type": "stream",
          "name": "stdout",
          "text": [
            "Extracting /root/.torch/data/mnist/PermutedMNIST/raw/train-labels-idx1-ubyte.gz to /root/.torch/data/mnist/PermutedMNIST/raw\n",
            "\n",
            "Downloading http://yann.lecun.com/exdb/mnist/t10k-images-idx3-ubyte.gz\n",
            "Downloading http://yann.lecun.com/exdb/mnist/t10k-images-idx3-ubyte.gz to /root/.torch/data/mnist/PermutedMNIST/raw/t10k-images-idx3-ubyte.gz\n"
          ]
        },
        {
          "output_type": "display_data",
          "data": {
            "text/plain": [
              "  0%|          | 0/1648877 [00:00<?, ?it/s]"
            ],
            "application/vnd.jupyter.widget-view+json": {
              "version_major": 2,
              "version_minor": 0,
              "model_id": "b032ed7059514316b750301ac3518536"
            }
          },
          "metadata": {}
        },
        {
          "output_type": "stream",
          "name": "stdout",
          "text": [
            "Extracting /root/.torch/data/mnist/PermutedMNIST/raw/t10k-images-idx3-ubyte.gz to /root/.torch/data/mnist/PermutedMNIST/raw\n",
            "\n",
            "Downloading http://yann.lecun.com/exdb/mnist/t10k-labels-idx1-ubyte.gz\n",
            "Downloading http://yann.lecun.com/exdb/mnist/t10k-labels-idx1-ubyte.gz to /root/.torch/data/mnist/PermutedMNIST/raw/t10k-labels-idx1-ubyte.gz\n"
          ]
        },
        {
          "output_type": "display_data",
          "data": {
            "text/plain": [
              "  0%|          | 0/4542 [00:00<?, ?it/s]"
            ],
            "application/vnd.jupyter.widget-view+json": {
              "version_major": 2,
              "version_minor": 0,
              "model_id": "37e592e2765d4191b097e1aa83618df4"
            }
          },
          "metadata": {}
        },
        {
          "output_type": "stream",
          "name": "stdout",
          "text": [
            "Extracting /root/.torch/data/mnist/PermutedMNIST/raw/t10k-labels-idx1-ubyte.gz to /root/.torch/data/mnist/PermutedMNIST/raw\n",
            "\n",
            "Index for  task 0 \n",
            " [0, 1, 2, 3, 4, 5, 6, 7, 8, 9, 10, 11, 12, 13, 14, 15, 16, 17, 18, 19, 20, 21, 22, 23, 24, 25, 26, 27, 28, 29, 30, 31, 32, 33, 34, 35, 36, 37, 38, 39, 40, 41, 42, 43, 44, 45, 46, 47, 48, 49, 50, 51, 52, 53, 54, 55, 56, 57, 58, 59, 60, 61, 62, 63, 64, 65, 66, 67, 68, 69, 70, 71, 72, 73, 74, 75, 76, 77, 78, 79, 80, 81, 82, 83, 84, 85, 86, 87, 88, 89, 90, 91, 92, 93, 94, 95, 96, 97, 98, 99, 100, 101, 102, 103, 104, 105, 106, 107, 108, 109, 110, 111, 112, 113, 114, 115, 116, 117, 118, 119, 120, 121, 122, 123, 124, 125, 126, 127, 128, 129, 130, 131, 132, 133, 134, 135, 136, 137, 138, 139, 140, 141, 142, 143, 144, 145, 146, 147, 148, 149, 150, 151, 152, 153, 154, 155, 156, 157, 158, 159, 160, 161, 162, 163, 164, 165, 166, 167, 168, 169, 170, 171, 172, 173, 174, 175, 176, 177, 178, 179, 180, 181, 182, 183, 184, 185, 186, 187, 188, 189, 190, 191, 192, 193, 194, 195, 196, 197, 198, 199, 200, 201, 202, 203, 204, 205, 206, 207, 208, 209, 210, 211, 212, 213, 214, 215, 216, 217, 218, 219, 220, 221, 222, 223, 224, 225, 226, 227, 228, 229, 230, 231, 232, 233, 234, 235, 236, 237, 238, 239, 240, 241, 242, 243, 244, 245, 246, 247, 248, 249, 250, 251, 252, 253, 254, 255, 256, 257, 258, 259, 260, 261, 262, 263, 264, 265, 266, 267, 268, 269, 270, 271, 272, 273, 274, 275, 276, 277, 278, 279, 280, 281, 282, 283, 284, 285, 286, 287, 288, 289, 290, 291, 292, 293, 294, 295, 296, 297, 298, 299, 300, 301, 302, 303, 304, 305, 306, 307, 308, 309, 310, 311, 312, 313, 314, 315, 316, 317, 318, 319, 320, 321, 322, 323, 324, 325, 326, 327, 328, 329, 330, 331, 332, 333, 334, 335, 336, 337, 338, 339, 340, 341, 342, 343, 344, 345, 346, 347, 348, 349, 350, 351, 352, 353, 354, 355, 356, 357, 358, 359, 360, 361, 362, 363, 364, 365, 366, 367, 368, 369, 370, 371, 372, 373, 374, 375, 376, 377, 378, 379, 380, 381, 382, 383, 384, 385, 386, 387, 388, 389, 390, 391, 392, 393, 394, 395, 396, 397, 398, 399, 400, 401, 402, 403, 404, 405, 406, 407, 408, 409, 410, 411, 412, 413, 414, 415, 416, 417, 418, 419, 420, 421, 422, 423, 424, 425, 426, 427, 428, 429, 430, 431, 432, 433, 434, 435, 436, 437, 438, 439, 440, 441, 442, 443, 444, 445, 446, 447, 448, 449, 450, 451, 452, 453, 454, 455, 456, 457, 458, 459, 460, 461, 462, 463, 464, 465, 466, 467, 468, 469, 470, 471, 472, 473, 474, 475, 476, 477, 478, 479, 480, 481, 482, 483, 484, 485, 486, 487, 488, 489, 490, 491, 492, 493, 494, 495, 496, 497, 498, 499, 500, 501, 502, 503, 504, 505, 506, 507, 508, 509, 510, 511, 512, 513, 514, 515, 516, 517, 518, 519, 520, 521, 522, 523, 524, 525, 526, 527, 528, 529, 530, 531, 532, 533, 534, 535, 536, 537, 538, 539, 540, 541, 542, 543, 544, 545, 546, 547, 548, 549, 550, 551, 552, 553, 554, 555, 556, 557, 558, 559, 560, 561, 562, 563, 564, 565, 566, 567, 568, 569, 570, 571, 572, 573, 574, 575, 576, 577, 578, 579, 580, 581, 582, 583, 584, 585, 586, 587, 588, 589, 590, 591, 592, 593, 594, 595, 596, 597, 598, 599, 600, 601, 602, 603, 604, 605, 606, 607, 608, 609, 610, 611, 612, 613, 614, 615, 616, 617, 618, 619, 620, 621, 622, 623, 624, 625, 626, 627, 628, 629, 630, 631, 632, 633, 634, 635, 636, 637, 638, 639, 640, 641, 642, 643, 644, 645, 646, 647, 648, 649, 650, 651, 652, 653, 654, 655, 656, 657, 658, 659, 660, 661, 662, 663, 664, 665, 666, 667, 668, 669, 670, 671, 672, 673, 674, 675, 676, 677, 678, 679, 680, 681, 682, 683, 684, 685, 686, 687, 688, 689, 690, 691, 692, 693, 694, 695, 696, 697, 698, 699, 700, 701, 702, 703, 704, 705, 706, 707, 708, 709, 710, 711, 712, 713, 714, 715, 716, 717, 718, 719, 720, 721, 722, 723, 724, 725, 726, 727, 728, 729, 730, 731, 732, 733, 734, 735, 736, 737, 738, 739, 740, 741, 742, 743, 744, 745, 746, 747, 748, 749, 750, 751, 752, 753, 754, 755, 756, 757, 758, 759, 760, 761, 762, 763, 764, 765, 766, 767, 768, 769, 770, 771, 772, 773, 774, 775, 776, 777, 778, 779, 780, 781, 782, 783]\n",
            "Index for  task 1 \n",
            " [88, 322, 529, 133, 541, 114, 695, 280, 117, 766, 274, 329, 185, 77, 602, 422, 379, 562, 383, 696, 655, 55, 90, 279, 406, 266, 437, 470, 565, 245, 163, 521, 740, 520, 577, 673, 729, 281, 367, 41, 635, 752, 601, 756, 365, 547, 106, 283, 211, 191, 51, 719, 481, 604, 377, 559, 10, 307, 770, 435, 362, 543, 779, 398, 658, 18, 22, 553, 688, 335, 589, 268, 732, 578, 207, 5, 76, 478, 510, 388, 444, 389, 609, 450, 39, 19, 157, 434, 228, 443, 65, 618, 223, 545, 733, 21, 331, 357, 346, 342, 746, 359, 288, 192, 490, 101, 419, 71, 500, 171, 108, 318, 369, 506, 686, 765, 616, 623, 654, 621, 755, 94, 590, 395, 320, 158, 503, 502, 131, 396, 668, 197, 255, 323, 109, 227, 736, 152, 712, 355, 703, 558, 579, 679, 151, 177, 72, 636, 580, 273, 611, 739, 27, 723, 640, 421, 632, 45, 717, 477, 0, 122, 251, 193, 511, 526, 691, 716, 417, 153, 147, 457, 84, 200, 121, 633, 306, 248, 531, 473, 675, 17, 3, 332, 240, 454, 286, 626, 687, 16, 708, 451, 123, 517, 596, 265, 527, 210, 246, 372, 773, 247, 608, 24, 4, 741, 183, 509, 518, 715, 749, 7, 270, 483, 46, 507, 767, 81, 592, 60, 129, 75, 747, 325, 587, 463, 645, 644, 35, 415, 173, 643, 576, 14, 622, 427, 244, 375, 404, 116, 316, 360, 448, 711, 47, 702, 93, 486, 42, 391, 501, 205, 735, 59, 724, 390, 113, 79, 624, 426, 206, 298, 343, 731, 569, 257, 657, 53, 178, 408, 166, 586, 726, 159, 119, 582, 69, 634, 614, 338, 127, 110, 488, 8, 139, 615, 399, 474, 293, 209, 467, 174, 269, 61, 64, 380, 128, 134, 262, 361, 552, 189, 472, 499, 600, 709, 742, 58, 772, 744, 512, 278, 20, 548, 409, 333, 725, 336, 241, 597, 373, 28, 661, 498, 315, 253, 667, 136, 397, 217, 175, 441, 664, 89, 737, 678, 161, 684, 313, 781, 403, 484, 727, 261, 607, 111, 282, 760, 430, 156, 456, 516, 308, 505, 181, 485, 309, 91, 319, 745, 420, 638, 351, 102, 49, 99, 36, 144, 763, 561, 762, 187, 68, 573, 56, 672, 148, 337, 783, 259, 198, 659, 321, 595, 1, 606, 465, 9, 722, 574, 385, 105, 208, 249, 221, 493, 674, 394, 215, 368, 619, 479, 637, 314, 2, 570, 646, 567, 551, 554, 87, 487, 195, 126, 143, 345, 271, 452, 584, 524, 639, 777, 568, 229, 540, 83, 104, 112, 462, 748, 34, 761, 494, 37, 649, 250, 184, 328, 491, 236, 164, 140, 705, 50, 115, 571, 363, 73, 557, 475, 242, 407, 48, 581, 519, 537, 508, 546, 585, 78, 254, 627, 165, 757, 31, 220, 402, 610, 412, 721, 594, 297, 710, 700, 631, 598, 651, 356, 25, 671, 759, 401, 353, 124, 734, 305, 38, 374, 179, 560, 182, 201, 23, 378, 97, 774, 455, 203, 620, 180, 294, 566, 212, 96, 666, 694, 738, 728, 135, 539, 52, 138, 460, 92, 149, 141, 194, 350, 466, 54, 469, 326, 677, 202, 599, 176, 146, 344, 100, 291, 276, 751, 85, 339, 275, 169, 204, 628, 13, 588, 683, 707, 295, 514, 431, 697, 311, 370, 496, 442, 292, 300, 641, 387, 231, 414, 522, 425, 782, 352, 692, 528, 698, 44, 663, 446, 304, 436, 252, 287, 445, 237, 603, 243, 239, 260, 258, 12, 769, 277, 775, 218, 468, 130, 188, 132, 556, 349, 213, 652, 647, 680, 301, 186, 70, 613, 704, 400, 224, 222, 701, 284, 82, 439, 513, 62, 86, 650, 40, 330, 216, 653, 764, 530, 429, 669, 482, 214, 289, 348, 296, 384, 230, 219, 424, 256, 447, 625, 303, 264, 405, 67, 656, 754, 145, 440, 98, 310, 758, 750, 238, 449, 411, 234, 290, 317, 564, 233, 489, 154, 714, 471, 538, 542, 433, 347, 354, 693, 199, 453, 480, 476, 630, 689, 497, 57, 492, 196, 605, 612, 617, 267, 95, 432, 676, 713, 341, 299, 591, 11, 155, 160, 381, 272, 771, 358, 142, 706, 778, 386, 63, 593, 137, 423, 642, 523, 376, 190, 150, 172, 743, 312, 364, 458, 125, 15, 168, 263, 120, 572, 327, 232, 662, 33, 535, 681, 334, 43, 495, 366, 753, 550, 410, 464, 225, 720, 536, 162, 6, 780, 555, 235, 682, 544, 776, 629, 699, 685, 660, 438, 504, 371, 515, 575, 107, 74, 583, 525, 730, 459, 167, 428, 461, 26, 690, 30, 66, 648, 170, 80, 382, 418, 534, 29, 549, 533, 285, 665, 670, 393, 226, 413, 118, 718, 392, 768, 302, 563, 32, 324, 532, 103, 416, 340]\n",
            "Index for  task 2 \n",
            " [539, 97, 28, 766, 641, 608, 379, 448, 403, 738, 719, 322, 664, 651, 654, 453, 666, 455, 667, 240, 514, 423, 640, 678, 148, 606, 599, 168, 768, 214, 711, 236, 503, 210, 414, 602, 497, 674, 306, 545, 435, 532, 457, 522, 32, 703, 285, 611, 371, 582, 388, 167, 759, 189, 51, 103, 705, 625, 62, 462, 748, 471, 142, 113, 98, 173, 710, 737, 5, 731, 419, 21, 753, 102, 616, 446, 234, 772, 76, 223, 618, 584, 239, 329, 316, 485, 603, 256, 424, 44, 162, 488, 79, 686, 277, 90, 520, 171, 647, 749, 642, 745, 163, 434, 288, 612, 188, 639, 231, 351, 82, 198, 756, 298, 438, 402, 315, 699, 540, 572, 57, 307, 671, 359, 248, 433, 49, 290, 158, 78, 523, 156, 411, 554, 313, 493, 161, 569, 166, 615, 132, 225, 264, 144, 370, 143, 739, 751, 687, 609, 226, 577, 377, 91, 661, 439, 7, 736, 274, 528, 629, 726, 331, 494, 93, 104, 563, 573, 190, 365, 740, 517, 656, 350, 400, 278, 724, 81, 404, 34, 380, 644, 207, 437, 568, 343, 443, 645, 215, 94, 383, 181, 269, 137, 125, 650, 89, 199, 320, 155, 676, 490, 209, 232, 755, 412, 99, 1, 761, 340, 243, 381, 335, 376, 23, 734, 326, 18, 697, 348, 754, 704, 696, 596, 775, 11, 512, 276, 115, 70, 550, 425, 475, 555, 583, 484, 262, 108, 206, 624, 701, 195, 605, 312, 327, 430, 154, 449, 713, 552, 31, 10, 47, 593, 29, 706, 63, 536, 677, 634, 613, 511, 590, 184, 534, 12, 282, 283, 396, 263, 213, 579, 604, 230, 630, 513, 648, 295, 120, 716, 182, 368, 421, 178, 45, 71, 151, 172, 222, 86, 707, 628, 14, 50, 518, 299, 479, 205, 300, 548, 126, 38, 111, 355, 581, 447, 95, 652, 358, 164, 35, 417, 391, 354, 422, 561, 541, 387, 546, 346, 201, 501, 212, 586, 254, 665, 670, 297, 632, 721, 141, 463, 229, 317, 638, 415, 364, 85, 328, 122, 762, 67, 2, 341, 110, 454, 385, 509, 128, 506, 194, 347, 247, 242, 319, 257, 356, 217, 728, 333, 765, 580, 695, 747, 338, 614, 709, 597, 58, 372, 235, 413, 211, 492, 658, 53, 576, 547, 80, 469, 549, 760, 429, 773, 720, 179, 378, 779, 109, 43, 767, 33, 774, 73, 36, 543, 458, 600, 259, 66, 305, 258, 169, 459, 303, 684, 116, 567, 468, 689, 208, 398, 690, 668, 106, 177, 470, 405, 77, 287, 165, 119, 763, 123, 692, 48, 323, 637, 309, 42, 334, 321, 24, 776, 330, 741, 589, 708, 251, 770, 557, 361, 680, 332, 718, 293, 150, 389, 440, 627, 292, 4, 633, 302, 450, 74, 294, 314, 717, 649, 170, 553, 245, 535, 744, 221, 491, 268, 681, 427, 374, 261, 431, 456, 193, 406, 505, 472, 390, 592, 286, 481, 249, 362, 252, 621, 260, 273, 345, 352, 30, 8, 482, 715, 489, 420, 114, 270, 56, 771, 69, 565, 679, 180, 643, 281, 432, 486, 311, 363, 595, 594, 542, 0, 698, 544, 301, 735, 112, 441, 691, 574, 764, 418, 428, 436, 598, 220, 19, 783, 662, 39, 183, 127, 296, 124, 233, 393, 9, 218, 442, 464, 304, 271, 401, 675, 16, 407, 375, 138, 204, 133, 529, 733, 139, 324, 203, 566, 246, 682, 384, 87, 461, 669, 279, 487, 59, 673, 344, 663, 560, 399, 22, 366, 722, 20, 730, 253, 121, 266, 159, 60, 185, 134, 533, 530, 342, 386, 657, 337, 238, 3, 228, 510, 516, 310, 685, 714, 54, 526, 145, 659, 499, 498, 780, 187, 55, 591, 367, 502, 578, 153, 537, 610, 445, 92, 64, 732, 700, 672, 241, 712, 40, 507, 394, 227, 72, 452, 140, 538, 521, 255, 474, 727, 473, 564, 477, 397, 382, 46, 219, 186, 752, 504, 702, 588, 84, 15, 782, 200, 769, 101, 626, 373, 757, 571, 426, 149, 587, 693, 175, 336, 284, 88, 244, 196, 725, 622, 723, 135, 174, 778, 318, 129, 37, 392, 267, 575, 136, 495, 75, 444, 52, 558, 562, 117, 531, 160, 524, 325, 620, 192, 83, 131, 601, 631, 694, 146, 570, 100, 360, 607, 191, 515, 746, 152, 451, 409, 660, 646, 202, 466, 777, 527, 41, 688, 585, 559, 750, 653, 410, 197, 265, 118, 500, 729, 353, 508, 130, 556, 65, 683, 339, 369, 96, 308, 467, 480, 237, 216, 250, 476, 636, 742, 280, 635, 619, 525, 395, 758, 25, 349, 496, 743, 107, 147, 176, 26, 465, 68, 275, 408, 291, 27, 617, 224, 6, 289, 478, 13, 61, 551, 157, 519, 781, 655, 623, 416, 105, 483, 272, 460, 357, 17]\n"
          ]
        }
      ]
    },
    {
      "cell_type": "code",
      "source": [
        "t = 0\n",
        "for i in range(num_task):\n",
        "  print(f' ------task {i} --------')\n",
        "  batch = next(iter(train_loader[i]))\n",
        "  if t == 0:\n",
        "    t = random.randint(1,len(batch))\n",
        "  image, label = batch[0][t], batch[1][t]\n",
        "  print (batch[0][t].shape)\n",
        "  print(\"label : \", label.item())  \n",
        "  mnist_imshow(image)\n"
      ],
      "metadata": {
        "colab": {
          "base_uri": "https://localhost:8080/",
          "height": 866
        },
        "id": "N9_VzEOe944D",
        "outputId": "ec66f637-3bbd-45fc-b547-4fc9728a8bc7"
      },
      "execution_count": 7,
      "outputs": [
        {
          "output_type": "stream",
          "name": "stdout",
          "text": [
            " ------task 0 --------\n",
            "torch.Size([784])\n",
            "label :  4\n"
          ]
        },
        {
          "output_type": "display_data",
          "data": {
            "text/plain": [
              "<Figure size 432x288 with 1 Axes>"
            ],
            "image/png": "[encoded data removed]"
          },
          "metadata": {
            "needs_background": "light"
          }
        },
        {
          "output_type": "stream",
          "name": "stdout",
          "text": [
            " ------task 1 --------\n",
            "torch.Size([784])\n",
            "label :  4\n"
          ]
        },
        {
          "output_type": "display_data",
          "data": {
            "text/plain": [
              "<Figure size 432x288 with 1 Axes>"
            ],
            "image/png": "[encoded data removed]"
          },
          "metadata": {
            "needs_background": "light"
          }
        },
        {
          "output_type": "stream",
          "name": "stdout",
          "text": [
            " ------task 2 --------\n",
            "torch.Size([784])\n",
            "label :  4\n"
          ]
        },
        {
          "output_type": "display_data",
          "data": {
            "text/plain": [
              "<Figure size 432x288 with 1 Axes>"
            ],
            "image/png": "[encoded data removed]"
          },
          "metadata": {
            "needs_background": "light"
          }
        }
      ]
    },
    {
      "cell_type": "markdown",
      "source": [
        "## Network\n",
        "A simple network with only Linear layers"
      ],
      "metadata": {
        "id": "Fhd020tFBSjj"
      }
    },
    {
      "cell_type": "code",
      "source": [
        "class MLP(nn.Module):\n",
        "    def __init__(self, hidden_size=200):\n",
        "        super(MLP, self).__init__()\n",
        "        self.fc1 = nn.Linear(28 * 28, hidden_size)\n",
        "        self.fc2 = nn.Linear(hidden_size, hidden_size)\n",
        "        self.fc3 = nn.Linear(hidden_size, hidden_size)\n",
        "        self.fc4 = nn.Linear(hidden_size, 10)\n",
        "\n",
        "    def forward(self, input):\n",
        "        x = F.relu(self.fc1(input))\n",
        "        x = F.relu(self.fc2(x))\n",
        "        x = F.relu(self.fc3(x))\n",
        "        x = F.relu(self.fc4(x))\n",
        "        return x\n",
        "\n",
        "model = MLP().to(device)\n",
        "summary(model, input_size=(1,784))"
      ],
      "metadata": {
        "id": "11gMlQ_tATUi",
        "colab": {
          "base_uri": "https://localhost:8080/"
        },
        "outputId": "ba9b5f3c-eac3-4801-906f-2e6ed4b7145d"
      },
      "execution_count": 8,
      "outputs": [
        {
          "output_type": "stream",
          "name": "stdout",
          "text": [
            "----------------------------------------------------------------\n",
            "        Layer (type)               Output Shape         Param #\n",
            "================================================================\n",
            "            Linear-1               [-1, 1, 200]         157,000\n",
            "            Linear-2               [-1, 1, 200]          40,200\n",
            "            Linear-3               [-1, 1, 200]          40,200\n",
            "            Linear-4                [-1, 1, 10]           2,010\n",
            "================================================================\n",
            "Total params: 239,410\n",
            "Trainable params: 239,410\n",
            "Non-trainable params: 0\n",
            "----------------------------------------------------------------\n",
            "Input size (MB): 0.00\n",
            "Forward/backward pass size (MB): 0.00\n",
            "Params size (MB): 0.91\n",
            "Estimated Total Size (MB): 0.92\n",
            "----------------------------------------------------------------\n"
          ]
        }
      ]
    },
    {
      "cell_type": "markdown",
      "source": [
        "## Normal Train Function"
      ],
      "metadata": {
        "id": "3TyLrcpSCW5d"
      }
    },
    {
      "cell_type": "markdown",
      "source": [
        "Variable Function - Used for Gradient [Reference](https://www.geeksforgeeks.org/variables-and-autograd-in-pytorch/)"
      ],
      "metadata": {
        "id": "PuPKHl4DD8X-"
      }
    },
    {
      "cell_type": "code",
      "source": [
        "def variable(t: torch.Tensor, use_cuda=True, **kwargs):\n",
        "  \"\"\"\n",
        "  Takes in a tensor and converts into a tensor with gradient\n",
        "  We would need gradients of parameters, hence needed \n",
        "  \"\"\"\n",
        "  if torch.cuda.is_available() and use_cuda:\n",
        "    t = t.cuda()\n",
        "  return Variable(t, **kwargs)"
      ],
      "metadata": {
        "id": "TZLeg4S-Cu0w"
      },
      "execution_count": 9,
      "outputs": []
    },
    {
      "cell_type": "code",
      "source": [
        "def normal_train(model: nn.Module, \n",
        "                 optimizer: torch.optim, \n",
        "                 data_loader: torch.utils.data.DataLoader):\n",
        "  \"\"\"\n",
        "  Takes in a model architecture, trains its and returns average epoch loss\n",
        "  \"\"\"\n",
        "  model.train()\n",
        "  epoch_loss = 0\n",
        "  for input, target in data_loader:\n",
        "      input, target = variable(input), variable(target)\n",
        "      optimizer.zero_grad()\n",
        "      output = model(input)\n",
        "      loss = F.cross_entropy(output, target)\n",
        "      epoch_loss += loss.item()\n",
        "      loss.backward()\n",
        "      optimizer.step()\n",
        "  return epoch_loss / len(data_loader)"
      ],
      "metadata": {
        "id": "GC0xaEMDBhd9"
      },
      "execution_count": 10,
      "outputs": []
    },
    {
      "cell_type": "markdown",
      "source": [
        "## Normal Test Function"
      ],
      "metadata": {
        "id": "FyCWxxpHNl9W"
      }
    },
    {
      "cell_type": "code",
      "source": [
        "def test(model: nn.Module, \n",
        "         data_loader: torch.utils.data.DataLoader):\n",
        "    model.eval()\n",
        "    correct = 0\n",
        "    for input, target in data_loader:\n",
        "        input, target = variable(input), variable(target)\n",
        "        output = model(input)\n",
        "        correct += (F.softmax(output, dim=1).max(dim=1)[1] == target).data.sum()\n",
        "    return correct / len(data_loader.dataset)"
      ],
      "metadata": {
        "id": "JmMNFbKPMwLl"
      },
      "execution_count": 11,
      "outputs": []
    },
    {
      "cell_type": "markdown",
      "source": [
        "## Elastic Weight Consolidation"
      ],
      "metadata": {
        "id": "prQlMMx8EvjZ"
      }
    },
    {
      "cell_type": "code",
      "source": [
        "class EWC(object):\n",
        "    def __init__(self, \n",
        "                 model: nn.Module, \n",
        "                 dataset: list):\n",
        "\n",
        "        self.model = model\n",
        "        self.dataset = dataset\n",
        "\n",
        "        # default model params\n",
        "        self.params = {n: p for n, p in self.model.named_parameters() if p.requires_grad}\n",
        "        self._means = {}\n",
        "        self._precision_matrices = self._diag_fisher()\n",
        "\n",
        "        for n, p in deepcopy(self.params).items():\n",
        "            self._means[n] = variable(p.data)\n",
        "\n",
        "    def _diag_fisher(self):\n",
        "        precision_matrices = {}\n",
        "        for n, p in deepcopy(self.params).items():\n",
        "            p.data.zero_()\n",
        "            precision_matrices[n] = variable(p.data)\n",
        "\n",
        "        self.model.eval() # we need to do one round of back propogation to understand the gradients of params\n",
        "        # interestingly we dont have to always use model.train() to get the gradients\n",
        "        for input in self.dataset:\n",
        "            self.model.zero_grad()\n",
        "            input = variable(input)\n",
        "            output = self.model(input).view(1, -1)\n",
        "            label = output.max(1)[1].view(-1)\n",
        "            loss = F.nll_loss(F.log_softmax(output, dim=1), label)\n",
        "            loss.backward()\n",
        "\n",
        "            for n, p in self.model.named_parameters():\n",
        "                precision_matrices[n].data += p.grad.data ** 2 / len(self.dataset)\n",
        "\n",
        "        precision_matrices = {n: p for n, p in precision_matrices.items()}\n",
        "        return precision_matrices\n",
        "\n",
        "    def penalty(self, model: nn.Module):\n",
        "        loss = 0\n",
        "        for n, p in model.named_parameters():\n",
        "            _loss = self._precision_matrices[n] * (p - self._means[n]) ** 2\n",
        "            loss += _loss.sum()\n",
        "        return loss"
      ],
      "metadata": {
        "id": "q3AgaT_vB-1p"
      },
      "execution_count": 12,
      "outputs": []
    },
    {
      "cell_type": "markdown",
      "source": [
        "### EWC Train Function\n",
        "This has got Penalties"
      ],
      "metadata": {
        "id": "GoNJoihFMWYR"
      }
    },
    {
      "cell_type": "code",
      "source": [
        "def ewc_train(model: nn.Module, \n",
        "              optimizer: torch.optim, \n",
        "              data_loader: torch.utils.data.DataLoader,\n",
        "              ewc: EWC, \n",
        "              importance: float): # importance is a hyperparam \n",
        "    model.train()\n",
        "    epoch_loss = 0\n",
        "    for input, target in data_loader:\n",
        "        input, target = variable(input), variable(target)\n",
        "        optimizer.zero_grad()\n",
        "        output = model(input)\n",
        "        ##-------Updated Loss Function-------###\n",
        "        loss = F.cross_entropy(output, target) + importance * ewc.penalty(model)\n",
        "        epoch_loss += loss.item()\n",
        "        loss.backward()\n",
        "        optimizer.step()\n",
        "    return epoch_loss / len(data_loader)"
      ],
      "metadata": {
        "id": "rsxEkomJMS5c"
      },
      "execution_count": 13,
      "outputs": []
    },
    {
      "cell_type": "markdown",
      "source": [
        "\n",
        "## Plot Functions"
      ],
      "metadata": {
        "id": "MwdRBH_URrSn"
      }
    },
    {
      "cell_type": "code",
      "source": [
        "def loss_plot(x):\n",
        "    for t, v in x.items():\n",
        "        plt.plot(list(range(t * epochs, (t + 1) * epochs)), v, label = \"Task \"+ str(t))\n",
        "    plt.legend(loc = 'upper right')\n",
        "    plt.title(\"Loss Plot\")\n",
        "    plt.show()\n",
        "\n",
        "def accuracy_plot(x):\n",
        "    for t, v in x.items():\n",
        "        plt.plot(list(range(t * epochs, num_task * epochs)), [acc.cpu() for acc in v], label = \"Task \"+  str(t))\n",
        "    plt.ylim(0, 1)\n",
        "    plt.legend(loc = 'upper right')\n",
        "    plt.title(\"Accuracy Plot\")\n",
        "    plt.show()"
      ],
      "metadata": {
        "id": "Ucr_DlDCRo_V"
      },
      "execution_count": 14,
      "outputs": []
    },
    {
      "cell_type": "markdown",
      "source": [
        "## Standard Process Execution"
      ],
      "metadata": {
        "id": "3_khx8ERN1QN"
      }
    },
    {
      "cell_type": "code",
      "source": [
        "def standard_process(epochs, use_cuda=True, weight=True):\n",
        "    model = MLP(hidden_size)\n",
        "    if torch.cuda.is_available() and use_cuda:\n",
        "        model.cuda()\n",
        "    optimizer = optim.SGD(params=model.parameters(), lr=lr)\n",
        "\n",
        "    loss, acc = {}, {} # across tasks \n",
        "    for task in range(num_task):\n",
        "        loss[task] = [] # per task loss\n",
        "        acc[task] = [] # per task accuracy\n",
        "        for _ in tqdm(range(epochs)):\n",
        "            loss[task].append(normal_train(model, optimizer, train_loader[task]))\n",
        "            for sub_task in range(task + 1):\n",
        "                acc[sub_task].append(test(model, test_loader[sub_task]))\n",
        "        if task == 0 and weight:\n",
        "            weight = model.state_dict()\n",
        "        print(f'\\n----Training for task {task} completed ---')\n",
        "    return loss, acc, weight"
      ],
      "metadata": {
        "id": "TSeexybANCk_"
      },
      "execution_count": 15,
      "outputs": []
    },
    {
      "cell_type": "code",
      "source": [
        "#@title Training and Output of Standard Process\n",
        "loss, acc, weight = standard_process(epochs) # The weights are used by EWC process"
      ],
      "metadata": {
        "colab": {
          "base_uri": "https://localhost:8080/"
        },
        "id": "tmihHuWgO8Vd",
        "outputId": "939346ba-edf1-4ea9-bb18-761372640fc2"
      },
      "execution_count": 16,
      "outputs": [
        {
          "output_type": "stream",
          "name": "stderr",
          "text": [
            "100%|██████████| 50/50 [01:53<00:00,  2.27s/it]\n"
          ]
        },
        {
          "output_type": "stream",
          "name": "stdout",
          "text": [
            "\n",
            "----Training for task 0 completed ---\n"
          ]
        },
        {
          "output_type": "stream",
          "name": "stderr",
          "text": [
            "100%|██████████| 50/50 [01:58<00:00,  2.36s/it]\n"
          ]
        },
        {
          "output_type": "stream",
          "name": "stdout",
          "text": [
            "\n",
            "----Training for task 1 completed ---\n"
          ]
        },
        {
          "output_type": "stream",
          "name": "stderr",
          "text": [
            "100%|██████████| 50/50 [02:04<00:00,  2.50s/it]"
          ]
        },
        {
          "output_type": "stream",
          "name": "stdout",
          "text": [
            "\n",
            "----Training for task 2 completed ---\n"
          ]
        },
        {
          "output_type": "stream",
          "name": "stderr",
          "text": [
            "\n"
          ]
        }
      ]
    },
    {
      "cell_type": "code",
      "source": [
        "loss_plot(loss), accuracy_plot(acc)"
      ],
      "metadata": {
        "colab": {
          "base_uri": "https://localhost:8080/",
          "height": 562
        },
        "id": "Ve29OTX-TQCd",
        "outputId": "ab865dea-8029-4f59-d86a-9e15cfc16ad8"
      },
      "execution_count": 17,
      "outputs": [
        {
          "output_type": "display_data",
          "data": {
            "text/plain": [
              "<Figure size 432x288 with 1 Axes>"
            ],
            "image/png": "[encoded data removed]"
          },
          "metadata": {
            "needs_background": "light"
          }
        },
        {
          "output_type": "display_data",
          "data": {
            "text/plain": [
              "<Figure size 432x288 with 1 Axes>"
            ],
            "image/png": "[encoded data removed]"
          },
          "metadata": {
            "needs_background": "light"
          }
        },
        {
          "output_type": "execute_result",
          "data": {
            "text/plain": [
              "(None, None)"
            ]
          },
          "metadata": {},
          "execution_count": 17
        }
      ]
    },
    {
      "cell_type": "code",
      "source": [
        "(weight)"
      ],
      "metadata": {
        "colab": {
          "base_uri": "https://localhost:8080/"
        },
        "id": "zGBtf4g0SX2Z",
        "outputId": "ee210d0b-1b67-4c52-ee30-7daa4f267ead"
      },
      "execution_count": 18,
      "outputs": [
        {
          "output_type": "execute_result",
          "data": {
            "text/plain": [
              "OrderedDict([('fc1.weight',\n",
              "              tensor([[ 0.0153,  0.0015, -0.0110,  ...,  0.0280,  0.0142,  0.0014],\n",
              "                      [-0.0014,  0.0308, -0.0342,  ..., -0.0455,  0.0332, -0.0034],\n",
              "                      [ 0.0423,  0.0209,  0.0303,  ...,  0.0256, -0.0217, -0.0049],\n",
              "                      ...,\n",
              "                      [ 0.0069, -0.0411,  0.0089,  ..., -0.0057,  0.0045,  0.0160],\n",
              "                      [-0.0121,  0.0520, -0.0048,  ..., -0.0324,  0.0103, -0.0121],\n",
              "                      [ 0.0317,  0.0008,  0.0111,  ..., -0.0127, -0.0251, -0.0079]],\n",
              "                     device='cuda:0')),\n",
              "             ('fc1.bias',\n",
              "              tensor([ 1.4385e-02, -7.6623e-03,  2.9273e-02,  1.5955e-02,  4.7513e-02,\n",
              "                       2.2932e-02,  1.1768e-02,  4.7033e-02,  5.2901e-03,  3.0575e-02,\n",
              "                       3.8034e-02, -9.5756e-04, -9.3758e-03, -1.3342e-02, -8.1459e-03,\n",
              "                      -9.5802e-04,  5.1596e-02,  3.6843e-02,  2.9016e-02,  4.7956e-02,\n",
              "                       3.5960e-02,  4.1925e-02, -2.5627e-02,  1.8205e-02, -6.2699e-02,\n",
              "                       4.6905e-02, -2.1850e-02,  2.2989e-02,  2.5491e-02,  1.6020e-02,\n",
              "                       4.8654e-02,  6.1504e-02,  1.2373e-02,  3.8367e-02,  7.3527e-02,\n",
              "                      -2.6066e-02,  4.3143e-03,  6.7056e-03, -1.1340e-02,  3.9169e-02,\n",
              "                       3.4697e-02, -3.5746e-02,  7.8780e-03, -1.7732e-02, -1.8990e-02,\n",
              "                       2.8067e-04,  2.6716e-02, -1.5116e-02,  4.9192e-02,  2.2777e-02,\n",
              "                       8.3208e-02,  3.7110e-02,  1.2268e-04, -1.3863e-02,  3.1652e-02,\n",
              "                      -4.0875e-02,  1.6468e-02, -3.6612e-02,  3.2499e-02, -2.5700e-02,\n",
              "                      -3.0991e-02, -2.3719e-02,  2.1912e-02,  9.6273e-03,  2.8063e-02,\n",
              "                       1.2702e-02,  1.0565e-02,  2.3654e-02, -2.3944e-02, -1.4621e-02,\n",
              "                       7.3308e-02,  2.7757e-02,  1.3125e-02,  7.0965e-03,  1.7575e-03,\n",
              "                      -2.2200e-02,  7.1526e-02,  2.3586e-02,  3.5628e-02,  1.0002e-02,\n",
              "                       2.5512e-02, -1.3799e-03,  2.4133e-02,  3.8219e-02,  1.0270e-01,\n",
              "                      -3.8032e-02, -2.8891e-02,  6.8553e-04,  3.7710e-02,  1.7683e-02,\n",
              "                       3.8681e-02,  4.2788e-02,  2.7344e-02, -3.1754e-03,  3.2404e-02,\n",
              "                       6.1453e-02, -1.7783e-02,  6.5254e-03,  4.3613e-03,  1.4097e-02,\n",
              "                      -1.2539e-03, -1.9663e-02,  6.3556e-02, -2.7303e-03,  1.4676e-02,\n",
              "                      -2.8573e-02,  5.8774e-05, -2.8868e-03,  8.3078e-03,  6.8965e-03,\n",
              "                       2.6149e-02,  3.3411e-02,  1.9222e-02, -7.2462e-03,  3.1297e-03,\n",
              "                       5.1377e-02,  1.5558e-02,  1.7531e-02, -1.9466e-02,  2.4163e-02,\n",
              "                      -1.3244e-03, -2.5840e-03,  2.9070e-02,  4.0179e-02,  3.1291e-02,\n",
              "                      -2.4822e-02, -1.4091e-02,  3.7067e-02, -1.0740e-02,  2.9299e-02,\n",
              "                       5.6758e-02, -1.3154e-02, -2.4810e-02,  3.7464e-02,  2.4022e-02,\n",
              "                       2.8088e-02, -3.1876e-02, -2.7947e-02, -1.6834e-02,  1.5921e-02,\n",
              "                      -9.3662e-03,  1.7340e-02, -1.0340e-02,  9.9864e-03, -7.3070e-04,\n",
              "                       9.2169e-03,  1.1182e-02, -2.8024e-02, -5.1851e-02, -9.3203e-03,\n",
              "                       8.9438e-02, -9.2631e-03, -2.8806e-02,  3.6274e-02, -1.5517e-02,\n",
              "                      -1.5907e-02,  2.2976e-02, -9.1898e-03, -1.8332e-02, -2.0465e-02,\n",
              "                       8.0874e-02,  3.1805e-02, -4.3044e-03, -1.3484e-02,  5.3064e-02,\n",
              "                       8.8139e-03,  2.1836e-02,  1.3962e-03, -1.8539e-02,  3.5916e-02,\n",
              "                      -1.4039e-02, -1.7102e-02, -9.3485e-03,  4.1097e-02,  6.9143e-03,\n",
              "                       2.0845e-02,  2.2197e-02,  2.6146e-02,  5.2051e-02,  3.3334e-02,\n",
              "                       5.2486e-02,  3.7530e-02,  6.2061e-03, -1.8788e-02,  5.5910e-02,\n",
              "                      -2.8391e-02, -1.5339e-02, -4.3965e-02, -1.8730e-02,  1.2534e-02,\n",
              "                       1.3475e-02,  4.6101e-02,  3.2944e-02,  2.0353e-02, -5.8123e-03,\n",
              "                      -1.4971e-02,  3.9226e-02,  2.2129e-02,  4.5870e-03,  2.8674e-02],\n",
              "                     device='cuda:0')),\n",
              "             ('fc2.weight',\n",
              "              tensor([[ 0.0564, -0.0259,  0.0109,  ..., -0.0251, -0.0126,  0.0077],\n",
              "                      [ 0.0100, -0.0226,  0.0533,  ...,  0.0013, -0.0511,  0.0212],\n",
              "                      [ 0.0243,  0.0115, -0.0405,  ...,  0.0360, -0.0555, -0.0258],\n",
              "                      ...,\n",
              "                      [-0.0434, -0.0112,  0.0287,  ...,  0.0349,  0.0690,  0.0324],\n",
              "                      [ 0.0585,  0.0176, -0.0045,  ...,  0.0232, -0.0204,  0.0580],\n",
              "                      [ 0.0397,  0.0397,  0.0913,  ..., -0.0390, -0.0501,  0.0430]],\n",
              "                     device='cuda:0')),\n",
              "             ('fc2.bias',\n",
              "              tensor([-8.8027e-03,  1.0582e-01, -2.7961e-02,  2.1284e-02, -6.1263e-02,\n",
              "                      -1.6708e-03,  2.3027e-02,  3.6191e-02,  1.1358e-01, -1.3612e-02,\n",
              "                       6.0234e-04,  6.6496e-02,  5.8500e-02,  2.5000e-02, -6.4966e-02,\n",
              "                      -4.4376e-03,  5.5053e-02,  2.5754e-02, -1.9960e-02,  5.7237e-02,\n",
              "                       6.0518e-02, -5.3999e-02,  8.4932e-03, -2.8108e-02, -3.8116e-02,\n",
              "                       5.3427e-02,  1.7003e-02,  6.4722e-02,  3.8230e-02,  5.3660e-02,\n",
              "                       9.2808e-03, -2.5800e-02,  3.5365e-02, -1.8280e-02,  5.4550e-02,\n",
              "                      -7.2207e-02, -3.0936e-02,  3.6097e-02, -4.0275e-02, -4.5610e-02,\n",
              "                       3.3488e-02, -1.1610e-02, -1.2060e-02,  1.1986e-01,  8.8583e-03,\n",
              "                       7.2027e-02,  4.4907e-02, -3.2843e-02,  6.4811e-02,  1.2097e-02,\n",
              "                       1.9646e-02,  3.9199e-03,  1.9082e-02, -4.3661e-02,  6.4146e-02,\n",
              "                      -5.3391e-02,  1.4471e-02,  2.1116e-02, -1.3470e-02, -1.9748e-02,\n",
              "                      -2.8935e-05,  8.9985e-02, -4.8630e-02, -1.7825e-02,  8.1925e-02,\n",
              "                      -5.0878e-02, -5.2093e-02, -4.9342e-02,  5.0796e-02, -3.2422e-03,\n",
              "                      -2.4334e-02, -3.3720e-02,  6.7945e-03,  7.7508e-02,  5.1288e-02,\n",
              "                       5.6645e-02,  7.0990e-02, -2.4377e-02,  9.0202e-02,  1.8034e-02,\n",
              "                       2.6480e-02, -1.2989e-02,  1.6967e-02,  4.0152e-02,  1.1048e-02,\n",
              "                       6.8874e-02,  4.2433e-03, -5.2697e-02, -1.3454e-02, -8.5184e-03,\n",
              "                       1.2678e-01,  8.1466e-02,  5.9290e-02,  2.2599e-02,  9.0850e-02,\n",
              "                       6.7717e-02,  1.4590e-02,  9.1943e-02,  3.5456e-02,  6.7651e-02,\n",
              "                      -6.0901e-02,  6.1643e-02,  3.2909e-03,  1.1642e-01, -8.9171e-03,\n",
              "                      -1.2265e-02,  7.0450e-02, -7.1446e-03,  2.5023e-03,  6.3349e-02,\n",
              "                       9.7746e-03, -5.2775e-02, -1.5839e-03, -7.8470e-03, -6.9311e-02,\n",
              "                       9.4521e-02, -1.9419e-02, -1.6731e-02, -5.0258e-02,  3.7551e-05,\n",
              "                       6.4664e-02, -8.6632e-03,  1.7097e-02,  6.4460e-02,  5.3949e-02,\n",
              "                      -2.9259e-02, -5.7658e-02,  1.3776e-02, -6.3477e-02,  2.9701e-02,\n",
              "                       5.3353e-02,  7.2264e-03, -5.2362e-02, -2.4840e-02,  8.1903e-02,\n",
              "                       5.6202e-03,  3.7147e-02,  4.3755e-03,  2.2230e-02,  7.9549e-03,\n",
              "                      -4.8700e-02, -5.5116e-02, -2.6301e-02,  9.7546e-02, -4.9533e-02,\n",
              "                       8.3880e-02, -3.1199e-02,  4.9793e-02, -5.6792e-03,  3.4821e-02,\n",
              "                      -3.6532e-02,  1.0219e-01,  2.2540e-02,  3.9542e-02,  1.7850e-02,\n",
              "                       9.8635e-03, -3.3484e-02,  4.3785e-02,  2.0609e-02, -3.7611e-03,\n",
              "                      -4.0743e-02,  4.0539e-02,  1.3252e-01,  6.5789e-02,  2.7835e-02,\n",
              "                       6.2228e-02, -5.8319e-02,  2.3071e-02,  2.0596e-02,  3.5910e-02,\n",
              "                      -1.5701e-03,  6.1626e-02,  3.9253e-02, -5.3308e-02, -2.8599e-02,\n",
              "                       1.0483e-02,  8.0401e-02,  1.0013e-01,  4.9447e-02,  1.8083e-02,\n",
              "                      -5.1460e-02,  7.5108e-02, -1.0462e-02,  3.0505e-02,  1.0616e-01,\n",
              "                       3.2065e-02,  4.6067e-02, -4.6666e-02,  6.4225e-02, -1.8604e-02,\n",
              "                       1.8213e-02,  7.1305e-02, -6.1371e-03, -1.0089e-03, -1.7658e-02,\n",
              "                      -1.4560e-02, -1.9022e-02, -1.1771e-02,  1.8749e-02,  6.3442e-03],\n",
              "                     device='cuda:0')),\n",
              "             ('fc3.weight',\n",
              "              tensor([[-0.0021,  0.1095,  0.0137,  ...,  0.0228, -0.0106,  0.0316],\n",
              "                      [-0.0484, -0.0590,  0.0222,  ...,  0.0237, -0.0371,  0.0586],\n",
              "                      [-0.0139, -0.0228, -0.0707,  ...,  0.0665,  0.0130,  0.0454],\n",
              "                      ...,\n",
              "                      [ 0.0558, -0.0172,  0.0067,  ...,  0.0419,  0.0474, -0.0064],\n",
              "                      [-0.0464,  0.1003, -0.0275,  ...,  0.0044,  0.0082, -0.0351],\n",
              "                      [ 0.0403,  0.0313,  0.0659,  ...,  0.0236,  0.0558,  0.0597]],\n",
              "                     device='cuda:0')),\n",
              "             ('fc3.bias',\n",
              "              tensor([ 0.0347, -0.0494, -0.0515, -0.0404, -0.0146,  0.0110, -0.0466,  0.0381,\n",
              "                      -0.0391,  0.0817, -0.0617, -0.0463, -0.0693,  0.1205, -0.0364,  0.0240,\n",
              "                      -0.0722,  0.0421, -0.0094,  0.0596, -0.0510, -0.0095, -0.0713,  0.0637,\n",
              "                      -0.0367, -0.0515, -0.0561, -0.0026,  0.0188, -0.0307, -0.0195,  0.0092,\n",
              "                      -0.0329,  0.0887,  0.0543, -0.0413,  0.0409, -0.0424, -0.0286,  0.0770,\n",
              "                       0.0192,  0.0729, -0.0659, -0.0518,  0.1268, -0.0319,  0.0770,  0.0798,\n",
              "                       0.0792,  0.0411, -0.0465,  0.0448,  0.1369,  0.0358,  0.0870,  0.0504,\n",
              "                      -0.0335,  0.1006, -0.0887, -0.0320, -0.0407,  0.0800,  0.1186,  0.0201,\n",
              "                       0.0781, -0.0557,  0.0468,  0.0595,  0.0423,  0.0453, -0.0148,  0.0124,\n",
              "                      -0.0453, -0.0472,  0.0131,  0.0021,  0.1062, -0.0171,  0.0310,  0.0489,\n",
              "                      -0.0004,  0.1167,  0.0715, -0.0304, -0.0394, -0.0304, -0.0333, -0.0473,\n",
              "                      -0.0271, -0.0437, -0.0403, -0.0050, -0.0233, -0.0358, -0.0298, -0.0161,\n",
              "                      -0.0561,  0.0198,  0.0461,  0.0829,  0.0163,  0.0663,  0.0486, -0.0093,\n",
              "                       0.0429,  0.0230, -0.0267,  0.0414,  0.0968,  0.0381,  0.0037,  0.0173,\n",
              "                      -0.0352,  0.0824, -0.0151,  0.0467,  0.0095,  0.0919, -0.0390, -0.0263,\n",
              "                       0.1468, -0.0077, -0.0492,  0.0857, -0.0348, -0.0658, -0.0701, -0.0212,\n",
              "                      -0.0353,  0.0176,  0.0004,  0.0758,  0.0142,  0.0650,  0.0642,  0.0935,\n",
              "                      -0.0465,  0.1054, -0.0501,  0.0120, -0.0308, -0.0626,  0.0247, -0.0706,\n",
              "                      -0.0328, -0.0638,  0.0860,  0.1045,  0.0017,  0.0162, -0.0219,  0.0329,\n",
              "                      -0.0105, -0.0290,  0.0726,  0.0283, -0.0032,  0.0095,  0.0342,  0.0186,\n",
              "                       0.0458,  0.0045,  0.1040, -0.0226, -0.0086,  0.0646,  0.0391, -0.0418,\n",
              "                      -0.0546, -0.0508,  0.0800, -0.0337, -0.0437,  0.0023, -0.0556, -0.0464,\n",
              "                       0.1033,  0.0558,  0.0114, -0.0545, -0.0642, -0.0098,  0.0290, -0.0275,\n",
              "                       0.0006,  0.0487,  0.0570,  0.0422,  0.0224,  0.0597,  0.0218,  0.0631,\n",
              "                       0.0808, -0.0700,  0.1367,  0.0506, -0.0557, -0.0602,  0.0869,  0.0835],\n",
              "                     device='cuda:0')),\n",
              "             ('fc4.weight',\n",
              "              tensor([[-0.2091, -0.0692, -0.0621,  ...,  0.0643, -0.0555, -0.2808],\n",
              "                      [-0.0710, -0.0334, -0.0454,  ..., -0.0505,  0.0325, -0.0245],\n",
              "                      [ 0.2486,  0.0139,  0.0687,  ..., -0.0081, -0.0630, -0.1842],\n",
              "                      ...,\n",
              "                      [-0.0534,  0.0003, -0.0558,  ..., -0.0649,  0.0393,  0.0513],\n",
              "                      [ 0.2697,  0.0092,  0.0477,  ..., -0.0642, -0.0067,  0.1293],\n",
              "                      [-0.0568,  0.0102,  0.0524,  ..., -0.0037, -0.0525, -0.0094]],\n",
              "                     device='cuda:0')),\n",
              "             ('fc4.bias',\n",
              "              tensor([-0.1900, -0.0506, -0.0358, -0.0254,  0.1272,  0.1066,  0.0048, -0.0218,\n",
              "                      -0.2538, -0.0504], device='cuda:0'))])"
            ]
          },
          "metadata": {},
          "execution_count": 18
        }
      ]
    },
    {
      "cell_type": "markdown",
      "source": [
        "## EWC Process Execution"
      ],
      "metadata": {
        "id": "5YzC2LnRR9IB"
      }
    },
    {
      "cell_type": "code",
      "source": [
        "def ewc_process(epochs, importance, use_cuda=True, weight=None):\n",
        "    model = MLP(hidden_size)\n",
        "    if torch.cuda.is_available() and use_cuda:\n",
        "        model.cuda()\n",
        "    optimizer = optim.SGD(params=model.parameters(), lr=lr)\n",
        "\n",
        "    loss, acc, ewc = {}, {}, {}\n",
        "    for task in range(num_task):\n",
        "        loss[task] = []\n",
        "        acc[task] = []\n",
        "\n",
        "        if task == 0:\n",
        "            if weight:\n",
        "                model.load_state_dict(weight)\n",
        "            else:\n",
        "                for _ in tqdm(range(epochs)):\n",
        "                    loss[task].append(normal_train(model, optimizer, train_loader[task]))\n",
        "                    acc[task].append(test(model, test_loader[task]))\n",
        "        else:\n",
        "            old_tasks = []\n",
        "            for sub_task in range(task):\n",
        "                old_tasks = old_tasks + train_loader[sub_task].dataset.get_sample(sample_size)\n",
        "            old_tasks = random.sample(old_tasks, k=sample_size)\n",
        "            for _ in tqdm(range(epochs)):\n",
        "                loss[task].append(ewc_train(model, optimizer, train_loader[task], EWC(model, old_tasks), importance))\n",
        "                for sub_task in range(task + 1):\n",
        "                    acc[sub_task].append(test(model, test_loader[sub_task]))\n",
        "        \n",
        "        print(f'----Training for task {task} completed ---')\n",
        "\n",
        "    return loss, acc"
      ],
      "metadata": {
        "id": "nUCy9Cd7PXV1"
      },
      "execution_count": 19,
      "outputs": []
    },
    {
      "cell_type": "code",
      "source": [
        "#@title Training and Output of EWC Process\n",
        "loss_ewc, acc_ewc = ewc_process(epochs, importance=1000)"
      ],
      "metadata": {
        "colab": {
          "base_uri": "https://localhost:8080/"
        },
        "id": "xL-C07MGTpQM",
        "outputId": "76b835a1-63a0-4778-ca83-fb615da9bfef"
      },
      "execution_count": 20,
      "outputs": [
        {
          "output_type": "stream",
          "name": "stderr",
          "text": [
            "100%|██████████| 50/50 [01:53<00:00,  2.26s/it]\n"
          ]
        },
        {
          "output_type": "stream",
          "name": "stdout",
          "text": [
            "----Training for task 0 completed ---\n"
          ]
        },
        {
          "output_type": "stream",
          "name": "stderr",
          "text": [
            "100%|██████████| 50/50 [02:47<00:00,  3.35s/it]\n"
          ]
        },
        {
          "output_type": "stream",
          "name": "stdout",
          "text": [
            "----Training for task 1 completed ---\n"
          ]
        },
        {
          "output_type": "stream",
          "name": "stderr",
          "text": [
            "100%|██████████| 50/50 [03:01<00:00,  3.63s/it]"
          ]
        },
        {
          "output_type": "stream",
          "name": "stdout",
          "text": [
            "----Training for task 2 completed ---\n"
          ]
        },
        {
          "output_type": "stream",
          "name": "stderr",
          "text": [
            "\n"
          ]
        }
      ]
    },
    {
      "cell_type": "code",
      "source": [
        "loss_plot(loss_ewc) , accuracy_plot(acc_ewc)"
      ],
      "metadata": {
        "colab": {
          "base_uri": "https://localhost:8080/",
          "height": 562
        },
        "id": "l3GYR2WvTzdj",
        "outputId": "2b5b01bc-96ba-424b-d09f-c029c73935a1"
      },
      "execution_count": 21,
      "outputs": [
        {
          "output_type": "display_data",
          "data": {
            "text/plain": [
              "<Figure size 432x288 with 1 Axes>"
            ],
            "image/png": "[encoded data removed]"
          },
          "metadata": {
            "needs_background": "light"
          }
        },
        {
          "output_type": "display_data",
          "data": {
            "text/plain": [
              "<Figure size 432x288 with 1 Axes>"
            ],
            "image/png": "[encoded data removed]"
          },
          "metadata": {
            "needs_background": "light"
          }
        },
        {
          "output_type": "execute_result",
          "data": {
            "text/plain": [
              "(None, None)"
            ]
          },
          "metadata": {},
          "execution_count": 21
        }
      ]
    },
    {
      "cell_type": "code",
      "source": [
        "plt.plot([a.cpu() for a in acc[0]], label=\"sgd\")\n",
        "plt.plot([a.cpu() for a in acc_ewc[0]], label=\"ewc\")\n",
        "plt.legend()"
      ],
      "metadata": {
        "colab": {
          "base_uri": "https://localhost:8080/",
          "height": 282
        },
        "id": "oQg1huSnUV_c",
        "outputId": "028c1584-bbcc-4022-be9b-d012d736347f"
      },
      "execution_count": 22,
      "outputs": [
        {
          "output_type": "execute_result",
          "data": {
            "text/plain": [
              "<matplotlib.legend.Legend at 0x7f8ed322a130>"
            ]
          },
          "metadata": {},
          "execution_count": 22
        },
        {
          "output_type": "display_data",
          "data": {
            "text/plain": [
              "<Figure size 432x288 with 1 Axes>"
            ],
            "image/png": "[encoded data removed]"
          },
          "metadata": {
            "needs_background": "light"
          }
        }
      ]
    }
  ]
}