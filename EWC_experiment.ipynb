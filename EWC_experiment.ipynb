{
  "nbformat": 4,
  "nbformat_minor": 0,
  "metadata": {
    "colab": {
      "provenance": [],
      "toc_visible": true,
      "authorship_tag": "ABX9TyP+/Zxjmvo1Zax0664fYNo9",
      "include_colab_link": true
    },
    "kernelspec": {
      "name": "python3",
      "display_name": "Python 3"
    },
    "language_info": {
      "name": "python"
    }
  },
  "cells": [
    {
      "cell_type": "markdown",
      "metadata": {
        "id": "view-in-github",
        "colab_type": "text"
      },
      "source": [
        "<a href=\"https://colab.research.google.com/github/peeyushsinghal/ContinualLearning/blob/main/EWC_experiment.ipynb\" target=\"_parent\"><img src=\"https://colab.research.google.com/assets/colab-badge.svg\" alt=\"Open In Colab\"/></a>"
      ]
    },
    {
      "cell_type": "markdown",
      "source": [
        "## Importing Libraries"
      ],
      "metadata": {
        "id": "-t8BCmUKNuMb"
      }
    },
    {
      "cell_type": "code",
      "source": [
        "import torch\n",
        "import torch.nn as nn\n",
        "import torch.nn.functional as F\n",
        "import torch.optim as optim\n",
        "from torchvision import datasets, transforms\n",
        "from torchsummary import summary\n",
        "%matplotlib inline\n",
        "import matplotlib.pyplot as plt\n",
        "import random\n",
        "import warnings\n",
        "warnings.filterwarnings('ignore')\n",
        "from torch.autograd import Variable\n",
        "from copy import deepcopy\n",
        "from tqdm import tqdm"
      ],
      "metadata": {
        "id": "mew9xHnvzdXc"
      },
      "execution_count": null,
      "outputs": []
    },
    {
      "cell_type": "code",
      "source": [
        "use_cuda = torch.cuda.is_available()\n",
        "device = torch.device(\"cuda\" if use_cuda else \"cpu\")\n",
        "device"
      ],
      "metadata": {
        "colab": {
          "base_uri": "https://localhost:8080/"
        },
        "id": "W2Bg56Nd0C21",
        "outputId": "0500a332-574e-4df5-b620-fcf4977ca412"
      },
      "execution_count": null,
      "outputs": [
        {
          "output_type": "execute_result",
          "data": {
            "text/plain": [
              "device(type='cpu')"
            ]
          },
          "metadata": {},
          "execution_count": 69
        }
      ]
    },
    {
      "cell_type": "code",
      "source": [
        "def mnist_imshow(img):\n",
        "    plt.imshow(img.reshape([28,28]), cmap=\"gray\")\n",
        "    plt.axis('off')\n",
        "    plt.show()"
      ],
      "metadata": {
        "id": "UozkbtMB0PQh"
      },
      "execution_count": null,
      "outputs": []
    },
    {
      "cell_type": "code",
      "source": [
        "#@title Experiment Constants\n",
        "epochs = 2\n",
        "epochs = 50\n",
        "lr = 1e-3\n",
        "batch_size = 128\n",
        "sample_size = 200\n",
        "hidden_size = 200\n",
        "num_task = 3 # Number of tasks, task 1 we would not have any permutation\n",
        "batch_size = 128"
      ],
      "metadata": {
        "id": "ir_1lR-lOK6u"
      },
      "execution_count": 124,
      "outputs": []
    },
    {
      "cell_type": "markdown",
      "source": [
        "## Dataset and Dataloader"
      ],
      "metadata": {
        "id": "xPwKwrauAz2w"
      }
    },
    {
      "cell_type": "code",
      "source": [
        "class PermutedMNIST(datasets.MNIST):\n",
        "\n",
        "    def __init__(self, root=\"~/.torch/data/mnist\", train=True, permute_idx=None):\n",
        "        super(PermutedMNIST, self).__init__(root, train, download=True)\n",
        "        assert len(permute_idx) == 28 * 28\n",
        "        if self.train:\n",
        "          # print(\"data\", type(self.train_data),type(self.train_data[0]),self.train_data.shape, self.train_data[0].shape, self.train_data[0])\n",
        "          self.training_data= torch.stack([img.float().view(-1)[permute_idx] / 255 for img in self.train_data])\n",
        "          self.training_labels = self.train_labels\n",
        "        else:\n",
        "          self.testing_data = torch.stack([img.float().view(-1)[permute_idx] / 255 for img in self.test_data])\n",
        "          self.testing_labels = self.test_labels\n",
        "\n",
        "    def __getitem__(self, index):\n",
        "\n",
        "        if self.train:\n",
        "            img, target = self.training_data[index], self.training_labels[index]\n",
        "        else:\n",
        "            img, target = self.testing_data[index], self.testing_labels[index]\n",
        "\n",
        "        return img, target\n",
        "\n",
        "    def get_sample(self, sample_size):\n",
        "        sample_idx = random.sample(range(len(self)), sample_size)\n",
        "        return [img for img in self.training_data[sample_idx]]"
      ],
      "metadata": {
        "id": "wIIODGl2239_"
      },
      "execution_count": null,
      "outputs": []
    },
    {
      "cell_type": "code",
      "source": [
        "def get_permute_mnist():\n",
        "    train_loader = {}\n",
        "    test_loader = {}\n",
        "    idx = list(range(28 * 28)) # first time there is no shuffle\n",
        "    for i in range(num_task):\n",
        "        train_loader[i] = torch.utils.data.DataLoader(PermutedMNIST(train=True, permute_idx=idx),\n",
        "                                                      batch_size=batch_size,\n",
        "                                                      num_workers=4)\n",
        "        test_loader[i] = torch.utils.data.DataLoader(PermutedMNIST(train=False, permute_idx=idx),\n",
        "                                                     batch_size=batch_size)\n",
        "        print(f'Index for  task {i} \\n {idx}')\n",
        "        idx = random.sample(idx, len(idx))\n",
        "    return train_loader, test_loader \n",
        "\n",
        "\n",
        "train_loader, test_loader = get_permute_mnist()"
      ],
      "metadata": {
        "colab": {
          "base_uri": "https://localhost:8080/"
        },
        "id": "5RmbGeB54SLO",
        "outputId": "d97b0ab0-d96d-401f-a16d-37feee7c719e"
      },
      "execution_count": null,
      "outputs": [
        {
          "output_type": "stream",
          "name": "stdout",
          "text": [
            "Index for  task 0 \n",
            " [0, 1, 2, 3, 4, 5, 6, 7, 8, 9, 10, 11, 12, 13, 14, 15, 16, 17, 18, 19, 20, 21, 22, 23, 24, 25, 26, 27, 28, 29, 30, 31, 32, 33, 34, 35, 36, 37, 38, 39, 40, 41, 42, 43, 44, 45, 46, 47, 48, 49, 50, 51, 52, 53, 54, 55, 56, 57, 58, 59, 60, 61, 62, 63, 64, 65, 66, 67, 68, 69, 70, 71, 72, 73, 74, 75, 76, 77, 78, 79, 80, 81, 82, 83, 84, 85, 86, 87, 88, 89, 90, 91, 92, 93, 94, 95, 96, 97, 98, 99, 100, 101, 102, 103, 104, 105, 106, 107, 108, 109, 110, 111, 112, 113, 114, 115, 116, 117, 118, 119, 120, 121, 122, 123, 124, 125, 126, 127, 128, 129, 130, 131, 132, 133, 134, 135, 136, 137, 138, 139, 140, 141, 142, 143, 144, 145, 146, 147, 148, 149, 150, 151, 152, 153, 154, 155, 156, 157, 158, 159, 160, 161, 162, 163, 164, 165, 166, 167, 168, 169, 170, 171, 172, 173, 174, 175, 176, 177, 178, 179, 180, 181, 182, 183, 184, 185, 186, 187, 188, 189, 190, 191, 192, 193, 194, 195, 196, 197, 198, 199, 200, 201, 202, 203, 204, 205, 206, 207, 208, 209, 210, 211, 212, 213, 214, 215, 216, 217, 218, 219, 220, 221, 222, 223, 224, 225, 226, 227, 228, 229, 230, 231, 232, 233, 234, 235, 236, 237, 238, 239, 240, 241, 242, 243, 244, 245, 246, 247, 248, 249, 250, 251, 252, 253, 254, 255, 256, 257, 258, 259, 260, 261, 262, 263, 264, 265, 266, 267, 268, 269, 270, 271, 272, 273, 274, 275, 276, 277, 278, 279, 280, 281, 282, 283, 284, 285, 286, 287, 288, 289, 290, 291, 292, 293, 294, 295, 296, 297, 298, 299, 300, 301, 302, 303, 304, 305, 306, 307, 308, 309, 310, 311, 312, 313, 314, 315, 316, 317, 318, 319, 320, 321, 322, 323, 324, 325, 326, 327, 328, 329, 330, 331, 332, 333, 334, 335, 336, 337, 338, 339, 340, 341, 342, 343, 344, 345, 346, 347, 348, 349, 350, 351, 352, 353, 354, 355, 356, 357, 358, 359, 360, 361, 362, 363, 364, 365, 366, 367, 368, 369, 370, 371, 372, 373, 374, 375, 376, 377, 378, 379, 380, 381, 382, 383, 384, 385, 386, 387, 388, 389, 390, 391, 392, 393, 394, 395, 396, 397, 398, 399, 400, 401, 402, 403, 404, 405, 406, 407, 408, 409, 410, 411, 412, 413, 414, 415, 416, 417, 418, 419, 420, 421, 422, 423, 424, 425, 426, 427, 428, 429, 430, 431, 432, 433, 434, 435, 436, 437, 438, 439, 440, 441, 442, 443, 444, 445, 446, 447, 448, 449, 450, 451, 452, 453, 454, 455, 456, 457, 458, 459, 460, 461, 462, 463, 464, 465, 466, 467, 468, 469, 470, 471, 472, 473, 474, 475, 476, 477, 478, 479, 480, 481, 482, 483, 484, 485, 486, 487, 488, 489, 490, 491, 492, 493, 494, 495, 496, 497, 498, 499, 500, 501, 502, 503, 504, 505, 506, 507, 508, 509, 510, 511, 512, 513, 514, 515, 516, 517, 518, 519, 520, 521, 522, 523, 524, 525, 526, 527, 528, 529, 530, 531, 532, 533, 534, 535, 536, 537, 538, 539, 540, 541, 542, 543, 544, 545, 546, 547, 548, 549, 550, 551, 552, 553, 554, 555, 556, 557, 558, 559, 560, 561, 562, 563, 564, 565, 566, 567, 568, 569, 570, 571, 572, 573, 574, 575, 576, 577, 578, 579, 580, 581, 582, 583, 584, 585, 586, 587, 588, 589, 590, 591, 592, 593, 594, 595, 596, 597, 598, 599, 600, 601, 602, 603, 604, 605, 606, 607, 608, 609, 610, 611, 612, 613, 614, 615, 616, 617, 618, 619, 620, 621, 622, 623, 624, 625, 626, 627, 628, 629, 630, 631, 632, 633, 634, 635, 636, 637, 638, 639, 640, 641, 642, 643, 644, 645, 646, 647, 648, 649, 650, 651, 652, 653, 654, 655, 656, 657, 658, 659, 660, 661, 662, 663, 664, 665, 666, 667, 668, 669, 670, 671, 672, 673, 674, 675, 676, 677, 678, 679, 680, 681, 682, 683, 684, 685, 686, 687, 688, 689, 690, 691, 692, 693, 694, 695, 696, 697, 698, 699, 700, 701, 702, 703, 704, 705, 706, 707, 708, 709, 710, 711, 712, 713, 714, 715, 716, 717, 718, 719, 720, 721, 722, 723, 724, 725, 726, 727, 728, 729, 730, 731, 732, 733, 734, 735, 736, 737, 738, 739, 740, 741, 742, 743, 744, 745, 746, 747, 748, 749, 750, 751, 752, 753, 754, 755, 756, 757, 758, 759, 760, 761, 762, 763, 764, 765, 766, 767, 768, 769, 770, 771, 772, 773, 774, 775, 776, 777, 778, 779, 780, 781, 782, 783]\n",
            "Index for  task 1 \n",
            " [460, 373, 303, 364, 250, 551, 57, 581, 160, 601, 309, 215, 420, 15, 446, 70, 463, 308, 82, 773, 578, 242, 104, 657, 709, 758, 72, 195, 634, 708, 2, 732, 606, 643, 441, 474, 710, 201, 118, 55, 542, 196, 781, 182, 332, 380, 665, 347, 391, 593, 412, 362, 669, 604, 400, 693, 625, 277, 734, 386, 63, 410, 528, 19, 348, 740, 647, 123, 457, 518, 67, 175, 535, 18, 33, 429, 291, 202, 684, 490, 345, 721, 91, 707, 208, 381, 46, 539, 210, 444, 107, 704, 415, 65, 349, 639, 122, 384, 300, 753, 115, 223, 481, 550, 95, 189, 110, 331, 188, 225, 646, 117, 159, 424, 31, 557, 599, 296, 369, 771, 508, 546, 183, 592, 569, 312, 56, 678, 352, 181, 447, 572, 399, 125, 265, 701, 129, 633, 562, 782, 350, 396, 449, 754, 337, 186, 236, 462, 751, 169, 570, 749, 327, 544, 478, 314, 143, 21, 727, 388, 167, 409, 25, 325, 389, 363, 473, 565, 432, 527, 263, 766, 434, 765, 469, 733, 506, 759, 245, 741, 161, 272, 726, 81, 623, 610, 484, 470, 173, 702, 423, 51, 398, 103, 76, 113, 418, 696, 720, 64, 158, 714, 666, 777, 133, 339, 42, 688, 552, 135, 273, 285, 334, 255, 722, 321, 372, 392, 145, 335, 234, 149, 466, 80, 595, 324, 651, 402, 747, 676, 566, 699, 211, 60, 488, 521, 317, 553, 407, 382, 413, 436, 336, 620, 627, 102, 204, 366, 228, 555, 637, 34, 5, 280, 212, 523, 501, 241, 301, 519, 607, 45, 419, 297, 88, 320, 257, 376, 608, 453, 416, 406, 260, 286, 603, 73, 313, 253, 379, 231, 641, 644, 89, 491, 580, 128, 738, 408, 116, 29, 342, 47, 154, 586, 287, 397, 619, 571, 7, 598, 237, 97, 631, 609, 96, 774, 283, 514, 307, 24, 658, 299, 294, 206, 41, 594, 485, 458, 494, 411, 293, 172, 4, 151, 745, 326, 0, 141, 776, 340, 216, 99, 232, 591, 79, 417, 529, 49, 577, 230, 404, 574, 682, 275, 507, 439, 395, 176, 37, 360, 683, 667, 83, 281, 233, 489, 170, 425, 503, 166, 615, 259, 353, 14, 213, 648, 692, 217, 630, 9, 156, 203, 218, 433, 554, 269, 452, 219, 140, 90, 549, 437, 177, 534, 464, 274, 713, 179, 583, 590, 624, 92, 515, 772, 54, 330, 567, 677, 573, 778, 264, 654, 461, 438, 638, 106, 483, 17, 359, 558, 252, 616, 109, 476, 746, 53, 338, 11, 614, 368, 6, 288, 448, 240, 556, 504, 422, 132, 510, 124, 295, 717, 292, 30, 155, 93, 526, 675, 502, 86, 560, 370, 764, 23, 305, 39, 147, 58, 346, 602, 226, 243, 670, 394, 547, 40, 685, 612, 205, 239, 222, 401, 378, 258, 249, 475, 442, 585, 111, 356, 44, 371, 768, 27, 139, 752, 783, 174, 193, 689, 487, 480, 136, 645, 74, 131, 383, 130, 153, 1, 662, 621, 541, 390, 150, 36, 445, 152, 538, 165, 632, 431, 180, 28, 687, 517, 511, 35, 671, 468, 640, 691, 197, 168, 276, 563, 190, 144, 187, 715, 254, 235, 48, 767, 663, 322, 84, 199, 428, 761, 361, 120, 355, 20, 725, 668, 114, 10, 247, 780, 769, 605, 127, 537, 38, 673, 655, 729, 531, 16, 724, 178, 341, 576, 71, 316, 695, 770, 739, 561, 148, 318, 146, 579, 385, 540, 465, 723, 8, 238, 270, 98, 757, 220, 536, 596, 743, 157, 525, 703, 289, 66, 505, 443, 405, 697, 496, 374, 744, 214, 731, 279, 584, 479, 319, 530, 85, 779, 597, 12, 3, 333, 323, 472, 543, 459, 617, 62, 207, 22, 261, 712, 622, 59, 548, 450, 310, 618, 328, 694, 105, 244, 343, 367, 358, 588, 493, 762, 681, 636, 100, 112, 756, 718, 661, 344, 674, 628, 198, 482, 600, 730, 522, 427, 26, 268, 126, 354, 750, 351, 164, 705, 742, 495, 735, 455, 282, 706, 306, 163, 377, 50, 650, 13, 171, 185, 635, 256, 763, 194, 329, 698, 509, 440, 221, 184, 533, 642, 119, 414, 582, 532, 75, 629, 137, 426, 248, 679, 498, 477, 492, 497, 775, 611, 298, 52, 387, 267, 32, 78, 719, 545, 191, 68, 613, 284, 69, 513, 290, 108, 664, 142, 393, 652, 486, 575, 61, 278, 227, 656, 101, 94, 760, 454, 403, 251, 134, 357, 471, 499, 728, 736, 77, 653, 716, 87, 451, 737, 559, 138, 224, 649, 516, 659, 209, 711, 200, 564, 266, 311, 589, 672, 262, 375, 121, 700, 430, 302, 587, 660, 304, 755, 315, 568, 271, 246, 680, 43, 626, 748, 520, 690, 512, 421, 500, 686, 192, 435, 365, 456, 524, 162, 229, 467]\n",
            "Index for  task 2 \n",
            " [705, 231, 94, 582, 247, 532, 19, 520, 544, 130, 181, 35, 533, 783, 4, 308, 277, 487, 444, 386, 577, 68, 99, 295, 152, 650, 379, 276, 736, 235, 699, 43, 776, 605, 439, 474, 125, 646, 216, 57, 233, 388, 781, 218, 278, 676, 396, 750, 364, 354, 279, 637, 509, 192, 744, 190, 778, 135, 38, 541, 14, 335, 551, 530, 123, 502, 333, 221, 570, 434, 30, 36, 78, 207, 557, 129, 172, 367, 171, 510, 365, 547, 100, 178, 441, 88, 554, 331, 528, 12, 85, 328, 708, 536, 352, 169, 240, 187, 349, 222, 583, 768, 182, 312, 591, 138, 489, 674, 71, 713, 314, 682, 568, 490, 558, 447, 721, 402, 569, 124, 286, 299, 428, 118, 191, 360, 745, 369, 670, 334, 102, 151, 18, 305, 45, 203, 5, 91, 198, 401, 486, 33, 387, 155, 521, 238, 621, 273, 81, 463, 683, 266, 20, 697, 537, 516, 340, 338, 195, 95, 225, 374, 668, 290, 415, 719, 715, 738, 2, 59, 164, 285, 215, 653, 432, 76, 393, 642, 93, 304, 39, 616, 236, 761, 772, 60, 122, 10, 720, 167, 723, 380, 759, 394, 96, 44, 482, 111, 506, 459, 206, 145, 173, 351, 226, 353, 553, 371, 671, 265, 205, 348, 242, 339, 623, 62, 636, 260, 655, 658, 709, 639, 693, 25, 317, 355, 131, 325, 344, 27, 773, 471, 423, 34, 202, 281, 209, 282, 6, 662, 186, 496, 615, 87, 762, 373, 654, 611, 609, 280, 148, 564, 146, 400, 72, 534, 54, 109, 313, 292, 618, 358, 501, 711, 775, 117, 556, 686, 555, 498, 567, 649, 82, 515, 733, 15, 372, 389, 47, 452, 731, 51, 230, 523, 725, 414, 184, 419, 754, 368, 505, 183, 767, 180, 50, 610, 457, 469, 272, 275, 110, 493, 561, 612, 559, 196, 435, 409, 542, 55, 407, 602, 378, 58, 89, 297, 571, 659, 214, 361, 142, 345, 644, 763, 743, 681, 422, 466, 24, 161, 342, 9, 243, 13, 120, 438, 263, 604, 42, 23, 392, 431, 208, 472, 462, 429, 250, 640, 704, 17, 727, 162, 298, 531, 107, 251, 769, 539, 157, 108, 504, 620, 421, 779, 61, 456, 200, 269, 41, 477, 631, 726, 651, 403, 752, 52, 524, 288, 40, 484, 160, 213, 245, 596, 22, 645, 65, 706, 598, 455, 170, 479, 581, 294, 624, 633, 116, 565, 319, 475, 115, 296, 717, 573, 458, 538, 21, 126, 753, 437, 267, 702, 737, 508, 678, 464, 580, 322, 440, 289, 398, 90, 747, 150, 256, 84, 710, 341, 652, 300, 16, 258, 303, 73, 607, 293, 0, 691, 641, 318, 592, 513, 749, 741, 468, 665, 518, 562, 529, 210, 86, 212, 689, 46, 480, 560, 575, 417, 140, 566, 63, 237, 261, 11, 585, 572, 359, 701, 446, 311, 525, 362, 780, 595, 343, 229, 193, 770, 673, 262, 357, 500, 491, 552, 66, 757, 601, 64, 395, 97, 597, 255, 751, 494, 413, 26, 224, 698, 517, 156, 418, 75, 712, 499, 495, 690, 634, 197, 56, 527, 194, 603, 384, 404, 119, 77, 53, 31, 488, 764, 756, 672, 106, 492, 48, 546, 246, 473, 714, 376, 724, 660, 188, 647, 587, 405, 391, 722, 1, 684, 309, 627, 594, 739, 67, 302, 28, 549, 204, 426, 356, 259, 460, 332, 412, 346, 729, 248, 663, 399, 700, 748, 174, 7, 336, 630, 445, 301, 143, 765, 574, 450, 291, 29, 638, 112, 149, 661, 593, 310, 179, 163, 589, 746, 669, 606, 540, 696, 410, 223, 545, 80, 442, 113, 32, 777, 628, 98, 70, 687, 121, 390, 535, 453, 436, 264, 465, 92, 350, 316, 128, 227, 563, 514, 511, 443, 766, 144, 158, 307, 755, 337, 166, 590, 347, 211, 694, 147, 375, 83, 454, 326, 287, 244, 703, 425, 254, 550, 37, 201, 153, 643, 175, 189, 543, 758, 327, 578, 667, 427, 688, 740, 239, 377, 114, 485, 139, 385, 470, 176, 503, 648, 168, 315, 159, 101, 8, 522, 406, 408, 127, 679, 507, 257, 330, 728, 268, 141, 774, 782, 588, 253, 185, 599, 320, 232, 321, 133, 732, 760, 481, 692, 324, 483, 519, 381, 735, 718, 526, 657, 329, 323, 635, 707, 579, 3, 625, 234, 451, 467, 366, 675, 241, 306, 103, 586, 680, 382, 217, 228, 271, 677, 449, 576, 734, 622, 433, 284, 685, 104, 177, 430, 397, 619, 666, 134, 136, 548, 617, 584, 283, 771, 252, 626, 695, 656, 632, 363, 629, 274, 199, 476, 249, 165, 416, 730, 220, 742, 664, 608, 383, 716, 600, 270, 478, 219, 411, 448, 613, 49, 497, 420, 424, 137, 370, 74, 614, 69, 461, 154, 132, 512, 105, 79]\n"
          ]
        }
      ]
    },
    {
      "cell_type": "code",
      "source": [
        "t = 0\n",
        "for i in range(num_task):\n",
        "  print(f' ------task {i} --------')\n",
        "  batch = next(iter(train_loader[i]))\n",
        "  if t == 0:\n",
        "    t = random.randint(1,len(batch))\n",
        "  image, label = batch[0][t], batch[1][t]\n",
        "  print (batch[0][t].shape)\n",
        "  print(\"label : \", label.item())  \n",
        "  mnist_imshow(image)\n"
      ],
      "metadata": {
        "colab": {
          "base_uri": "https://localhost:8080/",
          "height": 874
        },
        "id": "N9_VzEOe944D",
        "outputId": "b67b57f1-4663-4e17-ba2f-fc8dc23dcedc"
      },
      "execution_count": null,
      "outputs": [
        {
          "output_type": "stream",
          "name": "stdout",
          "text": [
            " ------task 0 --------\n",
            "torch.Size([784])\n",
            "label :  0\n"
          ]
        },
        {
          "output_type": "display_data",
          "data": {
            "text/plain": [
              "<Figure size 432x288 with 1 Axes>"
            ],
            "image/png": "[encoded data removed]"
          },
          "metadata": {
            "needs_background": "light"
          }
        },
        {
          "output_type": "stream",
          "name": "stdout",
          "text": [
            " ------task 1 --------\n",
            "torch.Size([784])\n",
            "label :  0\n"
          ]
        },
        {
          "output_type": "display_data",
          "data": {
            "text/plain": [
              "<Figure size 432x288 with 1 Axes>"
            ],
            "image/png": "[encoded data removed]"
          },
          "metadata": {
            "needs_background": "light"
          }
        },
        {
          "output_type": "stream",
          "name": "stdout",
          "text": [
            " ------task 2 --------\n",
            "torch.Size([784])\n",
            "label :  0\n"
          ]
        },
        {
          "output_type": "display_data",
          "data": {
            "text/plain": [
              "<Figure size 432x288 with 1 Axes>"
            ],
            "image/png": "[encoded data removed]"
          },
          "metadata": {
            "needs_background": "light"
          }
        }
      ]
    },
    {
      "cell_type": "markdown",
      "source": [
        "## Network\n",
        "A simple network with only Linear layers"
      ],
      "metadata": {
        "id": "Fhd020tFBSjj"
      }
    },
    {
      "cell_type": "code",
      "source": [
        "class MLP(nn.Module):\n",
        "    def __init__(self, hidden_size=200):\n",
        "        super(MLP, self).__init__()\n",
        "        self.fc1 = nn.Linear(28 * 28, hidden_size)\n",
        "        self.fc2 = nn.Linear(hidden_size, hidden_size)\n",
        "        self.fc3 = nn.Linear(hidden_size, hidden_size)\n",
        "        self.fc4 = nn.Linear(hidden_size, 10)\n",
        "\n",
        "    def forward(self, input):\n",
        "        x = F.relu(self.fc1(input))\n",
        "        x = F.relu(self.fc2(x))\n",
        "        x = F.relu(self.fc3(x))\n",
        "        x = F.relu(self.fc4(x))\n",
        "        return x\n",
        "\n",
        "model = MLP().to(device)\n",
        "summary(model, input_size=(1,784))"
      ],
      "metadata": {
        "id": "11gMlQ_tATUi",
        "colab": {
          "base_uri": "https://localhost:8080/"
        },
        "outputId": "ee7a1ec2-e2ae-4576-c237-47fc72da1f04"
      },
      "execution_count": null,
      "outputs": [
        {
          "output_type": "stream",
          "name": "stdout",
          "text": [
            "----------------------------------------------------------------\n",
            "        Layer (type)               Output Shape         Param #\n",
            "================================================================\n",
            "            Linear-1               [-1, 1, 200]         157,000\n",
            "            Linear-2               [-1, 1, 200]          40,200\n",
            "            Linear-3               [-1, 1, 200]          40,200\n",
            "            Linear-4                [-1, 1, 10]           2,010\n",
            "================================================================\n",
            "Total params: 239,410\n",
            "Trainable params: 239,410\n",
            "Non-trainable params: 0\n",
            "----------------------------------------------------------------\n",
            "Input size (MB): 0.00\n",
            "Forward/backward pass size (MB): 0.00\n",
            "Params size (MB): 0.91\n",
            "Estimated Total Size (MB): 0.92\n",
            "----------------------------------------------------------------\n"
          ]
        }
      ]
    },
    {
      "cell_type": "markdown",
      "source": [
        "## Normal Train Function"
      ],
      "metadata": {
        "id": "3TyLrcpSCW5d"
      }
    },
    {
      "cell_type": "markdown",
      "source": [
        "Variable Function - Used for Gradient [Reference](https://www.geeksforgeeks.org/variables-and-autograd-in-pytorch/)"
      ],
      "metadata": {
        "id": "PuPKHl4DD8X-"
      }
    },
    {
      "cell_type": "code",
      "source": [
        "def variable(t: torch.Tensor, use_cuda=True, **kwargs):\n",
        "  \"\"\"\n",
        "  Takes in a tensor and converts into a tensor with gradient\n",
        "  We would need gradients of parameters, hence needed \n",
        "  \"\"\"\n",
        "  if torch.cuda.is_available() and use_cuda:\n",
        "    t = t.cuda()\n",
        "  return Variable(t, **kwargs)"
      ],
      "metadata": {
        "id": "TZLeg4S-Cu0w"
      },
      "execution_count": null,
      "outputs": []
    },
    {
      "cell_type": "code",
      "source": [
        "def normal_train(model: nn.Module, \n",
        "                 optimizer: torch.optim, \n",
        "                 data_loader: torch.utils.data.DataLoader):\n",
        "  \"\"\"\n",
        "  Takes in a model architecture, trains its and returns average epoch loss\n",
        "  \"\"\"\n",
        "  model.train()\n",
        "  epoch_loss = 0\n",
        "  for input, target in data_loader:\n",
        "      input, target = variable(input), variable(target)\n",
        "      optimizer.zero_grad()\n",
        "      output = model(input)\n",
        "      loss = F.cross_entropy(output, target)\n",
        "      epoch_loss += loss.item()\n",
        "      loss.backward()\n",
        "      optimizer.step()\n",
        "  return epoch_loss / len(data_loader)"
      ],
      "metadata": {
        "id": "GC0xaEMDBhd9"
      },
      "execution_count": null,
      "outputs": []
    },
    {
      "cell_type": "markdown",
      "source": [
        "## Normal Test Function"
      ],
      "metadata": {
        "id": "FyCWxxpHNl9W"
      }
    },
    {
      "cell_type": "code",
      "source": [
        "def test(model: nn.Module, \n",
        "         data_loader: torch.utils.data.DataLoader):\n",
        "    model.eval()\n",
        "    correct = 0\n",
        "    for input, target in data_loader:\n",
        "        input, target = variable(input), variable(target)\n",
        "        output = model(input)\n",
        "        correct += (F.softmax(output, dim=1).max(dim=1)[1] == target).data.sum()\n",
        "    return correct / len(data_loader.dataset)"
      ],
      "metadata": {
        "id": "JmMNFbKPMwLl"
      },
      "execution_count": null,
      "outputs": []
    },
    {
      "cell_type": "markdown",
      "source": [
        "## Elastic Weight Consolidation"
      ],
      "metadata": {
        "id": "prQlMMx8EvjZ"
      }
    },
    {
      "cell_type": "code",
      "source": [
        "class EWC(object):\n",
        "    def __init__(self, \n",
        "                 model: nn.Module, \n",
        "                 dataset: list):\n",
        "\n",
        "        self.model = model\n",
        "        self.dataset = dataset\n",
        "\n",
        "        # default model params\n",
        "        self.params = {n: p for n, p in self.model.named_parameters() if p.requires_grad}\n",
        "        self._means = {}\n",
        "        self._precision_matrices = self._diag_fisher()\n",
        "\n",
        "        for n, p in deepcopy(self.params).items():\n",
        "            self._means[n] = variable(p.data)\n",
        "\n",
        "    def _diag_fisher(self):\n",
        "        precision_matrices = {}\n",
        "        for n, p in deepcopy(self.params).items():\n",
        "            p.data.zero_()\n",
        "            precision_matrices[n] = variable(p.data)\n",
        "\n",
        "        self.model.eval() # we need to do one round of back propogation to understand the gradients of params\n",
        "        # interestingly we dont have to always use model.train() to get the gradients\n",
        "        for input in self.dataset:\n",
        "            self.model.zero_grad()\n",
        "            input = variable(input)\n",
        "            output = self.model(input).view(1, -1)\n",
        "            label = output.max(1)[1].view(-1)\n",
        "            loss = F.nll_loss(F.log_softmax(output, dim=1), label)\n",
        "            loss.backward()\n",
        "\n",
        "            for n, p in self.model.named_parameters():\n",
        "                precision_matrices[n].data += p.grad.data ** 2 / len(self.dataset)\n",
        "\n",
        "        precision_matrices = {n: p for n, p in precision_matrices.items()}\n",
        "        return precision_matrices\n",
        "\n",
        "    def penalty(self, model: nn.Module):\n",
        "        loss = 0\n",
        "        for n, p in model.named_parameters():\n",
        "            _loss = self._precision_matrices[n] * (p - self._means[n]) ** 2\n",
        "            loss += _loss.sum()\n",
        "        return loss"
      ],
      "metadata": {
        "id": "q3AgaT_vB-1p"
      },
      "execution_count": null,
      "outputs": []
    },
    {
      "cell_type": "markdown",
      "source": [
        "### EWC Train Function\n",
        "This has got Penalties"
      ],
      "metadata": {
        "id": "GoNJoihFMWYR"
      }
    },
    {
      "cell_type": "code",
      "source": [
        "def ewc_train(model: nn.Module, \n",
        "              optimizer: torch.optim, \n",
        "              data_loader: torch.utils.data.DataLoader,\n",
        "              ewc: EWC, \n",
        "              importance: float): # importance is a hyperparam \n",
        "    model.train()\n",
        "    epoch_loss = 0\n",
        "    for input, target in data_loader:\n",
        "        input, target = variable(input), variable(target)\n",
        "        optimizer.zero_grad()\n",
        "        output = model(input)\n",
        "        ##-------Updated Loss Function-------###\n",
        "        loss = F.cross_entropy(output, target) + importance * ewc.penalty(model)\n",
        "        epoch_loss += loss.item()\n",
        "        loss.backward()\n",
        "        optimizer.step()\n",
        "    return epoch_loss / len(data_loader)"
      ],
      "metadata": {
        "id": "rsxEkomJMS5c"
      },
      "execution_count": 120,
      "outputs": []
    },
    {
      "cell_type": "markdown",
      "source": [
        "\n",
        "## Plot Functions"
      ],
      "metadata": {
        "id": "MwdRBH_URrSn"
      }
    },
    {
      "cell_type": "code",
      "source": [
        "def loss_plot(x):\n",
        "    for t, v in x.items():\n",
        "        plt.plot(list(range(t * epochs, (t + 1) * epochs)), v, label = \"Task \"+ str(t))\n",
        "    plt.legend(loc = 'upper right')\n",
        "    plt.title(\"Loss Plot\")\n",
        "    plt.show()\n",
        "\n",
        "def accuracy_plot(x):\n",
        "    for t, v in x.items():\n",
        "        plt.plot(list(range(t * epochs, num_task * epochs)), v, label = \"Task \"+  str(t))\n",
        "    plt.ylim(0, 1)\n",
        "    plt.legend(loc = 'upper right')\n",
        "    plt.title(\"Accuracy Plot\")\n",
        "    plt.show()"
      ],
      "metadata": {
        "id": "Ucr_DlDCRo_V"
      },
      "execution_count": 116,
      "outputs": []
    },
    {
      "cell_type": "markdown",
      "source": [
        "## Standard Process Execution"
      ],
      "metadata": {
        "id": "3_khx8ERN1QN"
      }
    },
    {
      "cell_type": "code",
      "source": [
        "def standard_process(epochs, use_cuda=True, weight=True):\n",
        "    model = MLP(hidden_size)\n",
        "    if torch.cuda.is_available() and use_cuda:\n",
        "        model.cuda()\n",
        "    optimizer = optim.SGD(params=model.parameters(), lr=lr)\n",
        "\n",
        "    loss, acc = {}, {} # across tasks \n",
        "    for task in range(num_task):\n",
        "        loss[task] = [] # per task loss\n",
        "        acc[task] = [] # per task accuracy\n",
        "        for _ in tqdm(range(epochs)):\n",
        "            loss[task].append(normal_train(model, optimizer, train_loader[task]))\n",
        "            for sub_task in range(task + 1):\n",
        "                acc[sub_task].append(test(model, test_loader[sub_task]))\n",
        "        if task == 0 and weight:\n",
        "            weight = model.state_dict()\n",
        "    return loss, acc, weight"
      ],
      "metadata": {
        "id": "TSeexybANCk_"
      },
      "execution_count": 113,
      "outputs": []
    },
    {
      "cell_type": "code",
      "source": [
        "#@title Training and Output of Standard Process\n",
        "loss, acc, weight = standard_process(epochs) # The weights are used by EWC process"
      ],
      "metadata": {
        "colab": {
          "base_uri": "https://localhost:8080/"
        },
        "id": "tmihHuWgO8Vd",
        "outputId": "332fba51-0e2d-42f3-a38f-86b10120018a"
      },
      "execution_count": 125,
      "outputs": [
        {
          "output_type": "stream",
          "name": "stderr",
          "text": [
            "100%|██████████| 50/50 [03:49<00:00,  4.59s/it]\n",
            "100%|██████████| 50/50 [03:59<00:00,  4.79s/it]\n",
            "100%|██████████| 50/50 [04:15<00:00,  5.11s/it]\n"
          ]
        }
      ]
    },
    {
      "cell_type": "code",
      "source": [
        "loss_plot(loss), accuracy_plot(acc)"
      ],
      "metadata": {
        "colab": {
          "base_uri": "https://localhost:8080/",
          "height": 563
        },
        "id": "Ve29OTX-TQCd",
        "outputId": "b09941db-65bc-4591-c916-415bdc21953a"
      },
      "execution_count": 126,
      "outputs": [
        {
          "output_type": "display_data",
          "data": {
            "text/plain": [
              "<Figure size 432x288 with 1 Axes>"
            ],
            "image/png": "[encoded data removed]"
          },
          "metadata": {
            "needs_background": "light"
          }
        },
        {
          "output_type": "display_data",
          "data": {
            "text/plain": [
              "<Figure size 432x288 with 1 Axes>"
            ],
            "image/png": "[encoded data removed]"
          },
          "metadata": {
            "needs_background": "light"
          }
        },
        {
          "output_type": "execute_result",
          "data": {
            "text/plain": [
              "(None, None)"
            ]
          },
          "metadata": {},
          "execution_count": 126
        }
      ]
    },
    {
      "cell_type": "code",
      "source": [
        "(weight)"
      ],
      "metadata": {
        "colab": {
          "base_uri": "https://localhost:8080/"
        },
        "id": "zGBtf4g0SX2Z",
        "outputId": "9ddcc5a7-c0dc-41ec-f5d8-03158c031cfc"
      },
      "execution_count": 127,
      "outputs": [
        {
          "output_type": "execute_result",
          "data": {
            "text/plain": [
              "OrderedDict([('fc1.weight',\n",
              "              tensor([[ 0.0319,  0.0169, -0.0140,  ...,  0.0280,  0.0269, -0.0357],\n",
              "                      [-0.0006, -0.0162,  0.0313,  ..., -0.0052, -0.0190, -0.0439],\n",
              "                      [-0.0128, -0.0255, -0.0037,  ...,  0.0091,  0.0011, -0.0171],\n",
              "                      ...,\n",
              "                      [ 0.0206,  0.0522, -0.0342,  ..., -0.0319,  0.0009, -0.0275],\n",
              "                      [-0.0075, -0.0079, -0.0142,  ..., -0.0196,  0.0206,  0.0233],\n",
              "                      [ 0.0086,  0.0160,  0.0047,  ..., -0.0069, -0.0366,  0.0045]])),\n",
              "             ('fc1.bias',\n",
              "              tensor([ 3.5735e-02,  1.5222e-02, -2.4375e-02,  1.6001e-02, -1.7563e-02,\n",
              "                      -2.9967e-02,  5.0497e-02, -3.1193e-03, -7.5430e-03,  2.5895e-02,\n",
              "                       1.5425e-02, -9.9276e-03,  1.1545e-02, -1.4305e-02,  6.2072e-02,\n",
              "                       4.3924e-02,  1.1756e-02,  1.7072e-02,  3.9456e-02,  2.5933e-03,\n",
              "                       1.7506e-02, -2.9858e-02,  3.4841e-02,  4.2597e-02,  2.0879e-02,\n",
              "                       2.4099e-03,  5.4756e-03,  2.2336e-02,  3.0850e-02,  3.1727e-02,\n",
              "                       2.1900e-02, -6.9670e-05,  6.7789e-02,  5.0100e-02, -3.9973e-02,\n",
              "                       3.6734e-02,  4.4067e-02,  2.7392e-02,  9.7837e-03,  1.3297e-02,\n",
              "                       4.8731e-02,  7.3437e-02, -1.3960e-02,  7.9577e-03,  3.6297e-02,\n",
              "                      -2.9853e-02,  5.2697e-02, -3.9784e-04, -2.6361e-02,  3.2643e-03,\n",
              "                      -6.1435e-03, -2.1908e-02, -2.5962e-03,  5.7099e-03,  1.7322e-02,\n",
              "                      -3.5788e-03,  3.3421e-02,  2.6668e-03,  4.1250e-02,  6.6387e-02,\n",
              "                      -3.0263e-02, -5.6900e-04,  2.7014e-02,  4.7017e-03, -6.5258e-03,\n",
              "                      -3.5395e-02,  8.0093e-02,  6.7408e-02, -2.2018e-02, -2.9511e-02,\n",
              "                      -1.9734e-02,  6.7577e-02,  3.5924e-02, -8.9811e-03,  5.8383e-02,\n",
              "                       2.5838e-02,  6.0008e-03,  2.0136e-02,  3.6623e-03, -8.6745e-03,\n",
              "                       6.4290e-03,  2.6440e-02, -2.7457e-03,  2.1105e-02, -5.0214e-02,\n",
              "                       5.8956e-02,  4.2564e-02,  9.0168e-02,  3.3676e-02, -1.5726e-02,\n",
              "                       2.8360e-03,  3.1242e-02,  3.0973e-02, -1.9848e-02,  6.3699e-02,\n",
              "                      -3.2107e-02,  9.0215e-03,  1.0473e-02,  2.9888e-02,  6.7415e-02,\n",
              "                       5.7249e-02,  1.1534e-02, -7.5443e-03,  8.4815e-02,  7.6918e-03,\n",
              "                       2.8603e-03,  4.0163e-03, -9.0037e-03,  2.2557e-02,  2.9522e-02,\n",
              "                       3.1568e-02,  3.0472e-02,  2.0816e-02,  1.0680e-01, -7.2888e-03,\n",
              "                       2.7277e-02,  1.3308e-02,  1.7833e-02, -1.5107e-02,  6.1130e-02,\n",
              "                      -1.6819e-03, -2.8450e-02,  4.0599e-02,  5.1827e-02,  3.5136e-02,\n",
              "                       2.4371e-02, -1.2418e-04, -8.1256e-04,  5.0565e-02, -5.4490e-03,\n",
              "                       6.7651e-02, -1.9413e-02,  3.6494e-02,  9.5197e-03,  6.1433e-02,\n",
              "                       2.4719e-02,  2.6690e-02,  1.0794e-02,  5.8780e-03, -2.3202e-03,\n",
              "                      -3.6466e-02,  2.5240e-03,  2.0632e-02, -5.6639e-03, -1.5998e-02,\n",
              "                       6.3018e-02, -8.8338e-03,  8.2438e-03,  7.1158e-06,  1.5545e-02,\n",
              "                       2.0150e-02,  6.6784e-03,  1.9683e-02,  2.9215e-02,  4.9476e-02,\n",
              "                      -2.4787e-02,  9.7348e-03,  1.9128e-03,  2.1800e-03, -3.0486e-02,\n",
              "                       4.8917e-02,  2.6991e-02, -1.4081e-02, -2.3045e-02,  8.0085e-02,\n",
              "                       4.1238e-02,  1.6940e-02,  6.7722e-02, -3.7098e-02,  2.7576e-02,\n",
              "                      -1.6549e-02,  2.6340e-02,  2.8446e-02,  1.0149e-02,  7.1431e-02,\n",
              "                      -3.7162e-03,  2.8673e-02,  4.0655e-02,  4.5770e-02,  5.5040e-02,\n",
              "                       2.8376e-02,  3.1566e-02,  1.2518e-01,  5.2684e-02, -2.5383e-02,\n",
              "                       6.3933e-02,  7.6006e-03,  4.3504e-02,  1.9244e-02, -1.2068e-02,\n",
              "                       2.0646e-02,  6.9968e-02,  1.2596e-02,  8.4236e-02,  1.6193e-03,\n",
              "                       3.7908e-02,  1.5153e-02,  8.5102e-02, -2.3811e-02,  1.3535e-02])),\n",
              "             ('fc2.weight',\n",
              "              tensor([[-1.3959e-02,  1.8738e-01,  1.7221e-04,  ...,  3.8804e-02,\n",
              "                       -3.2908e-02,  1.0207e-02],\n",
              "                      [-2.6578e-02, -3.2488e-02, -6.3182e-02,  ..., -5.3404e-03,\n",
              "                        4.6467e-02, -8.1546e-03],\n",
              "                      [ 7.3287e-02, -1.0827e-01, -2.7200e-03,  ...,  9.3002e-02,\n",
              "                        5.3388e-02, -8.5247e-04],\n",
              "                      ...,\n",
              "                      [-3.2989e-02, -5.6119e-02,  3.5213e-02,  ...,  6.5048e-02,\n",
              "                       -6.6781e-02, -6.0334e-02],\n",
              "                      [-4.0008e-02, -2.5639e-03, -4.9067e-02,  ..., -5.7808e-02,\n",
              "                        2.8820e-02, -1.5758e-02],\n",
              "                      [ 1.5554e-02,  5.8535e-03,  4.2470e-02,  ..., -5.9289e-02,\n",
              "                       -2.2046e-02, -2.8961e-02]])),\n",
              "             ('fc2.bias',\n",
              "              tensor([-7.9963e-03, -1.3131e-03,  1.2818e-01,  5.4820e-02,  1.0490e-04,\n",
              "                       1.4887e-01, -5.3709e-02,  3.4452e-02,  3.0637e-02, -1.8524e-02,\n",
              "                       2.7552e-02,  2.2433e-02,  7.3768e-02,  6.1262e-02, -5.6410e-03,\n",
              "                       1.1125e-02, -2.0421e-02, -9.7559e-03,  4.7053e-02,  5.3848e-02,\n",
              "                       5.0151e-02, -1.5550e-02,  5.6257e-02,  3.1888e-03, -1.6054e-02,\n",
              "                      -1.9481e-02, -1.3301e-02,  5.9901e-02,  7.4410e-02,  2.4814e-02,\n",
              "                       4.2112e-02, -6.3123e-02,  9.7181e-02,  2.1153e-02,  6.2962e-02,\n",
              "                       7.6551e-02, -4.5816e-02, -2.0383e-02,  1.8525e-02,  1.0024e-01,\n",
              "                       8.1871e-02,  1.4631e-02,  9.7642e-02,  5.1587e-02,  9.7623e-02,\n",
              "                       2.3537e-02,  3.6908e-02,  6.4497e-02, -5.7683e-02,  1.1562e-01,\n",
              "                       5.1590e-03,  5.6361e-02,  1.0151e-01,  7.0170e-02, -5.0944e-02,\n",
              "                      -3.6673e-02, -2.2563e-02, -6.9294e-02,  4.7491e-02,  3.4740e-03,\n",
              "                      -2.2964e-02, -4.6417e-02, -8.9193e-03, -2.3340e-02, -3.1762e-03,\n",
              "                       5.2184e-02,  8.4566e-02,  6.5363e-03,  3.0400e-02,  2.2536e-02,\n",
              "                       2.5234e-02,  1.0374e-02,  5.2131e-02, -7.7906e-02, -7.6883e-02,\n",
              "                       2.3435e-02,  4.6127e-02,  9.0599e-02,  6.6631e-02,  3.8603e-03,\n",
              "                       6.6876e-02,  8.9412e-02, -6.4466e-02,  6.6588e-02, -6.7701e-02,\n",
              "                       4.9966e-02,  8.4845e-02,  1.0011e-02, -3.6058e-02, -4.2508e-02,\n",
              "                      -6.8333e-02, -2.8666e-02, -2.1730e-03, -4.5398e-02,  6.2447e-02,\n",
              "                      -3.6191e-02,  1.0969e-01,  8.1421e-02, -4.9673e-02,  2.7381e-02,\n",
              "                       1.0297e-01,  1.6281e-02,  3.7095e-02, -7.8854e-02, -2.9470e-02,\n",
              "                       7.2334e-02,  7.3069e-02,  2.0488e-02,  6.1479e-02, -8.5366e-02,\n",
              "                       2.2461e-02,  4.4608e-02, -1.4836e-02,  6.0938e-02, -3.0622e-02,\n",
              "                      -1.9859e-02,  1.2946e-01, -3.1791e-03,  7.2301e-02, -2.2615e-02,\n",
              "                       5.4635e-02,  9.5584e-02,  2.0271e-02,  4.2937e-02, -6.1354e-02,\n",
              "                      -3.7792e-02, -3.7832e-02, -6.9900e-02,  8.6864e-02, -3.7645e-02,\n",
              "                      -1.9258e-02,  1.0306e-02,  6.2204e-02,  2.1830e-02, -4.0871e-02,\n",
              "                       4.8651e-02, -2.0238e-02,  8.9708e-02, -1.8017e-02,  1.2197e-02,\n",
              "                       1.8333e-02, -3.6753e-02,  1.1780e-02,  5.2724e-02, -2.9121e-04,\n",
              "                       7.1754e-02,  1.0564e-02,  4.7011e-02, -4.9463e-02, -4.5639e-02,\n",
              "                       3.7257e-02, -4.5848e-02, -4.4683e-02,  1.4726e-02,  4.3108e-02,\n",
              "                       2.0584e-02, -4.5874e-02, -4.9594e-02,  9.1598e-02,  2.7173e-02,\n",
              "                       7.1199e-02, -1.8940e-02, -6.7826e-03,  6.1501e-02, -5.7614e-02,\n",
              "                      -1.8911e-02, -6.5101e-02,  7.6303e-02,  1.1576e-01, -6.1220e-02,\n",
              "                      -3.3517e-02, -2.2886e-02, -4.2495e-02, -8.5576e-02,  3.6214e-02,\n",
              "                      -3.4166e-02,  3.2035e-02,  8.4571e-02, -5.7530e-02,  1.2551e-01,\n",
              "                      -6.5709e-02,  8.2238e-02,  3.4289e-02, -1.7945e-03,  3.2051e-02,\n",
              "                      -5.5355e-02, -5.7162e-02, -6.0972e-02, -5.5610e-02,  5.6319e-03,\n",
              "                      -4.5719e-02, -5.8612e-02, -3.1272e-02,  4.8176e-02,  2.1860e-02,\n",
              "                      -3.5882e-02, -1.2950e-02, -4.1201e-02, -3.9638e-02, -2.7900e-02])),\n",
              "             ('fc3.weight',\n",
              "              tensor([[-0.0555,  0.0311, -0.0181,  ...,  0.0043, -0.0039,  0.0377],\n",
              "                      [ 0.1737, -0.0447, -0.0824,  ...,  0.0393, -0.0393,  0.0638],\n",
              "                      [ 0.0372,  0.0198, -0.0776,  ...,  0.0062, -0.0324, -0.0471],\n",
              "                      ...,\n",
              "                      [-0.0060,  0.0442, -0.0751,  ..., -0.0315,  0.0658,  0.0363],\n",
              "                      [-0.0009, -0.0525, -0.0675,  ...,  0.0691,  0.0233,  0.0444],\n",
              "                      [-0.0072,  0.0284,  0.0443,  ...,  0.0662, -0.0630, -0.0261]])),\n",
              "             ('fc3.bias',\n",
              "              tensor([ 6.0065e-02,  6.8318e-03, -3.2261e-02,  2.7407e-02, -6.3457e-02,\n",
              "                       1.0613e-01, -6.4043e-02, -4.3570e-02, -5.6789e-02, -1.7377e-02,\n",
              "                       1.2802e-01, -3.6998e-02,  4.2442e-02,  4.4192e-02,  6.6610e-02,\n",
              "                      -8.9607e-02,  1.8224e-02,  5.9095e-02, -5.6717e-02, -5.0316e-02,\n",
              "                      -1.2272e-02,  3.7352e-02,  1.3429e-02, -2.6054e-02,  6.7043e-02,\n",
              "                       2.2866e-02,  1.7651e-02, -1.6065e-02,  8.9723e-03, -2.3203e-02,\n",
              "                      -6.6011e-02,  1.4784e-02, -5.1284e-02, -5.9981e-02,  2.7714e-02,\n",
              "                       3.6968e-02,  7.4711e-02,  2.1139e-02,  1.0675e-01, -4.5554e-02,\n",
              "                      -3.6911e-02, -5.9781e-02,  1.0083e-01, -4.0066e-02, -1.5228e-02,\n",
              "                       1.4128e-02,  6.9493e-02, -1.6603e-02, -5.5201e-02,  2.5391e-03,\n",
              "                      -4.8769e-02, -3.6066e-02,  3.3431e-02, -3.4769e-02,  6.0565e-03,\n",
              "                       2.3786e-02, -4.7504e-02,  1.1320e-01, -8.5283e-03,  5.6685e-02,\n",
              "                       3.2536e-02,  1.1455e-01,  6.0349e-03, -2.5145e-02,  1.8068e-02,\n",
              "                      -1.9881e-02,  7.9849e-02,  4.4086e-02,  1.1366e-01,  5.8429e-02,\n",
              "                      -2.5440e-02,  2.3208e-02,  1.3307e-01, -1.7071e-02, -1.4375e-03,\n",
              "                      -5.3692e-02, -1.8356e-02,  7.2540e-02,  4.6813e-02,  5.9285e-02,\n",
              "                       1.2892e-01,  7.2967e-02,  6.0059e-02,  9.7850e-02, -2.8904e-02,\n",
              "                       5.3024e-02, -5.7062e-03, -5.5402e-02, -4.2975e-02,  3.7990e-02,\n",
              "                       4.2910e-02,  1.4188e-01,  1.0361e-01,  4.1251e-02,  1.1259e-01,\n",
              "                      -4.4333e-02, -1.6480e-02, -1.1432e-03, -8.1625e-03,  1.3350e-01,\n",
              "                       1.6671e-02,  3.7866e-02,  1.9949e-03, -3.7931e-02,  1.7551e-01,\n",
              "                      -3.6823e-03,  5.4389e-02,  7.0476e-02, -4.0679e-02, -7.1332e-02,\n",
              "                       8.1150e-02,  1.6660e-01,  8.6761e-02,  7.1919e-02, -1.1908e-02,\n",
              "                       5.3484e-03, -3.4473e-02, -1.4492e-02,  9.6310e-02,  7.0064e-03,\n",
              "                       2.8318e-03, -1.0685e-04, -2.6670e-02,  7.6540e-02, -3.5456e-02,\n",
              "                       3.6703e-02,  3.6848e-02,  1.0288e-01,  5.5158e-02,  2.5957e-02,\n",
              "                       1.0056e-02,  6.3596e-02,  8.0150e-02,  7.2851e-02, -3.8440e-02,\n",
              "                      -1.9287e-02, -1.2435e-03,  8.2227e-02,  1.4783e-02, -8.1339e-02,\n",
              "                       4.3632e-02,  4.2863e-02,  1.2174e-01,  4.6868e-02,  6.1391e-03,\n",
              "                       6.7221e-02,  5.0094e-02, -2.4281e-02,  7.4738e-02, -1.6808e-02,\n",
              "                       3.7791e-02,  1.2236e-01, -3.7696e-02, -3.9316e-02,  8.3943e-02,\n",
              "                       7.9950e-02,  3.2008e-02,  2.0598e-02,  9.5621e-02,  6.6425e-02,\n",
              "                       1.0105e-01, -9.1066e-02,  6.4298e-02, -3.9897e-02,  7.3398e-02,\n",
              "                       7.4771e-02,  9.9421e-02,  3.2411e-02, -3.7087e-02, -1.6696e-02,\n",
              "                       4.0534e-02,  6.9251e-02,  3.1120e-02,  1.2494e-01, -5.3832e-02,\n",
              "                       1.3011e-01, -1.2890e-02, -3.8604e-02, -4.6613e-02, -1.6504e-02,\n",
              "                      -5.6896e-02, -1.0277e-02,  1.0385e-01,  2.2798e-02,  8.7287e-02,\n",
              "                       6.2658e-02, -2.7964e-02,  4.2758e-02,  3.2544e-02,  1.5102e-01,\n",
              "                       5.2805e-02, -3.1076e-02,  1.2674e-02, -1.9845e-02, -6.9106e-02,\n",
              "                      -5.5587e-02, -5.9396e-02, -7.0608e-02,  5.8819e-02, -2.6455e-03])),\n",
              "             ('fc4.weight',\n",
              "              tensor([[-0.1065,  0.1781,  0.1874,  ...,  0.0318,  0.0219,  0.0942],\n",
              "                      [ 0.0024, -0.4263, -0.0182,  ..., -0.0227, -0.0043,  0.0430],\n",
              "                      [-0.0063, -0.0590,  0.0166,  ..., -0.0625,  0.0021, -0.0185],\n",
              "                      ...,\n",
              "                      [ 0.0971, -0.0847,  0.0558,  ..., -0.0624, -0.0376, -0.0110],\n",
              "                      [-0.1556, -0.1659, -0.0380,  ..., -0.0472, -0.0468, -0.0351],\n",
              "                      [ 0.2553, -0.1154,  0.0327,  ...,  0.0373, -0.0387,  0.0186]])),\n",
              "             ('fc4.bias',\n",
              "              tensor([-0.1032,  0.2968, -0.0161, -0.0726,  0.1285,  0.1874, -0.0054,  0.0397,\n",
              "                      -0.2645,  0.0677]))])"
            ]
          },
          "metadata": {},
          "execution_count": 127
        }
      ]
    },
    {
      "cell_type": "markdown",
      "source": [
        "## EWC Process Execution"
      ],
      "metadata": {
        "id": "5YzC2LnRR9IB"
      }
    },
    {
      "cell_type": "code",
      "source": [
        "def ewc_process(epochs, importance, use_cuda=True, weight=None):\n",
        "    model = MLP(hidden_size)\n",
        "    if torch.cuda.is_available() and use_cuda:\n",
        "        model.cuda()\n",
        "    optimizer = optim.SGD(params=model.parameters(), lr=lr)\n",
        "\n",
        "    loss, acc, ewc = {}, {}, {}\n",
        "    for task in range(num_task):\n",
        "        loss[task] = []\n",
        "        acc[task] = []\n",
        "\n",
        "        if task == 0:\n",
        "            if weight:\n",
        "                model.load_state_dict(weight)\n",
        "            else:\n",
        "                for _ in tqdm(range(epochs)):\n",
        "                    loss[task].append(normal_train(model, optimizer, train_loader[task]))\n",
        "                    acc[task].append(test(model, test_loader[task]))\n",
        "        else:\n",
        "            old_tasks = []\n",
        "            for sub_task in range(task):\n",
        "                old_tasks = old_tasks + train_loader[sub_task].dataset.get_sample(sample_size)\n",
        "            old_tasks = random.sample(old_tasks, k=sample_size)\n",
        "            for _ in tqdm(range(epochs)):\n",
        "                loss[task].append(ewc_train(model, optimizer, train_loader[task], EWC(model, old_tasks), importance))\n",
        "                for sub_task in range(task + 1):\n",
        "                    acc[sub_task].append(test(model, test_loader[sub_task]))\n",
        "\n",
        "    return loss, acc"
      ],
      "metadata": {
        "id": "nUCy9Cd7PXV1"
      },
      "execution_count": 128,
      "outputs": []
    },
    {
      "cell_type": "code",
      "source": [
        "#@title Training and Output of EWC Process\n",
        "loss_ewc, acc_ewc = ewc_process(epochs, importance=1000)"
      ],
      "metadata": {
        "colab": {
          "base_uri": "https://localhost:8080/"
        },
        "id": "xL-C07MGTpQM",
        "outputId": "1c403797-b41d-4d8d-de86-c2d0839ad588"
      },
      "execution_count": 129,
      "outputs": [
        {
          "output_type": "stream",
          "name": "stderr",
          "text": [
            "100%|██████████| 50/50 [03:53<00:00,  4.66s/it]\n",
            "100%|██████████| 50/50 [05:31<00:00,  6.64s/it]\n",
            "100%|██████████| 50/50 [05:40<00:00,  6.82s/it]\n"
          ]
        }
      ]
    },
    {
      "cell_type": "code",
      "source": [
        "loss_plot(loss_ewc) , accuracy_plot(acc_ewc)"
      ],
      "metadata": {
        "colab": {
          "base_uri": "https://localhost:8080/",
          "height": 563
        },
        "id": "l3GYR2WvTzdj",
        "outputId": "056ad90c-9968-41e2-a49d-18daa5fd3b32"
      },
      "execution_count": 130,
      "outputs": [
        {
          "output_type": "display_data",
          "data": {
            "text/plain": [
              "<Figure size 432x288 with 1 Axes>"
            ],
            "image/png": "[encoded data removed]"
          },
          "metadata": {
            "needs_background": "light"
          }
        },
        {
          "output_type": "display_data",
          "data": {
            "text/plain": [
              "<Figure size 432x288 with 1 Axes>"
            ],
            "image/png": "[encoded data removed]"
          },
          "metadata": {
            "needs_background": "light"
          }
        },
        {
          "output_type": "execute_result",
          "data": {
            "text/plain": [
              "(None, None)"
            ]
          },
          "metadata": {},
          "execution_count": 130
        }
      ]
    },
    {
      "cell_type": "code",
      "source": [
        "plt.plot(acc[0], label=\"sgd\")\n",
        "plt.plot(acc_ewc[0], label=\"ewc\")\n",
        "plt.legend()"
      ],
      "metadata": {
        "colab": {
          "base_uri": "https://localhost:8080/",
          "height": 283
        },
        "id": "oQg1huSnUV_c",
        "outputId": "4fabf3f5-afbd-4839-a4b6-939595f1e1b4"
      },
      "execution_count": 131,
      "outputs": [
        {
          "output_type": "execute_result",
          "data": {
            "text/plain": [
              "<matplotlib.legend.Legend at 0x7f67fd349a60>"
            ]
          },
          "metadata": {},
          "execution_count": 131
        },
        {
          "output_type": "display_data",
          "data": {
            "text/plain": [
              "<Figure size 432x288 with 1 Axes>"
            ],
            "image/png": "[encoded data removed]"
          },
          "metadata": {
            "needs_background": "light"
          }
        }
      ]
    }
  ]
}