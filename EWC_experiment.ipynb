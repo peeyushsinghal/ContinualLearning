{
  "nbformat": 4,
  "nbformat_minor": 0,
  "metadata": {
    "colab": {
      "provenance": [],
      "toc_visible": true,
      "authorship_tag": "ABX9TyO/GY1Gn/GJtY/ybW6HWykp",
      "include_colab_link": true
    },
    "kernelspec": {
      "name": "python3",
      "display_name": "Python 3"
    },
    "language_info": {
      "name": "python"
    },
    "accelerator": "GPU",
    "gpuClass": "standard",
    "widgets": {
      "application/vnd.jupyter.widget-state+json": {
        "bd2cb7aa5aa4473e94552f42d1dc3ff9": {
          "model_module": "@jupyter-widgets/controls",
          "model_name": "HBoxModel",
          "model_module_version": "1.5.0",
          "state": {
            "_dom_classes": [],
            "_model_module": "@jupyter-widgets/controls",
            "_model_module_version": "1.5.0",
            "_model_name": "HBoxModel",
            "_view_count": null,
            "_view_module": "@jupyter-widgets/controls",
            "_view_module_version": "1.5.0",
            "_view_name": "HBoxView",
            "box_style": "",
            "children": [
              "IPY_MODEL_483a07b47f164384a91bdb37b357c5b3",
              "IPY_MODEL_29fc525137e24616973e155463fd1c00",
              "IPY_MODEL_204edbb71dd644b3ac03da4c6c9fa53d"
            ],
            "layout": "IPY_MODEL_e36ad6616a5f46e884ae5e701dbde97f"
          }
        },
        "483a07b47f164384a91bdb37b357c5b3": {
          "model_module": "@jupyter-widgets/controls",
          "model_name": "HTMLModel",
          "model_module_version": "1.5.0",
          "state": {
            "_dom_classes": [],
            "_model_module": "@jupyter-widgets/controls",
            "_model_module_version": "1.5.0",
            "_model_name": "HTMLModel",
            "_view_count": null,
            "_view_module": "@jupyter-widgets/controls",
            "_view_module_version": "1.5.0",
            "_view_name": "HTMLView",
            "description": "",
            "description_tooltip": null,
            "layout": "IPY_MODEL_39144ab274214c56a08217d599f50bef",
            "placeholder": "​",
            "style": "IPY_MODEL_a18b997ebb864d01b170855d8ed79dbd",
            "value": "100%"
          }
        },
        "29fc525137e24616973e155463fd1c00": {
          "model_module": "@jupyter-widgets/controls",
          "model_name": "FloatProgressModel",
          "model_module_version": "1.5.0",
          "state": {
            "_dom_classes": [],
            "_model_module": "@jupyter-widgets/controls",
            "_model_module_version": "1.5.0",
            "_model_name": "FloatProgressModel",
            "_view_count": null,
            "_view_module": "@jupyter-widgets/controls",
            "_view_module_version": "1.5.0",
            "_view_name": "ProgressView",
            "bar_style": "success",
            "description": "",
            "description_tooltip": null,
            "layout": "IPY_MODEL_e00b218b81e746c29b8c3b89d88f4c6f",
            "max": 9912422,
            "min": 0,
            "orientation": "horizontal",
            "style": "IPY_MODEL_3b41978b774b425eb66e3f8cc740ce59",
            "value": 9912422
          }
        },
        "204edbb71dd644b3ac03da4c6c9fa53d": {
          "model_module": "@jupyter-widgets/controls",
          "model_name": "HTMLModel",
          "model_module_version": "1.5.0",
          "state": {
            "_dom_classes": [],
            "_model_module": "@jupyter-widgets/controls",
            "_model_module_version": "1.5.0",
            "_model_name": "HTMLModel",
            "_view_count": null,
            "_view_module": "@jupyter-widgets/controls",
            "_view_module_version": "1.5.0",
            "_view_name": "HTMLView",
            "description": "",
            "description_tooltip": null,
            "layout": "IPY_MODEL_f51bf62e8f1745cdb8619a8d2d00c232",
            "placeholder": "​",
            "style": "IPY_MODEL_c89d200c6bd2450b9a62ca63918b64dd",
            "value": " 9912422/9912422 [00:00&lt;00:00, 204428819.89it/s]"
          }
        },
        "e36ad6616a5f46e884ae5e701dbde97f": {
          "model_module": "@jupyter-widgets/base",
          "model_name": "LayoutModel",
          "model_module_version": "1.2.0",
          "state": {
            "_model_module": "@jupyter-widgets/base",
            "_model_module_version": "1.2.0",
            "_model_name": "LayoutModel",
            "_view_count": null,
            "_view_module": "@jupyter-widgets/base",
            "_view_module_version": "1.2.0",
            "_view_name": "LayoutView",
            "align_content": null,
            "align_items": null,
            "align_self": null,
            "border": null,
            "bottom": null,
            "display": null,
            "flex": null,
            "flex_flow": null,
            "grid_area": null,
            "grid_auto_columns": null,
            "grid_auto_flow": null,
            "grid_auto_rows": null,
            "grid_column": null,
            "grid_gap": null,
            "grid_row": null,
            "grid_template_areas": null,
            "grid_template_columns": null,
            "grid_template_rows": null,
            "height": null,
            "justify_content": null,
            "justify_items": null,
            "left": null,
            "margin": null,
            "max_height": null,
            "max_width": null,
            "min_height": null,
            "min_width": null,
            "object_fit": null,
            "object_position": null,
            "order": null,
            "overflow": null,
            "overflow_x": null,
            "overflow_y": null,
            "padding": null,
            "right": null,
            "top": null,
            "visibility": null,
            "width": null
          }
        },
        "39144ab274214c56a08217d599f50bef": {
          "model_module": "@jupyter-widgets/base",
          "model_name": "LayoutModel",
          "model_module_version": "1.2.0",
          "state": {
            "_model_module": "@jupyter-widgets/base",
            "_model_module_version": "1.2.0",
            "_model_name": "LayoutModel",
            "_view_count": null,
            "_view_module": "@jupyter-widgets/base",
            "_view_module_version": "1.2.0",
            "_view_name": "LayoutView",
            "align_content": null,
            "align_items": null,
            "align_self": null,
            "border": null,
            "bottom": null,
            "display": null,
            "flex": null,
            "flex_flow": null,
            "grid_area": null,
            "grid_auto_columns": null,
            "grid_auto_flow": null,
            "grid_auto_rows": null,
            "grid_column": null,
            "grid_gap": null,
            "grid_row": null,
            "grid_template_areas": null,
            "grid_template_columns": null,
            "grid_template_rows": null,
            "height": null,
            "justify_content": null,
            "justify_items": null,
            "left": null,
            "margin": null,
            "max_height": null,
            "max_width": null,
            "min_height": null,
            "min_width": null,
            "object_fit": null,
            "object_position": null,
            "order": null,
            "overflow": null,
            "overflow_x": null,
            "overflow_y": null,
            "padding": null,
            "right": null,
            "top": null,
            "visibility": null,
            "width": null
          }
        },
        "a18b997ebb864d01b170855d8ed79dbd": {
          "model_module": "@jupyter-widgets/controls",
          "model_name": "DescriptionStyleModel",
          "model_module_version": "1.5.0",
          "state": {
            "_model_module": "@jupyter-widgets/controls",
            "_model_module_version": "1.5.0",
            "_model_name": "DescriptionStyleModel",
            "_view_count": null,
            "_view_module": "@jupyter-widgets/base",
            "_view_module_version": "1.2.0",
            "_view_name": "StyleView",
            "description_width": ""
          }
        },
        "e00b218b81e746c29b8c3b89d88f4c6f": {
          "model_module": "@jupyter-widgets/base",
          "model_name": "LayoutModel",
          "model_module_version": "1.2.0",
          "state": {
            "_model_module": "@jupyter-widgets/base",
            "_model_module_version": "1.2.0",
            "_model_name": "LayoutModel",
            "_view_count": null,
            "_view_module": "@jupyter-widgets/base",
            "_view_module_version": "1.2.0",
            "_view_name": "LayoutView",
            "align_content": null,
            "align_items": null,
            "align_self": null,
            "border": null,
            "bottom": null,
            "display": null,
            "flex": null,
            "flex_flow": null,
            "grid_area": null,
            "grid_auto_columns": null,
            "grid_auto_flow": null,
            "grid_auto_rows": null,
            "grid_column": null,
            "grid_gap": null,
            "grid_row": null,
            "grid_template_areas": null,
            "grid_template_columns": null,
            "grid_template_rows": null,
            "height": null,
            "justify_content": null,
            "justify_items": null,
            "left": null,
            "margin": null,
            "max_height": null,
            "max_width": null,
            "min_height": null,
            "min_width": null,
            "object_fit": null,
            "object_position": null,
            "order": null,
            "overflow": null,
            "overflow_x": null,
            "overflow_y": null,
            "padding": null,
            "right": null,
            "top": null,
            "visibility": null,
            "width": null
          }
        },
        "3b41978b774b425eb66e3f8cc740ce59": {
          "model_module": "@jupyter-widgets/controls",
          "model_name": "ProgressStyleModel",
          "model_module_version": "1.5.0",
          "state": {
            "_model_module": "@jupyter-widgets/controls",
            "_model_module_version": "1.5.0",
            "_model_name": "ProgressStyleModel",
            "_view_count": null,
            "_view_module": "@jupyter-widgets/base",
            "_view_module_version": "1.2.0",
            "_view_name": "StyleView",
            "bar_color": null,
            "description_width": ""
          }
        },
        "f51bf62e8f1745cdb8619a8d2d00c232": {
          "model_module": "@jupyter-widgets/base",
          "model_name": "LayoutModel",
          "model_module_version": "1.2.0",
          "state": {
            "_model_module": "@jupyter-widgets/base",
            "_model_module_version": "1.2.0",
            "_model_name": "LayoutModel",
            "_view_count": null,
            "_view_module": "@jupyter-widgets/base",
            "_view_module_version": "1.2.0",
            "_view_name": "LayoutView",
            "align_content": null,
            "align_items": null,
            "align_self": null,
            "border": null,
            "bottom": null,
            "display": null,
            "flex": null,
            "flex_flow": null,
            "grid_area": null,
            "grid_auto_columns": null,
            "grid_auto_flow": null,
            "grid_auto_rows": null,
            "grid_column": null,
            "grid_gap": null,
            "grid_row": null,
            "grid_template_areas": null,
            "grid_template_columns": null,
            "grid_template_rows": null,
            "height": null,
            "justify_content": null,
            "justify_items": null,
            "left": null,
            "margin": null,
            "max_height": null,
            "max_width": null,
            "min_height": null,
            "min_width": null,
            "object_fit": null,
            "object_position": null,
            "order": null,
            "overflow": null,
            "overflow_x": null,
            "overflow_y": null,
            "padding": null,
            "right": null,
            "top": null,
            "visibility": null,
            "width": null
          }
        },
        "c89d200c6bd2450b9a62ca63918b64dd": {
          "model_module": "@jupyter-widgets/controls",
          "model_name": "DescriptionStyleModel",
          "model_module_version": "1.5.0",
          "state": {
            "_model_module": "@jupyter-widgets/controls",
            "_model_module_version": "1.5.0",
            "_model_name": "DescriptionStyleModel",
            "_view_count": null,
            "_view_module": "@jupyter-widgets/base",
            "_view_module_version": "1.2.0",
            "_view_name": "StyleView",
            "description_width": ""
          }
        },
        "bb0c570a73f34c6d9e1be67c7226aa62": {
          "model_module": "@jupyter-widgets/controls",
          "model_name": "HBoxModel",
          "model_module_version": "1.5.0",
          "state": {
            "_dom_classes": [],
            "_model_module": "@jupyter-widgets/controls",
            "_model_module_version": "1.5.0",
            "_model_name": "HBoxModel",
            "_view_count": null,
            "_view_module": "@jupyter-widgets/controls",
            "_view_module_version": "1.5.0",
            "_view_name": "HBoxView",
            "box_style": "",
            "children": [
              "IPY_MODEL_7b32da9bf6534b988787e61789bc13f5",
              "IPY_MODEL_4339342dbbd8403093f7adca61da1847",
              "IPY_MODEL_26f1fdff772749aca4aa82212e6cb8ca"
            ],
            "layout": "IPY_MODEL_32596161f3b14f798ad058a3a1099aab"
          }
        },
        "7b32da9bf6534b988787e61789bc13f5": {
          "model_module": "@jupyter-widgets/controls",
          "model_name": "HTMLModel",
          "model_module_version": "1.5.0",
          "state": {
            "_dom_classes": [],
            "_model_module": "@jupyter-widgets/controls",
            "_model_module_version": "1.5.0",
            "_model_name": "HTMLModel",
            "_view_count": null,
            "_view_module": "@jupyter-widgets/controls",
            "_view_module_version": "1.5.0",
            "_view_name": "HTMLView",
            "description": "",
            "description_tooltip": null,
            "layout": "IPY_MODEL_544659b6968d4eb2af8341cc131d5455",
            "placeholder": "​",
            "style": "IPY_MODEL_f6fe8d018ebb4817a8292b5decdd9e68",
            "value": "100%"
          }
        },
        "4339342dbbd8403093f7adca61da1847": {
          "model_module": "@jupyter-widgets/controls",
          "model_name": "FloatProgressModel",
          "model_module_version": "1.5.0",
          "state": {
            "_dom_classes": [],
            "_model_module": "@jupyter-widgets/controls",
            "_model_module_version": "1.5.0",
            "_model_name": "FloatProgressModel",
            "_view_count": null,
            "_view_module": "@jupyter-widgets/controls",
            "_view_module_version": "1.5.0",
            "_view_name": "ProgressView",
            "bar_style": "success",
            "description": "",
            "description_tooltip": null,
            "layout": "IPY_MODEL_59e42b593a1b4848b56db9a9628823e9",
            "max": 28881,
            "min": 0,
            "orientation": "horizontal",
            "style": "IPY_MODEL_b330e30b3ead4a698bd0b3813a99a4cc",
            "value": 28881
          }
        },
        "26f1fdff772749aca4aa82212e6cb8ca": {
          "model_module": "@jupyter-widgets/controls",
          "model_name": "HTMLModel",
          "model_module_version": "1.5.0",
          "state": {
            "_dom_classes": [],
            "_model_module": "@jupyter-widgets/controls",
            "_model_module_version": "1.5.0",
            "_model_name": "HTMLModel",
            "_view_count": null,
            "_view_module": "@jupyter-widgets/controls",
            "_view_module_version": "1.5.0",
            "_view_name": "HTMLView",
            "description": "",
            "description_tooltip": null,
            "layout": "IPY_MODEL_b614832bf74e4a20a2a66a6870dd2748",
            "placeholder": "​",
            "style": "IPY_MODEL_45309408d540469fb211ee7ea585d0c3",
            "value": " 28881/28881 [00:00&lt;00:00, 2292760.23it/s]"
          }
        },
        "32596161f3b14f798ad058a3a1099aab": {
          "model_module": "@jupyter-widgets/base",
          "model_name": "LayoutModel",
          "model_module_version": "1.2.0",
          "state": {
            "_model_module": "@jupyter-widgets/base",
            "_model_module_version": "1.2.0",
            "_model_name": "LayoutModel",
            "_view_count": null,
            "_view_module": "@jupyter-widgets/base",
            "_view_module_version": "1.2.0",
            "_view_name": "LayoutView",
            "align_content": null,
            "align_items": null,
            "align_self": null,
            "border": null,
            "bottom": null,
            "display": null,
            "flex": null,
            "flex_flow": null,
            "grid_area": null,
            "grid_auto_columns": null,
            "grid_auto_flow": null,
            "grid_auto_rows": null,
            "grid_column": null,
            "grid_gap": null,
            "grid_row": null,
            "grid_template_areas": null,
            "grid_template_columns": null,
            "grid_template_rows": null,
            "height": null,
            "justify_content": null,
            "justify_items": null,
            "left": null,
            "margin": null,
            "max_height": null,
            "max_width": null,
            "min_height": null,
            "min_width": null,
            "object_fit": null,
            "object_position": null,
            "order": null,
            "overflow": null,
            "overflow_x": null,
            "overflow_y": null,
            "padding": null,
            "right": null,
            "top": null,
            "visibility": null,
            "width": null
          }
        },
        "544659b6968d4eb2af8341cc131d5455": {
          "model_module": "@jupyter-widgets/base",
          "model_name": "LayoutModel",
          "model_module_version": "1.2.0",
          "state": {
            "_model_module": "@jupyter-widgets/base",
            "_model_module_version": "1.2.0",
            "_model_name": "LayoutModel",
            "_view_count": null,
            "_view_module": "@jupyter-widgets/base",
            "_view_module_version": "1.2.0",
            "_view_name": "LayoutView",
            "align_content": null,
            "align_items": null,
            "align_self": null,
            "border": null,
            "bottom": null,
            "display": null,
            "flex": null,
            "flex_flow": null,
            "grid_area": null,
            "grid_auto_columns": null,
            "grid_auto_flow": null,
            "grid_auto_rows": null,
            "grid_column": null,
            "grid_gap": null,
            "grid_row": null,
            "grid_template_areas": null,
            "grid_template_columns": null,
            "grid_template_rows": null,
            "height": null,
            "justify_content": null,
            "justify_items": null,
            "left": null,
            "margin": null,
            "max_height": null,
            "max_width": null,
            "min_height": null,
            "min_width": null,
            "object_fit": null,
            "object_position": null,
            "order": null,
            "overflow": null,
            "overflow_x": null,
            "overflow_y": null,
            "padding": null,
            "right": null,
            "top": null,
            "visibility": null,
            "width": null
          }
        },
        "f6fe8d018ebb4817a8292b5decdd9e68": {
          "model_module": "@jupyter-widgets/controls",
          "model_name": "DescriptionStyleModel",
          "model_module_version": "1.5.0",
          "state": {
            "_model_module": "@jupyter-widgets/controls",
            "_model_module_version": "1.5.0",
            "_model_name": "DescriptionStyleModel",
            "_view_count": null,
            "_view_module": "@jupyter-widgets/base",
            "_view_module_version": "1.2.0",
            "_view_name": "StyleView",
            "description_width": ""
          }
        },
        "59e42b593a1b4848b56db9a9628823e9": {
          "model_module": "@jupyter-widgets/base",
          "model_name": "LayoutModel",
          "model_module_version": "1.2.0",
          "state": {
            "_model_module": "@jupyter-widgets/base",
            "_model_module_version": "1.2.0",
            "_model_name": "LayoutModel",
            "_view_count": null,
            "_view_module": "@jupyter-widgets/base",
            "_view_module_version": "1.2.0",
            "_view_name": "LayoutView",
            "align_content": null,
            "align_items": null,
            "align_self": null,
            "border": null,
            "bottom": null,
            "display": null,
            "flex": null,
            "flex_flow": null,
            "grid_area": null,
            "grid_auto_columns": null,
            "grid_auto_flow": null,
            "grid_auto_rows": null,
            "grid_column": null,
            "grid_gap": null,
            "grid_row": null,
            "grid_template_areas": null,
            "grid_template_columns": null,
            "grid_template_rows": null,
            "height": null,
            "justify_content": null,
            "justify_items": null,
            "left": null,
            "margin": null,
            "max_height": null,
            "max_width": null,
            "min_height": null,
            "min_width": null,
            "object_fit": null,
            "object_position": null,
            "order": null,
            "overflow": null,
            "overflow_x": null,
            "overflow_y": null,
            "padding": null,
            "right": null,
            "top": null,
            "visibility": null,
            "width": null
          }
        },
        "b330e30b3ead4a698bd0b3813a99a4cc": {
          "model_module": "@jupyter-widgets/controls",
          "model_name": "ProgressStyleModel",
          "model_module_version": "1.5.0",
          "state": {
            "_model_module": "@jupyter-widgets/controls",
            "_model_module_version": "1.5.0",
            "_model_name": "ProgressStyleModel",
            "_view_count": null,
            "_view_module": "@jupyter-widgets/base",
            "_view_module_version": "1.2.0",
            "_view_name": "StyleView",
            "bar_color": null,
            "description_width": ""
          }
        },
        "b614832bf74e4a20a2a66a6870dd2748": {
          "model_module": "@jupyter-widgets/base",
          "model_name": "LayoutModel",
          "model_module_version": "1.2.0",
          "state": {
            "_model_module": "@jupyter-widgets/base",
            "_model_module_version": "1.2.0",
            "_model_name": "LayoutModel",
            "_view_count": null,
            "_view_module": "@jupyter-widgets/base",
            "_view_module_version": "1.2.0",
            "_view_name": "LayoutView",
            "align_content": null,
            "align_items": null,
            "align_self": null,
            "border": null,
            "bottom": null,
            "display": null,
            "flex": null,
            "flex_flow": null,
            "grid_area": null,
            "grid_auto_columns": null,
            "grid_auto_flow": null,
            "grid_auto_rows": null,
            "grid_column": null,
            "grid_gap": null,
            "grid_row": null,
            "grid_template_areas": null,
            "grid_template_columns": null,
            "grid_template_rows": null,
            "height": null,
            "justify_content": null,
            "justify_items": null,
            "left": null,
            "margin": null,
            "max_height": null,
            "max_width": null,
            "min_height": null,
            "min_width": null,
            "object_fit": null,
            "object_position": null,
            "order": null,
            "overflow": null,
            "overflow_x": null,
            "overflow_y": null,
            "padding": null,
            "right": null,
            "top": null,
            "visibility": null,
            "width": null
          }
        },
        "45309408d540469fb211ee7ea585d0c3": {
          "model_module": "@jupyter-widgets/controls",
          "model_name": "DescriptionStyleModel",
          "model_module_version": "1.5.0",
          "state": {
            "_model_module": "@jupyter-widgets/controls",
            "_model_module_version": "1.5.0",
            "_model_name": "DescriptionStyleModel",
            "_view_count": null,
            "_view_module": "@jupyter-widgets/base",
            "_view_module_version": "1.2.0",
            "_view_name": "StyleView",
            "description_width": ""
          }
        },
        "4a4f7dfa4d994319bf0cfbaf479e2091": {
          "model_module": "@jupyter-widgets/controls",
          "model_name": "HBoxModel",
          "model_module_version": "1.5.0",
          "state": {
            "_dom_classes": [],
            "_model_module": "@jupyter-widgets/controls",
            "_model_module_version": "1.5.0",
            "_model_name": "HBoxModel",
            "_view_count": null,
            "_view_module": "@jupyter-widgets/controls",
            "_view_module_version": "1.5.0",
            "_view_name": "HBoxView",
            "box_style": "",
            "children": [
              "IPY_MODEL_0ba52e99fb7a434b89bd7c4aced6b5be",
              "IPY_MODEL_6591b9991cfd48c8b55b46c232277aed",
              "IPY_MODEL_faccac2325d14ff288f6445ce16fd7fc"
            ],
            "layout": "IPY_MODEL_e54ad5c48ac249c29ed3aac485128d38"
          }
        },
        "0ba52e99fb7a434b89bd7c4aced6b5be": {
          "model_module": "@jupyter-widgets/controls",
          "model_name": "HTMLModel",
          "model_module_version": "1.5.0",
          "state": {
            "_dom_classes": [],
            "_model_module": "@jupyter-widgets/controls",
            "_model_module_version": "1.5.0",
            "_model_name": "HTMLModel",
            "_view_count": null,
            "_view_module": "@jupyter-widgets/controls",
            "_view_module_version": "1.5.0",
            "_view_name": "HTMLView",
            "description": "",
            "description_tooltip": null,
            "layout": "IPY_MODEL_9ee4e15d7ec8422bb44a60e25de5b227",
            "placeholder": "​",
            "style": "IPY_MODEL_963286e39d63456fa4cddbf1621dc5df",
            "value": "100%"
          }
        },
        "6591b9991cfd48c8b55b46c232277aed": {
          "model_module": "@jupyter-widgets/controls",
          "model_name": "FloatProgressModel",
          "model_module_version": "1.5.0",
          "state": {
            "_dom_classes": [],
            "_model_module": "@jupyter-widgets/controls",
            "_model_module_version": "1.5.0",
            "_model_name": "FloatProgressModel",
            "_view_count": null,
            "_view_module": "@jupyter-widgets/controls",
            "_view_module_version": "1.5.0",
            "_view_name": "ProgressView",
            "bar_style": "success",
            "description": "",
            "description_tooltip": null,
            "layout": "IPY_MODEL_3b32be2dcb4f435bbfc63e0a22970a4e",
            "max": 1648877,
            "min": 0,
            "orientation": "horizontal",
            "style": "IPY_MODEL_6f4a492de6534a68a9191b30eb6510ab",
            "value": 1648877
          }
        },
        "faccac2325d14ff288f6445ce16fd7fc": {
          "model_module": "@jupyter-widgets/controls",
          "model_name": "HTMLModel",
          "model_module_version": "1.5.0",
          "state": {
            "_dom_classes": [],
            "_model_module": "@jupyter-widgets/controls",
            "_model_module_version": "1.5.0",
            "_model_name": "HTMLModel",
            "_view_count": null,
            "_view_module": "@jupyter-widgets/controls",
            "_view_module_version": "1.5.0",
            "_view_name": "HTMLView",
            "description": "",
            "description_tooltip": null,
            "layout": "IPY_MODEL_d7e99943c94240d186040b64e5b2bd31",
            "placeholder": "​",
            "style": "IPY_MODEL_fa20dca42b7f424c9174cd711b3e0158",
            "value": " 1648877/1648877 [00:00&lt;00:00, 41295067.30it/s]"
          }
        },
        "e54ad5c48ac249c29ed3aac485128d38": {
          "model_module": "@jupyter-widgets/base",
          "model_name": "LayoutModel",
          "model_module_version": "1.2.0",
          "state": {
            "_model_module": "@jupyter-widgets/base",
            "_model_module_version": "1.2.0",
            "_model_name": "LayoutModel",
            "_view_count": null,
            "_view_module": "@jupyter-widgets/base",
            "_view_module_version": "1.2.0",
            "_view_name": "LayoutView",
            "align_content": null,
            "align_items": null,
            "align_self": null,
            "border": null,
            "bottom": null,
            "display": null,
            "flex": null,
            "flex_flow": null,
            "grid_area": null,
            "grid_auto_columns": null,
            "grid_auto_flow": null,
            "grid_auto_rows": null,
            "grid_column": null,
            "grid_gap": null,
            "grid_row": null,
            "grid_template_areas": null,
            "grid_template_columns": null,
            "grid_template_rows": null,
            "height": null,
            "justify_content": null,
            "justify_items": null,
            "left": null,
            "margin": null,
            "max_height": null,
            "max_width": null,
            "min_height": null,
            "min_width": null,
            "object_fit": null,
            "object_position": null,
            "order": null,
            "overflow": null,
            "overflow_x": null,
            "overflow_y": null,
            "padding": null,
            "right": null,
            "top": null,
            "visibility": null,
            "width": null
          }
        },
        "9ee4e15d7ec8422bb44a60e25de5b227": {
          "model_module": "@jupyter-widgets/base",
          "model_name": "LayoutModel",
          "model_module_version": "1.2.0",
          "state": {
            "_model_module": "@jupyter-widgets/base",
            "_model_module_version": "1.2.0",
            "_model_name": "LayoutModel",
            "_view_count": null,
            "_view_module": "@jupyter-widgets/base",
            "_view_module_version": "1.2.0",
            "_view_name": "LayoutView",
            "align_content": null,
            "align_items": null,
            "align_self": null,
            "border": null,
            "bottom": null,
            "display": null,
            "flex": null,
            "flex_flow": null,
            "grid_area": null,
            "grid_auto_columns": null,
            "grid_auto_flow": null,
            "grid_auto_rows": null,
            "grid_column": null,
            "grid_gap": null,
            "grid_row": null,
            "grid_template_areas": null,
            "grid_template_columns": null,
            "grid_template_rows": null,
            "height": null,
            "justify_content": null,
            "justify_items": null,
            "left": null,
            "margin": null,
            "max_height": null,
            "max_width": null,
            "min_height": null,
            "min_width": null,
            "object_fit": null,
            "object_position": null,
            "order": null,
            "overflow": null,
            "overflow_x": null,
            "overflow_y": null,
            "padding": null,
            "right": null,
            "top": null,
            "visibility": null,
            "width": null
          }
        },
        "963286e39d63456fa4cddbf1621dc5df": {
          "model_module": "@jupyter-widgets/controls",
          "model_name": "DescriptionStyleModel",
          "model_module_version": "1.5.0",
          "state": {
            "_model_module": "@jupyter-widgets/controls",
            "_model_module_version": "1.5.0",
            "_model_name": "DescriptionStyleModel",
            "_view_count": null,
            "_view_module": "@jupyter-widgets/base",
            "_view_module_version": "1.2.0",
            "_view_name": "StyleView",
            "description_width": ""
          }
        },
        "3b32be2dcb4f435bbfc63e0a22970a4e": {
          "model_module": "@jupyter-widgets/base",
          "model_name": "LayoutModel",
          "model_module_version": "1.2.0",
          "state": {
            "_model_module": "@jupyter-widgets/base",
            "_model_module_version": "1.2.0",
            "_model_name": "LayoutModel",
            "_view_count": null,
            "_view_module": "@jupyter-widgets/base",
            "_view_module_version": "1.2.0",
            "_view_name": "LayoutView",
            "align_content": null,
            "align_items": null,
            "align_self": null,
            "border": null,
            "bottom": null,
            "display": null,
            "flex": null,
            "flex_flow": null,
            "grid_area": null,
            "grid_auto_columns": null,
            "grid_auto_flow": null,
            "grid_auto_rows": null,
            "grid_column": null,
            "grid_gap": null,
            "grid_row": null,
            "grid_template_areas": null,
            "grid_template_columns": null,
            "grid_template_rows": null,
            "height": null,
            "justify_content": null,
            "justify_items": null,
            "left": null,
            "margin": null,
            "max_height": null,
            "max_width": null,
            "min_height": null,
            "min_width": null,
            "object_fit": null,
            "object_position": null,
            "order": null,
            "overflow": null,
            "overflow_x": null,
            "overflow_y": null,
            "padding": null,
            "right": null,
            "top": null,
            "visibility": null,
            "width": null
          }
        },
        "6f4a492de6534a68a9191b30eb6510ab": {
          "model_module": "@jupyter-widgets/controls",
          "model_name": "ProgressStyleModel",
          "model_module_version": "1.5.0",
          "state": {
            "_model_module": "@jupyter-widgets/controls",
            "_model_module_version": "1.5.0",
            "_model_name": "ProgressStyleModel",
            "_view_count": null,
            "_view_module": "@jupyter-widgets/base",
            "_view_module_version": "1.2.0",
            "_view_name": "StyleView",
            "bar_color": null,
            "description_width": ""
          }
        },
        "d7e99943c94240d186040b64e5b2bd31": {
          "model_module": "@jupyter-widgets/base",
          "model_name": "LayoutModel",
          "model_module_version": "1.2.0",
          "state": {
            "_model_module": "@jupyter-widgets/base",
            "_model_module_version": "1.2.0",
            "_model_name": "LayoutModel",
            "_view_count": null,
            "_view_module": "@jupyter-widgets/base",
            "_view_module_version": "1.2.0",
            "_view_name": "LayoutView",
            "align_content": null,
            "align_items": null,
            "align_self": null,
            "border": null,
            "bottom": null,
            "display": null,
            "flex": null,
            "flex_flow": null,
            "grid_area": null,
            "grid_auto_columns": null,
            "grid_auto_flow": null,
            "grid_auto_rows": null,
            "grid_column": null,
            "grid_gap": null,
            "grid_row": null,
            "grid_template_areas": null,
            "grid_template_columns": null,
            "grid_template_rows": null,
            "height": null,
            "justify_content": null,
            "justify_items": null,
            "left": null,
            "margin": null,
            "max_height": null,
            "max_width": null,
            "min_height": null,
            "min_width": null,
            "object_fit": null,
            "object_position": null,
            "order": null,
            "overflow": null,
            "overflow_x": null,
            "overflow_y": null,
            "padding": null,
            "right": null,
            "top": null,
            "visibility": null,
            "width": null
          }
        },
        "fa20dca42b7f424c9174cd711b3e0158": {
          "model_module": "@jupyter-widgets/controls",
          "model_name": "DescriptionStyleModel",
          "model_module_version": "1.5.0",
          "state": {
            "_model_module": "@jupyter-widgets/controls",
            "_model_module_version": "1.5.0",
            "_model_name": "DescriptionStyleModel",
            "_view_count": null,
            "_view_module": "@jupyter-widgets/base",
            "_view_module_version": "1.2.0",
            "_view_name": "StyleView",
            "description_width": ""
          }
        },
        "fcaa7e1dd6b04bc48cee0fcf39a93f77": {
          "model_module": "@jupyter-widgets/controls",
          "model_name": "HBoxModel",
          "model_module_version": "1.5.0",
          "state": {
            "_dom_classes": [],
            "_model_module": "@jupyter-widgets/controls",
            "_model_module_version": "1.5.0",
            "_model_name": "HBoxModel",
            "_view_count": null,
            "_view_module": "@jupyter-widgets/controls",
            "_view_module_version": "1.5.0",
            "_view_name": "HBoxView",
            "box_style": "",
            "children": [
              "IPY_MODEL_f25e6792bf9a4f189037d5fdb1512d13",
              "IPY_MODEL_34deb2e18e3d4acf95efd43f6f58553c",
              "IPY_MODEL_406b52f0ba6f46fd80342ee2c7becfc2"
            ],
            "layout": "IPY_MODEL_7e43caba240a48b09a50337bdbff8b3f"
          }
        },
        "f25e6792bf9a4f189037d5fdb1512d13": {
          "model_module": "@jupyter-widgets/controls",
          "model_name": "HTMLModel",
          "model_module_version": "1.5.0",
          "state": {
            "_dom_classes": [],
            "_model_module": "@jupyter-widgets/controls",
            "_model_module_version": "1.5.0",
            "_model_name": "HTMLModel",
            "_view_count": null,
            "_view_module": "@jupyter-widgets/controls",
            "_view_module_version": "1.5.0",
            "_view_name": "HTMLView",
            "description": "",
            "description_tooltip": null,
            "layout": "IPY_MODEL_0bb1a468d5e5429bb8eccb016a8670d9",
            "placeholder": "​",
            "style": "IPY_MODEL_2b02d49d346849c8b9010035eb473856",
            "value": "100%"
          }
        },
        "34deb2e18e3d4acf95efd43f6f58553c": {
          "model_module": "@jupyter-widgets/controls",
          "model_name": "FloatProgressModel",
          "model_module_version": "1.5.0",
          "state": {
            "_dom_classes": [],
            "_model_module": "@jupyter-widgets/controls",
            "_model_module_version": "1.5.0",
            "_model_name": "FloatProgressModel",
            "_view_count": null,
            "_view_module": "@jupyter-widgets/controls",
            "_view_module_version": "1.5.0",
            "_view_name": "ProgressView",
            "bar_style": "success",
            "description": "",
            "description_tooltip": null,
            "layout": "IPY_MODEL_8b0ab892bc1c4f48b3487e98aa2bcff2",
            "max": 4542,
            "min": 0,
            "orientation": "horizontal",
            "style": "IPY_MODEL_c185d222510841258de53baf36ff4e9c",
            "value": 4542
          }
        },
        "406b52f0ba6f46fd80342ee2c7becfc2": {
          "model_module": "@jupyter-widgets/controls",
          "model_name": "HTMLModel",
          "model_module_version": "1.5.0",
          "state": {
            "_dom_classes": [],
            "_model_module": "@jupyter-widgets/controls",
            "_model_module_version": "1.5.0",
            "_model_name": "HTMLModel",
            "_view_count": null,
            "_view_module": "@jupyter-widgets/controls",
            "_view_module_version": "1.5.0",
            "_view_name": "HTMLView",
            "description": "",
            "description_tooltip": null,
            "layout": "IPY_MODEL_028463915aa84f7995c82a7a8fb29fc9",
            "placeholder": "​",
            "style": "IPY_MODEL_813ba556db8c4d75bdeb5f4ae3225591",
            "value": " 4542/4542 [00:00&lt;00:00, 215945.87it/s]"
          }
        },
        "7e43caba240a48b09a50337bdbff8b3f": {
          "model_module": "@jupyter-widgets/base",
          "model_name": "LayoutModel",
          "model_module_version": "1.2.0",
          "state": {
            "_model_module": "@jupyter-widgets/base",
            "_model_module_version": "1.2.0",
            "_model_name": "LayoutModel",
            "_view_count": null,
            "_view_module": "@jupyter-widgets/base",
            "_view_module_version": "1.2.0",
            "_view_name": "LayoutView",
            "align_content": null,
            "align_items": null,
            "align_self": null,
            "border": null,
            "bottom": null,
            "display": null,
            "flex": null,
            "flex_flow": null,
            "grid_area": null,
            "grid_auto_columns": null,
            "grid_auto_flow": null,
            "grid_auto_rows": null,
            "grid_column": null,
            "grid_gap": null,
            "grid_row": null,
            "grid_template_areas": null,
            "grid_template_columns": null,
            "grid_template_rows": null,
            "height": null,
            "justify_content": null,
            "justify_items": null,
            "left": null,
            "margin": null,
            "max_height": null,
            "max_width": null,
            "min_height": null,
            "min_width": null,
            "object_fit": null,
            "object_position": null,
            "order": null,
            "overflow": null,
            "overflow_x": null,
            "overflow_y": null,
            "padding": null,
            "right": null,
            "top": null,
            "visibility": null,
            "width": null
          }
        },
        "0bb1a468d5e5429bb8eccb016a8670d9": {
          "model_module": "@jupyter-widgets/base",
          "model_name": "LayoutModel",
          "model_module_version": "1.2.0",
          "state": {
            "_model_module": "@jupyter-widgets/base",
            "_model_module_version": "1.2.0",
            "_model_name": "LayoutModel",
            "_view_count": null,
            "_view_module": "@jupyter-widgets/base",
            "_view_module_version": "1.2.0",
            "_view_name": "LayoutView",
            "align_content": null,
            "align_items": null,
            "align_self": null,
            "border": null,
            "bottom": null,
            "display": null,
            "flex": null,
            "flex_flow": null,
            "grid_area": null,
            "grid_auto_columns": null,
            "grid_auto_flow": null,
            "grid_auto_rows": null,
            "grid_column": null,
            "grid_gap": null,
            "grid_row": null,
            "grid_template_areas": null,
            "grid_template_columns": null,
            "grid_template_rows": null,
            "height": null,
            "justify_content": null,
            "justify_items": null,
            "left": null,
            "margin": null,
            "max_height": null,
            "max_width": null,
            "min_height": null,
            "min_width": null,
            "object_fit": null,
            "object_position": null,
            "order": null,
            "overflow": null,
            "overflow_x": null,
            "overflow_y": null,
            "padding": null,
            "right": null,
            "top": null,
            "visibility": null,
            "width": null
          }
        },
        "2b02d49d346849c8b9010035eb473856": {
          "model_module": "@jupyter-widgets/controls",
          "model_name": "DescriptionStyleModel",
          "model_module_version": "1.5.0",
          "state": {
            "_model_module": "@jupyter-widgets/controls",
            "_model_module_version": "1.5.0",
            "_model_name": "DescriptionStyleModel",
            "_view_count": null,
            "_view_module": "@jupyter-widgets/base",
            "_view_module_version": "1.2.0",
            "_view_name": "StyleView",
            "description_width": ""
          }
        },
        "8b0ab892bc1c4f48b3487e98aa2bcff2": {
          "model_module": "@jupyter-widgets/base",
          "model_name": "LayoutModel",
          "model_module_version": "1.2.0",
          "state": {
            "_model_module": "@jupyter-widgets/base",
            "_model_module_version": "1.2.0",
            "_model_name": "LayoutModel",
            "_view_count": null,
            "_view_module": "@jupyter-widgets/base",
            "_view_module_version": "1.2.0",
            "_view_name": "LayoutView",
            "align_content": null,
            "align_items": null,
            "align_self": null,
            "border": null,
            "bottom": null,
            "display": null,
            "flex": null,
            "flex_flow": null,
            "grid_area": null,
            "grid_auto_columns": null,
            "grid_auto_flow": null,
            "grid_auto_rows": null,
            "grid_column": null,
            "grid_gap": null,
            "grid_row": null,
            "grid_template_areas": null,
            "grid_template_columns": null,
            "grid_template_rows": null,
            "height": null,
            "justify_content": null,
            "justify_items": null,
            "left": null,
            "margin": null,
            "max_height": null,
            "max_width": null,
            "min_height": null,
            "min_width": null,
            "object_fit": null,
            "object_position": null,
            "order": null,
            "overflow": null,
            "overflow_x": null,
            "overflow_y": null,
            "padding": null,
            "right": null,
            "top": null,
            "visibility": null,
            "width": null
          }
        },
        "c185d222510841258de53baf36ff4e9c": {
          "model_module": "@jupyter-widgets/controls",
          "model_name": "ProgressStyleModel",
          "model_module_version": "1.5.0",
          "state": {
            "_model_module": "@jupyter-widgets/controls",
            "_model_module_version": "1.5.0",
            "_model_name": "ProgressStyleModel",
            "_view_count": null,
            "_view_module": "@jupyter-widgets/base",
            "_view_module_version": "1.2.0",
            "_view_name": "StyleView",
            "bar_color": null,
            "description_width": ""
          }
        },
        "028463915aa84f7995c82a7a8fb29fc9": {
          "model_module": "@jupyter-widgets/base",
          "model_name": "LayoutModel",
          "model_module_version": "1.2.0",
          "state": {
            "_model_module": "@jupyter-widgets/base",
            "_model_module_version": "1.2.0",
            "_model_name": "LayoutModel",
            "_view_count": null,
            "_view_module": "@jupyter-widgets/base",
            "_view_module_version": "1.2.0",
            "_view_name": "LayoutView",
            "align_content": null,
            "align_items": null,
            "align_self": null,
            "border": null,
            "bottom": null,
            "display": null,
            "flex": null,
            "flex_flow": null,
            "grid_area": null,
            "grid_auto_columns": null,
            "grid_auto_flow": null,
            "grid_auto_rows": null,
            "grid_column": null,
            "grid_gap": null,
            "grid_row": null,
            "grid_template_areas": null,
            "grid_template_columns": null,
            "grid_template_rows": null,
            "height": null,
            "justify_content": null,
            "justify_items": null,
            "left": null,
            "margin": null,
            "max_height": null,
            "max_width": null,
            "min_height": null,
            "min_width": null,
            "object_fit": null,
            "object_position": null,
            "order": null,
            "overflow": null,
            "overflow_x": null,
            "overflow_y": null,
            "padding": null,
            "right": null,
            "top": null,
            "visibility": null,
            "width": null
          }
        },
        "813ba556db8c4d75bdeb5f4ae3225591": {
          "model_module": "@jupyter-widgets/controls",
          "model_name": "DescriptionStyleModel",
          "model_module_version": "1.5.0",
          "state": {
            "_model_module": "@jupyter-widgets/controls",
            "_model_module_version": "1.5.0",
            "_model_name": "DescriptionStyleModel",
            "_view_count": null,
            "_view_module": "@jupyter-widgets/base",
            "_view_module_version": "1.2.0",
            "_view_name": "StyleView",
            "description_width": ""
          }
        }
      }
    }
  },
  "cells": [
    {
      "cell_type": "markdown",
      "metadata": {
        "id": "view-in-github",
        "colab_type": "text"
      },
      "source": [
        "<a href=\"https://colab.research.google.com/github/peeyushsinghal/ContinualLearning/blob/main/EWC_experiment.ipynb\" target=\"_parent\"><img src=\"https://colab.research.google.com/assets/colab-badge.svg\" alt=\"Open In Colab\"/></a>"
      ]
    },
    {
      "cell_type": "markdown",
      "source": [
        "## Importing Libraries"
      ],
      "metadata": {
        "id": "-t8BCmUKNuMb"
      }
    },
    {
      "cell_type": "code",
      "source": [
        "import torch\n",
        "import torch.nn as nn\n",
        "import torch.nn.functional as F\n",
        "import torch.optim as optim\n",
        "from torchvision import datasets, transforms\n",
        "from torchsummary import summary\n",
        "%matplotlib inline\n",
        "import matplotlib.pyplot as plt\n",
        "import random\n",
        "import warnings\n",
        "warnings.filterwarnings('ignore')\n",
        "from torch.autograd import Variable\n",
        "from copy import deepcopy\n",
        "from tqdm import tqdm"
      ],
      "metadata": {
        "id": "mew9xHnvzdXc"
      },
      "execution_count": 1,
      "outputs": []
    },
    {
      "cell_type": "code",
      "source": [
        "use_cuda = torch.cuda.is_available()\n",
        "device = torch.device(\"cuda\" if use_cuda else \"cpu\")\n",
        "device"
      ],
      "metadata": {
        "colab": {
          "base_uri": "https://localhost:8080/"
        },
        "id": "W2Bg56Nd0C21",
        "outputId": "d40f87f2-78c7-4599-b2f9-1fe10d23c9ee"
      },
      "execution_count": 2,
      "outputs": [
        {
          "output_type": "execute_result",
          "data": {
            "text/plain": [
              "device(type='cuda')"
            ]
          },
          "metadata": {},
          "execution_count": 2
        }
      ]
    },
    {
      "cell_type": "code",
      "source": [
        "def mnist_imshow(img):\n",
        "    plt.imshow(img.reshape([28,28]), cmap=\"gray\")\n",
        "    plt.axis('off')\n",
        "    plt.show()"
      ],
      "metadata": {
        "id": "UozkbtMB0PQh"
      },
      "execution_count": 3,
      "outputs": []
    },
    {
      "cell_type": "code",
      "source": [
        "#@title Experiment Constants\n",
        "epochs = 2\n",
        "epochs = 50\n",
        "lr = 1e-3\n",
        "batch_size = 128\n",
        "sample_size = 200\n",
        "hidden_size = 200\n",
        "num_task = 3 # Number of tasks, task 1 we would not have any permutation\n",
        "batch_size = 128"
      ],
      "metadata": {
        "id": "ir_1lR-lOK6u"
      },
      "execution_count": 4,
      "outputs": []
    },
    {
      "cell_type": "markdown",
      "source": [
        "## Dataset and Dataloader"
      ],
      "metadata": {
        "id": "xPwKwrauAz2w"
      }
    },
    {
      "cell_type": "code",
      "source": [
        "class PermutedMNIST(datasets.MNIST):\n",
        "\n",
        "    def __init__(self, root=\"~/.torch/data/mnist\", train=True, permute_idx=None):\n",
        "        super(PermutedMNIST, self).__init__(root, train, download=True)\n",
        "        assert len(permute_idx) == 28 * 28\n",
        "        if self.train:\n",
        "          # print(\"data\", type(self.train_data),type(self.train_data[0]),self.train_data.shape, self.train_data[0].shape, self.train_data[0])\n",
        "          self.training_data= torch.stack([img.float().view(-1)[permute_idx] / 255 for img in self.train_data])\n",
        "          self.training_labels = self.train_labels\n",
        "        else:\n",
        "          self.testing_data = torch.stack([img.float().view(-1)[permute_idx] / 255 for img in self.test_data])\n",
        "          self.testing_labels = self.test_labels\n",
        "\n",
        "    def __getitem__(self, index):\n",
        "\n",
        "        if self.train:\n",
        "            img, target = self.training_data[index], self.training_labels[index]\n",
        "        else:\n",
        "            img, target = self.testing_data[index], self.testing_labels[index]\n",
        "\n",
        "        return img, target\n",
        "\n",
        "    def get_sample(self, sample_size):\n",
        "        sample_idx = random.sample(range(len(self)), sample_size)\n",
        "        return [img for img in self.training_data[sample_idx]]"
      ],
      "metadata": {
        "id": "wIIODGl2239_"
      },
      "execution_count": 5,
      "outputs": []
    },
    {
      "cell_type": "code",
      "source": [
        "def get_permute_mnist():\n",
        "    train_loader = {}\n",
        "    test_loader = {}\n",
        "    idx = list(range(28 * 28)) # first time there is no shuffle\n",
        "    for i in range(num_task):\n",
        "        train_loader[i] = torch.utils.data.DataLoader(PermutedMNIST(train=True, permute_idx=idx),\n",
        "                                                      batch_size=batch_size,\n",
        "                                                      num_workers=4)\n",
        "        test_loader[i] = torch.utils.data.DataLoader(PermutedMNIST(train=False, permute_idx=idx),\n",
        "                                                     batch_size=batch_size)\n",
        "        print(f'Index for  task {i} \\n {idx}')\n",
        "        idx = random.sample(idx, len(idx))\n",
        "    return train_loader, test_loader \n",
        "\n",
        "\n",
        "train_loader, test_loader = get_permute_mnist()"
      ],
      "metadata": {
        "colab": {
          "base_uri": "https://localhost:8080/",
          "height": 547,
          "referenced_widgets": [
            "bd2cb7aa5aa4473e94552f42d1dc3ff9",
            "483a07b47f164384a91bdb37b357c5b3",
            "29fc525137e24616973e155463fd1c00",
            "204edbb71dd644b3ac03da4c6c9fa53d",
            "e36ad6616a5f46e884ae5e701dbde97f",
            "39144ab274214c56a08217d599f50bef",
            "a18b997ebb864d01b170855d8ed79dbd",
            "e00b218b81e746c29b8c3b89d88f4c6f",
            "3b41978b774b425eb66e3f8cc740ce59",
            "f51bf62e8f1745cdb8619a8d2d00c232",
            "c89d200c6bd2450b9a62ca63918b64dd",
            "bb0c570a73f34c6d9e1be67c7226aa62",
            "7b32da9bf6534b988787e61789bc13f5",
            "4339342dbbd8403093f7adca61da1847",
            "26f1fdff772749aca4aa82212e6cb8ca",
            "32596161f3b14f798ad058a3a1099aab",
            "544659b6968d4eb2af8341cc131d5455",
            "f6fe8d018ebb4817a8292b5decdd9e68",
            "59e42b593a1b4848b56db9a9628823e9",
            "b330e30b3ead4a698bd0b3813a99a4cc",
            "b614832bf74e4a20a2a66a6870dd2748",
            "45309408d540469fb211ee7ea585d0c3",
            "4a4f7dfa4d994319bf0cfbaf479e2091",
            "0ba52e99fb7a434b89bd7c4aced6b5be",
            "6591b9991cfd48c8b55b46c232277aed",
            "faccac2325d14ff288f6445ce16fd7fc",
            "e54ad5c48ac249c29ed3aac485128d38",
            "9ee4e15d7ec8422bb44a60e25de5b227",
            "963286e39d63456fa4cddbf1621dc5df",
            "3b32be2dcb4f435bbfc63e0a22970a4e",
            "6f4a492de6534a68a9191b30eb6510ab",
            "d7e99943c94240d186040b64e5b2bd31",
            "fa20dca42b7f424c9174cd711b3e0158",
            "fcaa7e1dd6b04bc48cee0fcf39a93f77",
            "f25e6792bf9a4f189037d5fdb1512d13",
            "34deb2e18e3d4acf95efd43f6f58553c",
            "406b52f0ba6f46fd80342ee2c7becfc2",
            "7e43caba240a48b09a50337bdbff8b3f",
            "0bb1a468d5e5429bb8eccb016a8670d9",
            "2b02d49d346849c8b9010035eb473856",
            "8b0ab892bc1c4f48b3487e98aa2bcff2",
            "c185d222510841258de53baf36ff4e9c",
            "028463915aa84f7995c82a7a8fb29fc9",
            "813ba556db8c4d75bdeb5f4ae3225591"
          ]
        },
        "id": "5RmbGeB54SLO",
        "outputId": "b1bce3eb-2652-40c5-b8e3-214970205211"
      },
      "execution_count": 6,
      "outputs": [
        {
          "output_type": "stream",
          "name": "stdout",
          "text": [
            "Downloading http://yann.lecun.com/exdb/mnist/train-images-idx3-ubyte.gz\n",
            "Downloading http://yann.lecun.com/exdb/mnist/train-images-idx3-ubyte.gz to /root/.torch/data/mnist/PermutedMNIST/raw/train-images-idx3-ubyte.gz\n"
          ]
        },
        {
          "output_type": "display_data",
          "data": {
            "text/plain": [
              "  0%|          | 0/9912422 [00:00<?, ?it/s]"
            ],
            "application/vnd.jupyter.widget-view+json": {
              "version_major": 2,
              "version_minor": 0,
              "model_id": "bd2cb7aa5aa4473e94552f42d1dc3ff9"
            }
          },
          "metadata": {}
        },
        {
          "output_type": "stream",
          "name": "stdout",
          "text": [
            "Extracting /root/.torch/data/mnist/PermutedMNIST/raw/train-images-idx3-ubyte.gz to /root/.torch/data/mnist/PermutedMNIST/raw\n",
            "\n",
            "Downloading http://yann.lecun.com/exdb/mnist/train-labels-idx1-ubyte.gz\n",
            "Downloading http://yann.lecun.com/exdb/mnist/train-labels-idx1-ubyte.gz to /root/.torch/data/mnist/PermutedMNIST/raw/train-labels-idx1-ubyte.gz\n"
          ]
        },
        {
          "output_type": "display_data",
          "data": {
            "text/plain": [
              "  0%|          | 0/28881 [00:00<?, ?it/s]"
            ],
            "application/vnd.jupyter.widget-view+json": {
              "version_major": 2,
              "version_minor": 0,
              "model_id": "bb0c570a73f34c6d9e1be67c7226aa62"
            }
          },
          "metadata": {}
        },
        {
          "output_type": "stream",
          "name": "stdout",
          "text": [
            "Extracting /root/.torch/data/mnist/PermutedMNIST/raw/train-labels-idx1-ubyte.gz to /root/.torch/data/mnist/PermutedMNIST/raw\n",
            "\n",
            "Downloading http://yann.lecun.com/exdb/mnist/t10k-images-idx3-ubyte.gz\n",
            "Downloading http://yann.lecun.com/exdb/mnist/t10k-images-idx3-ubyte.gz to /root/.torch/data/mnist/PermutedMNIST/raw/t10k-images-idx3-ubyte.gz\n"
          ]
        },
        {
          "output_type": "display_data",
          "data": {
            "text/plain": [
              "  0%|          | 0/1648877 [00:00<?, ?it/s]"
            ],
            "application/vnd.jupyter.widget-view+json": {
              "version_major": 2,
              "version_minor": 0,
              "model_id": "4a4f7dfa4d994319bf0cfbaf479e2091"
            }
          },
          "metadata": {}
        },
        {
          "output_type": "stream",
          "name": "stdout",
          "text": [
            "Extracting /root/.torch/data/mnist/PermutedMNIST/raw/t10k-images-idx3-ubyte.gz to /root/.torch/data/mnist/PermutedMNIST/raw\n",
            "\n",
            "Downloading http://yann.lecun.com/exdb/mnist/t10k-labels-idx1-ubyte.gz\n",
            "Downloading http://yann.lecun.com/exdb/mnist/t10k-labels-idx1-ubyte.gz to /root/.torch/data/mnist/PermutedMNIST/raw/t10k-labels-idx1-ubyte.gz\n"
          ]
        },
        {
          "output_type": "display_data",
          "data": {
            "text/plain": [
              "  0%|          | 0/4542 [00:00<?, ?it/s]"
            ],
            "application/vnd.jupyter.widget-view+json": {
              "version_major": 2,
              "version_minor": 0,
              "model_id": "fcaa7e1dd6b04bc48cee0fcf39a93f77"
            }
          },
          "metadata": {}
        },
        {
          "output_type": "stream",
          "name": "stdout",
          "text": [
            "Extracting /root/.torch/data/mnist/PermutedMNIST/raw/t10k-labels-idx1-ubyte.gz to /root/.torch/data/mnist/PermutedMNIST/raw\n",
            "\n",
            "Index for  task 0 \n",
            " [0, 1, 2, 3, 4, 5, 6, 7, 8, 9, 10, 11, 12, 13, 14, 15, 16, 17, 18, 19, 20, 21, 22, 23, 24, 25, 26, 27, 28, 29, 30, 31, 32, 33, 34, 35, 36, 37, 38, 39, 40, 41, 42, 43, 44, 45, 46, 47, 48, 49, 50, 51, 52, 53, 54, 55, 56, 57, 58, 59, 60, 61, 62, 63, 64, 65, 66, 67, 68, 69, 70, 71, 72, 73, 74, 75, 76, 77, 78, 79, 80, 81, 82, 83, 84, 85, 86, 87, 88, 89, 90, 91, 92, 93, 94, 95, 96, 97, 98, 99, 100, 101, 102, 103, 104, 105, 106, 107, 108, 109, 110, 111, 112, 113, 114, 115, 116, 117, 118, 119, 120, 121, 122, 123, 124, 125, 126, 127, 128, 129, 130, 131, 132, 133, 134, 135, 136, 137, 138, 139, 140, 141, 142, 143, 144, 145, 146, 147, 148, 149, 150, 151, 152, 153, 154, 155, 156, 157, 158, 159, 160, 161, 162, 163, 164, 165, 166, 167, 168, 169, 170, 171, 172, 173, 174, 175, 176, 177, 178, 179, 180, 181, 182, 183, 184, 185, 186, 187, 188, 189, 190, 191, 192, 193, 194, 195, 196, 197, 198, 199, 200, 201, 202, 203, 204, 205, 206, 207, 208, 209, 210, 211, 212, 213, 214, 215, 216, 217, 218, 219, 220, 221, 222, 223, 224, 225, 226, 227, 228, 229, 230, 231, 232, 233, 234, 235, 236, 237, 238, 239, 240, 241, 242, 243, 244, 245, 246, 247, 248, 249, 250, 251, 252, 253, 254, 255, 256, 257, 258, 259, 260, 261, 262, 263, 264, 265, 266, 267, 268, 269, 270, 271, 272, 273, 274, 275, 276, 277, 278, 279, 280, 281, 282, 283, 284, 285, 286, 287, 288, 289, 290, 291, 292, 293, 294, 295, 296, 297, 298, 299, 300, 301, 302, 303, 304, 305, 306, 307, 308, 309, 310, 311, 312, 313, 314, 315, 316, 317, 318, 319, 320, 321, 322, 323, 324, 325, 326, 327, 328, 329, 330, 331, 332, 333, 334, 335, 336, 337, 338, 339, 340, 341, 342, 343, 344, 345, 346, 347, 348, 349, 350, 351, 352, 353, 354, 355, 356, 357, 358, 359, 360, 361, 362, 363, 364, 365, 366, 367, 368, 369, 370, 371, 372, 373, 374, 375, 376, 377, 378, 379, 380, 381, 382, 383, 384, 385, 386, 387, 388, 389, 390, 391, 392, 393, 394, 395, 396, 397, 398, 399, 400, 401, 402, 403, 404, 405, 406, 407, 408, 409, 410, 411, 412, 413, 414, 415, 416, 417, 418, 419, 420, 421, 422, 423, 424, 425, 426, 427, 428, 429, 430, 431, 432, 433, 434, 435, 436, 437, 438, 439, 440, 441, 442, 443, 444, 445, 446, 447, 448, 449, 450, 451, 452, 453, 454, 455, 456, 457, 458, 459, 460, 461, 462, 463, 464, 465, 466, 467, 468, 469, 470, 471, 472, 473, 474, 475, 476, 477, 478, 479, 480, 481, 482, 483, 484, 485, 486, 487, 488, 489, 490, 491, 492, 493, 494, 495, 496, 497, 498, 499, 500, 501, 502, 503, 504, 505, 506, 507, 508, 509, 510, 511, 512, 513, 514, 515, 516, 517, 518, 519, 520, 521, 522, 523, 524, 525, 526, 527, 528, 529, 530, 531, 532, 533, 534, 535, 536, 537, 538, 539, 540, 541, 542, 543, 544, 545, 546, 547, 548, 549, 550, 551, 552, 553, 554, 555, 556, 557, 558, 559, 560, 561, 562, 563, 564, 565, 566, 567, 568, 569, 570, 571, 572, 573, 574, 575, 576, 577, 578, 579, 580, 581, 582, 583, 584, 585, 586, 587, 588, 589, 590, 591, 592, 593, 594, 595, 596, 597, 598, 599, 600, 601, 602, 603, 604, 605, 606, 607, 608, 609, 610, 611, 612, 613, 614, 615, 616, 617, 618, 619, 620, 621, 622, 623, 624, 625, 626, 627, 628, 629, 630, 631, 632, 633, 634, 635, 636, 637, 638, 639, 640, 641, 642, 643, 644, 645, 646, 647, 648, 649, 650, 651, 652, 653, 654, 655, 656, 657, 658, 659, 660, 661, 662, 663, 664, 665, 666, 667, 668, 669, 670, 671, 672, 673, 674, 675, 676, 677, 678, 679, 680, 681, 682, 683, 684, 685, 686, 687, 688, 689, 690, 691, 692, 693, 694, 695, 696, 697, 698, 699, 700, 701, 702, 703, 704, 705, 706, 707, 708, 709, 710, 711, 712, 713, 714, 715, 716, 717, 718, 719, 720, 721, 722, 723, 724, 725, 726, 727, 728, 729, 730, 731, 732, 733, 734, 735, 736, 737, 738, 739, 740, 741, 742, 743, 744, 745, 746, 747, 748, 749, 750, 751, 752, 753, 754, 755, 756, 757, 758, 759, 760, 761, 762, 763, 764, 765, 766, 767, 768, 769, 770, 771, 772, 773, 774, 775, 776, 777, 778, 779, 780, 781, 782, 783]\n",
            "Index for  task 1 \n",
            " [409, 613, 112, 322, 272, 278, 403, 275, 776, 6, 259, 340, 354, 51, 167, 678, 698, 99, 437, 458, 145, 453, 75, 581, 282, 52, 442, 42, 669, 273, 345, 763, 16, 343, 440, 380, 386, 525, 534, 242, 650, 299, 283, 394, 630, 38, 496, 284, 405, 248, 3, 178, 783, 37, 447, 296, 778, 518, 391, 623, 696, 425, 718, 456, 238, 510, 256, 711, 36, 629, 32, 421, 360, 582, 457, 175, 62, 749, 564, 468, 653, 693, 731, 372, 677, 572, 633, 203, 22, 100, 60, 499, 44, 71, 545, 426, 549, 439, 414, 652, 406, 511, 313, 157, 643, 550, 53, 423, 775, 714, 339, 672, 594, 286, 725, 709, 699, 619, 408, 176, 724, 769, 438, 462, 35, 233, 662, 174, 163, 222, 138, 474, 761, 142, 684, 338, 122, 493, 508, 700, 128, 304, 77, 742, 371, 188, 147, 97, 57, 378, 692, 41, 464, 529, 351, 767, 232, 416, 570, 671, 92, 18, 586, 216, 21, 424, 265, 127, 412, 346, 410, 221, 497, 417, 182, 352, 11, 584, 149, 309, 704, 480, 506, 771, 557, 637, 113, 721, 237, 261, 703, 46, 281, 154, 144, 646, 647, 655, 353, 560, 477, 489, 712, 133, 365, 66, 366, 245, 10, 301, 385, 609, 645, 61, 357, 433, 348, 516, 473, 413, 522, 384, 644, 102, 521, 123, 729, 502, 306, 686, 333, 430, 204, 726, 575, 427, 524, 328, 481, 143, 632, 736, 600, 277, 398, 13, 723, 777, 107, 716, 323, 202, 651, 105, 532, 664, 331, 212, 683, 193, 659, 540, 603, 615, 86, 230, 85, 739, 116, 713, 26, 40, 94, 30, 211, 476, 23, 9, 78, 770, 727, 95, 552, 329, 443, 336, 722, 344, 577, 565, 674, 198, 195, 446, 435, 320, 217, 642, 153, 205, 748, 504, 519, 454, 689, 285, 591, 730, 226, 317, 741, 90, 297, 756, 87, 65, 141, 255, 260, 628, 595, 680, 460, 690, 213, 719, 687, 2, 590, 15, 227, 244, 215, 492, 746, 485, 264, 369, 103, 136, 436, 151, 556, 465, 169, 262, 422, 573, 624, 745, 607, 608, 559, 210, 589, 760, 734, 258, 254, 191, 364, 466, 234, 445, 355, 495, 341, 294, 751, 337, 535, 583, 25, 558, 682, 82, 553, 657, 68, 614, 72, 315, 455, 152, 752, 528, 665, 638, 168, 548, 467, 267, 512, 279, 459, 131, 707, 185, 47, 554, 199, 194, 83, 63, 235, 397, 67, 291, 717, 555, 240, 610, 617, 452, 694, 19, 73, 5, 668, 515, 449, 59, 33, 84, 715, 276, 363, 396, 660, 96, 251, 520, 491, 7, 679, 104, 335, 125, 156, 91, 1, 270, 268, 563, 27, 359, 166, 758, 271, 373, 49, 766, 319, 656, 288, 274, 605, 490, 74, 706, 201, 120, 676, 389, 754, 728, 295, 150, 228, 737, 158, 305, 76, 472, 289, 332, 579, 34, 310, 469, 187, 561, 588, 626, 140, 239, 155, 569, 484, 567, 111, 269, 621, 114, 189, 740, 243, 362, 450, 710, 356, 24, 361, 501, 618, 702, 197, 753, 0, 135, 308, 649, 146, 538, 257, 330, 148, 616, 303, 219, 772, 587, 247, 180, 17, 509, 229, 88, 530, 750, 374, 494, 544, 658, 597, 170, 566, 165, 411, 688, 685, 444, 45, 137, 64, 377, 578, 705, 743, 101, 562, 708, 639, 89, 293, 162, 342, 379, 781, 350, 401, 298, 732, 432, 126, 14, 392, 574, 420, 312, 220, 79, 546, 762, 349, 39, 585, 759, 69, 58, 130, 231, 622, 179, 12, 733, 249, 8, 200, 599, 592, 327, 765, 70, 744, 316, 164, 513, 318, 223, 640, 755, 287, 98, 487, 434, 441, 109, 415, 598, 106, 347, 505, 764, 388, 747, 43, 252, 181, 390, 139, 428, 648, 780, 782, 160, 325, 654, 383, 376, 611, 55, 404, 580, 612, 368, 400, 225, 192, 695, 418, 129, 56, 627, 236, 475, 280, 307, 539, 536, 507, 382, 576, 738, 663, 773, 483, 31, 757, 117, 367, 602, 28, 266, 402, 486, 537, 183, 635, 636, 691, 302, 517, 214, 177, 429, 503, 159, 326, 470, 186, 134, 321, 451, 768, 527, 701, 531, 543, 675, 20, 48, 119, 118, 606, 324, 681, 774, 399, 161, 596, 173, 246, 735, 50, 551, 498, 631, 514, 542, 184, 93, 482, 419, 381, 533, 670, 661, 124, 593, 171, 300, 448, 29, 206, 196, 290, 80, 571, 4, 526, 172, 697, 54, 568, 720, 666, 292, 132, 523, 209, 250, 625, 431, 224, 500, 673, 488, 641, 620, 634, 208, 108, 218, 190, 395, 370, 604, 115, 253, 463, 393, 479, 263, 311, 461, 121, 667, 81, 779, 314, 375, 601, 478, 241, 334, 407, 110, 547, 207, 541, 471, 387, 358]\n",
            "Index for  task 2 \n",
            " [164, 555, 315, 425, 63, 644, 707, 559, 136, 291, 413, 676, 244, 152, 189, 143, 485, 626, 67, 716, 447, 159, 692, 717, 503, 284, 283, 316, 457, 643, 558, 129, 737, 721, 738, 625, 193, 747, 365, 533, 170, 146, 335, 392, 471, 21, 353, 149, 444, 776, 234, 215, 235, 176, 720, 477, 58, 101, 394, 632, 524, 443, 624, 250, 342, 697, 769, 126, 580, 596, 298, 411, 685, 401, 221, 526, 344, 148, 380, 761, 289, 44, 178, 678, 549, 311, 185, 96, 124, 338, 387, 652, 563, 487, 211, 268, 1, 154, 653, 32, 225, 519, 295, 414, 186, 556, 674, 565, 36, 393, 19, 502, 432, 438, 361, 684, 726, 145, 693, 196, 53, 281, 581, 492, 55, 488, 70, 527, 557, 408, 780, 561, 668, 34, 486, 699, 169, 256, 54, 548, 258, 489, 426, 511, 208, 123, 42, 505, 610, 627, 407, 377, 51, 125, 430, 61, 76, 388, 109, 68, 646, 383, 141, 116, 84, 224, 597, 252, 324, 543, 400, 679, 217, 713, 103, 609, 711, 343, 354, 35, 435, 259, 778, 302, 525, 403, 670, 686, 421, 359, 694, 313, 649, 768, 80, 223, 553, 451, 253, 167, 363, 378, 404, 257, 770, 190, 127, 709, 81, 566, 93, 460, 663, 22, 606, 71, 442, 64, 270, 589, 276, 450, 688, 547, 352, 740, 106, 615, 153, 13, 297, 518, 299, 345, 542, 582, 239, 771, 630, 742, 300, 214, 608, 184, 715, 754, 118, 639, 171, 461, 175, 598, 550, 322, 100, 269, 755, 783, 468, 307, 583, 288, 107, 155, 594, 439, 112, 506, 696, 274, 456, 618, 168, 728, 82, 137, 714, 472, 336, 751, 416, 188, 690, 517, 8, 197, 88, 160, 180, 424, 265, 231, 484, 46, 777, 72, 372, 277, 396, 500, 602, 45, 24, 245, 466, 33, 28, 541, 386, 173, 766, 529, 330, 475, 210, 569, 554, 612, 423, 445, 62, 428, 290, 614, 574, 23, 31, 241, 495, 455, 192, 138, 271, 57, 640, 528, 282, 748, 739, 599, 230, 220, 422, 504, 756, 374, 26, 301, 292, 512, 641, 247, 749, 395, 272, 620, 661, 681, 331, 508, 507, 108, 339, 546, 323, 83, 523, 635, 530, 183, 200, 50, 104, 213, 306, 659, 162, 321, 222, 355, 333, 334, 48, 16, 535, 757, 95, 727, 592, 687, 638, 480, 39, 664, 120, 90, 139, 135, 418, 753, 662, 340, 760, 209, 623, 97, 18, 79, 229, 453, 73, 227, 157, 275, 114, 369, 763, 134, 741, 166, 228, 631, 278, 732, 660, 729, 494, 431, 29, 633, 40, 611, 212, 462, 537, 77, 483, 132, 437, 389, 179, 636, 479, 296, 317, 498, 584, 628, 601, 350, 759, 427, 560, 381, 151, 293, 206, 645, 746, 402, 218, 348, 672, 349, 743, 497, 745, 69, 75, 158, 578, 544, 568, 6, 667, 233, 701, 514, 465, 38, 356, 370, 130, 552, 724, 12, 446, 328, 294, 705, 680, 621, 607, 329, 205, 590, 255, 305, 327, 201, 376, 37, 750, 765, 319, 142, 700, 600, 232, 536, 434, 675, 373, 216, 449, 708, 0, 458, 499, 520, 92, 85, 236, 248, 501, 575, 266, 91, 249, 481, 538, 264, 613, 467, 163, 398, 195, 366, 521, 172, 379, 287, 98, 399, 419, 27, 622, 304, 412, 187, 105, 367, 115, 513, 121, 744, 15, 65, 286, 772, 390, 5, 165, 417, 254, 219, 420, 318, 391, 731, 87, 642, 360, 665, 368, 346, 207, 262, 722, 362, 198, 303, 99, 279, 194, 199, 588, 94, 683, 415, 441, 673, 734, 758, 49, 718, 43, 14, 181, 782, 261, 577, 11, 493, 347, 325, 454, 515, 251, 89, 658, 429, 703, 655, 629, 78, 774, 476, 579, 375, 174, 736, 405, 202, 440, 204, 41, 140, 25, 332, 20, 572, 410, 30, 482, 551, 2, 689, 490, 682, 516, 593, 666, 260, 539, 243, 669, 657, 66, 564, 128, 10, 733, 604, 695, 238, 9, 111, 459, 509, 634, 177, 7, 382, 119, 464, 320, 351, 616, 698, 473, 591, 156, 448, 585, 647, 605, 775, 545, 712, 406, 781, 595, 52, 86, 385, 226, 56, 263, 719, 144, 570, 47, 273, 312, 110, 650, 191, 384, 358, 310, 133, 150, 326, 773, 285, 122, 735, 3, 314, 147, 730, 60, 470, 341, 469, 762, 246, 767, 474, 603, 463, 371, 496, 182, 651, 452, 433, 648, 779, 677, 654, 309, 764, 131, 4, 534, 436, 74, 237, 562, 242, 267, 17, 617, 587, 706, 532, 691, 725, 540, 710, 491, 522, 656, 203, 752, 576, 571, 510, 586, 637, 117, 702, 704, 280, 723, 357, 567, 240, 619, 397, 161, 478, 308, 102, 337, 573, 59, 364, 671, 409, 113, 531]\n"
          ]
        }
      ]
    },
    {
      "cell_type": "code",
      "source": [
        "t = 0\n",
        "for i in range(num_task):\n",
        "  print(f' ------task {i} --------')\n",
        "  batch = next(iter(train_loader[i]))\n",
        "  if t == 0:\n",
        "    t = random.randint(1,len(batch))\n",
        "  image, label = batch[0][t], batch[1][t]\n",
        "  print (batch[0][t].shape)\n",
        "  print(\"label : \", label.item())  \n",
        "  mnist_imshow(image)\n"
      ],
      "metadata": {
        "colab": {
          "base_uri": "https://localhost:8080/",
          "height": 866
        },
        "id": "N9_VzEOe944D",
        "outputId": "774ff3b8-c05b-4216-eb64-539f27890ecf"
      },
      "execution_count": 7,
      "outputs": [
        {
          "output_type": "stream",
          "name": "stdout",
          "text": [
            " ------task 0 --------\n",
            "torch.Size([784])\n",
            "label :  4\n"
          ]
        },
        {
          "output_type": "display_data",
          "data": {
            "text/plain": [
              "<Figure size 432x288 with 1 Axes>"
            ],
            "image/png": "[encoded data removed]"
          },
          "metadata": {
            "needs_background": "light"
          }
        },
        {
          "output_type": "stream",
          "name": "stdout",
          "text": [
            " ------task 1 --------\n",
            "torch.Size([784])\n",
            "label :  4\n"
          ]
        },
        {
          "output_type": "display_data",
          "data": {
            "text/plain": [
              "<Figure size 432x288 with 1 Axes>"
            ],
            "image/png": "[encoded data removed]"
          },
          "metadata": {
            "needs_background": "light"
          }
        },
        {
          "output_type": "stream",
          "name": "stdout",
          "text": [
            " ------task 2 --------\n",
            "torch.Size([784])\n",
            "label :  4\n"
          ]
        },
        {
          "output_type": "display_data",
          "data": {
            "text/plain": [
              "<Figure size 432x288 with 1 Axes>"
            ],
            "image/png": "[encoded data removed]"
          },
          "metadata": {
            "needs_background": "light"
          }
        }
      ]
    },
    {
      "cell_type": "markdown",
      "source": [
        "## Network\n",
        "A simple network with only Linear layers"
      ],
      "metadata": {
        "id": "Fhd020tFBSjj"
      }
    },
    {
      "cell_type": "code",
      "source": [
        "class MLP(nn.Module):\n",
        "    def __init__(self, hidden_size=200):\n",
        "        super(MLP, self).__init__()\n",
        "        self.fc1 = nn.Linear(28 * 28, hidden_size)\n",
        "        self.fc2 = nn.Linear(hidden_size, hidden_size)\n",
        "        self.fc3 = nn.Linear(hidden_size, hidden_size)\n",
        "        self.fc4 = nn.Linear(hidden_size, 10)\n",
        "\n",
        "    def forward(self, input):\n",
        "        x = F.relu(self.fc1(input))\n",
        "        x = F.relu(self.fc2(x))\n",
        "        x = F.relu(self.fc3(x))\n",
        "        x = F.relu(self.fc4(x))\n",
        "        return x\n",
        "\n",
        "model = MLP().to(device)\n",
        "summary(model, input_size=(1,784))"
      ],
      "metadata": {
        "id": "11gMlQ_tATUi",
        "colab": {
          "base_uri": "https://localhost:8080/"
        },
        "outputId": "5090fed9-87ea-4c3f-ba85-9a6a7c6cf5f3"
      },
      "execution_count": 8,
      "outputs": [
        {
          "output_type": "stream",
          "name": "stdout",
          "text": [
            "----------------------------------------------------------------\n",
            "        Layer (type)               Output Shape         Param #\n",
            "================================================================\n",
            "            Linear-1               [-1, 1, 200]         157,000\n",
            "            Linear-2               [-1, 1, 200]          40,200\n",
            "            Linear-3               [-1, 1, 200]          40,200\n",
            "            Linear-4                [-1, 1, 10]           2,010\n",
            "================================================================\n",
            "Total params: 239,410\n",
            "Trainable params: 239,410\n",
            "Non-trainable params: 0\n",
            "----------------------------------------------------------------\n",
            "Input size (MB): 0.00\n",
            "Forward/backward pass size (MB): 0.00\n",
            "Params size (MB): 0.91\n",
            "Estimated Total Size (MB): 0.92\n",
            "----------------------------------------------------------------\n"
          ]
        }
      ]
    },
    {
      "cell_type": "markdown",
      "source": [
        "## Normal Train Function"
      ],
      "metadata": {
        "id": "3TyLrcpSCW5d"
      }
    },
    {
      "cell_type": "markdown",
      "source": [
        "Variable Function - Used for Gradient [Reference](https://www.geeksforgeeks.org/variables-and-autograd-in-pytorch/)"
      ],
      "metadata": {
        "id": "PuPKHl4DD8X-"
      }
    },
    {
      "cell_type": "code",
      "source": [
        "def variable(t: torch.Tensor, use_cuda=True, **kwargs):\n",
        "  \"\"\"\n",
        "  Takes in a tensor and converts into a tensor with gradient\n",
        "  We would need gradients of parameters, hence needed \n",
        "  \"\"\"\n",
        "  if torch.cuda.is_available() and use_cuda:\n",
        "    t = t.cuda()\n",
        "  return Variable(t, **kwargs)"
      ],
      "metadata": {
        "id": "TZLeg4S-Cu0w"
      },
      "execution_count": 9,
      "outputs": []
    },
    {
      "cell_type": "code",
      "source": [
        "def normal_train(model: nn.Module, \n",
        "                 optimizer: torch.optim, \n",
        "                 data_loader: torch.utils.data.DataLoader):\n",
        "  \"\"\"\n",
        "  Takes in a model architecture, trains its and returns average epoch loss\n",
        "  \"\"\"\n",
        "  model.train()\n",
        "  epoch_loss = 0\n",
        "  for input, target in data_loader:\n",
        "      input, target = variable(input), variable(target)\n",
        "      optimizer.zero_grad()\n",
        "      output = model(input)\n",
        "      loss = F.cross_entropy(output, target)\n",
        "      epoch_loss += loss.item()\n",
        "      loss.backward()\n",
        "      optimizer.step()\n",
        "  return epoch_loss / len(data_loader)"
      ],
      "metadata": {
        "id": "GC0xaEMDBhd9"
      },
      "execution_count": 10,
      "outputs": []
    },
    {
      "cell_type": "markdown",
      "source": [
        "## Normal Test Function"
      ],
      "metadata": {
        "id": "FyCWxxpHNl9W"
      }
    },
    {
      "cell_type": "code",
      "source": [
        "def test(model: nn.Module, \n",
        "         data_loader: torch.utils.data.DataLoader):\n",
        "    model.eval()\n",
        "    correct = 0\n",
        "    for input, target in data_loader:\n",
        "        input, target = variable(input), variable(target)\n",
        "        output = model(input)\n",
        "        correct += (F.softmax(output, dim=1).max(dim=1)[1] == target).data.sum()\n",
        "    return correct / len(data_loader.dataset)"
      ],
      "metadata": {
        "id": "JmMNFbKPMwLl"
      },
      "execution_count": 11,
      "outputs": []
    },
    {
      "cell_type": "markdown",
      "source": [
        "## Elastic Weight Consolidation"
      ],
      "metadata": {
        "id": "prQlMMx8EvjZ"
      }
    },
    {
      "cell_type": "code",
      "source": [
        "class EWC(object):\n",
        "    def __init__(self, \n",
        "                 model: nn.Module, \n",
        "                 dataset: list):\n",
        "\n",
        "        self.model = model\n",
        "        self.dataset = dataset\n",
        "\n",
        "        # default model params\n",
        "        self.params = {n: p for n, p in self.model.named_parameters() if p.requires_grad}\n",
        "        self._means = {}\n",
        "        self._precision_matrices = self._diag_fisher()\n",
        "\n",
        "        for n, p in deepcopy(self.params).items():\n",
        "            self._means[n] = variable(p.data)\n",
        "\n",
        "    def _diag_fisher(self):\n",
        "        precision_matrices = {}\n",
        "        for n, p in deepcopy(self.params).items():\n",
        "            p.data.zero_()\n",
        "            precision_matrices[n] = variable(p.data)\n",
        "\n",
        "        self.model.eval() # we need to do one round of back propogation to understand the gradients of params\n",
        "        # interestingly we dont have to always use model.train() to get the gradients\n",
        "        for input in self.dataset:\n",
        "            self.model.zero_grad()\n",
        "            input = variable(input)\n",
        "            output = self.model(input).view(1, -1)\n",
        "            label = output.max(1)[1].view(-1)\n",
        "            loss = F.nll_loss(F.log_softmax(output, dim=1), label)\n",
        "            loss.backward()\n",
        "\n",
        "            for n, p in self.model.named_parameters():\n",
        "                precision_matrices[n].data += p.grad.data ** 2 / len(self.dataset)\n",
        "\n",
        "        precision_matrices = {n: p for n, p in precision_matrices.items()}\n",
        "        return precision_matrices\n",
        "\n",
        "    def penalty(self, model: nn.Module):\n",
        "        loss = 0\n",
        "        for n, p in model.named_parameters():\n",
        "            _loss = self._precision_matrices[n] * (p - self._means[n]) ** 2\n",
        "            loss += _loss.sum()\n",
        "        return loss"
      ],
      "metadata": {
        "id": "q3AgaT_vB-1p"
      },
      "execution_count": 12,
      "outputs": []
    },
    {
      "cell_type": "markdown",
      "source": [
        "### EWC Train Function\n",
        "This has got Penalties"
      ],
      "metadata": {
        "id": "GoNJoihFMWYR"
      }
    },
    {
      "cell_type": "code",
      "source": [
        "def ewc_train(model: nn.Module, \n",
        "              optimizer: torch.optim, \n",
        "              data_loader: torch.utils.data.DataLoader,\n",
        "              ewc: EWC, \n",
        "              importance: float): # importance is a hyperparam \n",
        "    model.train()\n",
        "    epoch_loss = 0\n",
        "    for input, target in data_loader:\n",
        "        input, target = variable(input), variable(target)\n",
        "        optimizer.zero_grad()\n",
        "        output = model(input)\n",
        "        ##-------Updated Loss Function-------###\n",
        "        loss = F.cross_entropy(output, target) + importance * ewc.penalty(model)\n",
        "        epoch_loss += loss.item()\n",
        "        loss.backward()\n",
        "        optimizer.step()\n",
        "    return epoch_loss / len(data_loader)"
      ],
      "metadata": {
        "id": "rsxEkomJMS5c"
      },
      "execution_count": 13,
      "outputs": []
    },
    {
      "cell_type": "markdown",
      "source": [
        "\n",
        "## Plot Functions"
      ],
      "metadata": {
        "id": "MwdRBH_URrSn"
      }
    },
    {
      "cell_type": "code",
      "source": [
        "def loss_plot(x):\n",
        "    for t, v in x.items():\n",
        "        plt.plot(list(range(t * epochs, (t + 1) * epochs)), v, label = \"Task \"+ str(t))\n",
        "    plt.legend(loc = 'upper right')\n",
        "    plt.title(\"Loss Plot\")\n",
        "    plt.show()\n",
        "\n",
        "def accuracy_plot(x):\n",
        "    for t, v in x.items():\n",
        "        plt.plot(list(range(t * epochs, num_task * epochs)), [acc.cpu() for acc in v], label = \"Task \"+  str(t))\n",
        "    plt.ylim(0, 1)\n",
        "    plt.legend(loc = 'upper right')\n",
        "    plt.title(\"Accuracy Plot\")\n",
        "    plt.show()"
      ],
      "metadata": {
        "id": "Ucr_DlDCRo_V"
      },
      "execution_count": 24,
      "outputs": []
    },
    {
      "cell_type": "markdown",
      "source": [
        "## Standard Process Execution"
      ],
      "metadata": {
        "id": "3_khx8ERN1QN"
      }
    },
    {
      "cell_type": "code",
      "source": [
        "def standard_process(epochs, use_cuda=True, weight=True):\n",
        "    model = MLP(hidden_size)\n",
        "    if torch.cuda.is_available() and use_cuda:\n",
        "        model.cuda()\n",
        "    optimizer = optim.SGD(params=model.parameters(), lr=lr)\n",
        "\n",
        "    loss, acc = {}, {} # across tasks \n",
        "    for task in range(num_task):\n",
        "        loss[task] = [] # per task loss\n",
        "        acc[task] = [] # per task accuracy\n",
        "        for _ in tqdm(range(epochs)):\n",
        "            loss[task].append(normal_train(model, optimizer, train_loader[task]))\n",
        "            for sub_task in range(task + 1):\n",
        "                acc[sub_task].append(test(model, test_loader[sub_task]))\n",
        "        if task == 0 and weight:\n",
        "            weight = model.state_dict()\n",
        "        print(f'\\n----Training for task {task} completed ---')\n",
        "    return loss, acc, weight"
      ],
      "metadata": {
        "id": "TSeexybANCk_"
      },
      "execution_count": 15,
      "outputs": []
    },
    {
      "cell_type": "code",
      "source": [
        "#@title Training and Output of Standard Process\n",
        "loss, acc, weight = standard_process(epochs) # The weights are used by EWC process"
      ],
      "metadata": {
        "colab": {
          "base_uri": "https://localhost:8080/"
        },
        "id": "tmihHuWgO8Vd",
        "outputId": "270264c4-eff5-4239-c2f3-25a3ff41f019"
      },
      "execution_count": 16,
      "outputs": [
        {
          "output_type": "stream",
          "name": "stderr",
          "text": [
            "100%|██████████| 50/50 [01:44<00:00,  2.09s/it]\n"
          ]
        },
        {
          "output_type": "stream",
          "name": "stdout",
          "text": [
            "----Traing for task 3 completed ---\n"
          ]
        },
        {
          "output_type": "stream",
          "name": "stderr",
          "text": [
            "100%|██████████| 50/50 [02:01<00:00,  2.43s/it]\n"
          ]
        },
        {
          "output_type": "stream",
          "name": "stdout",
          "text": [
            "----Traing for task 3 completed ---\n"
          ]
        },
        {
          "output_type": "stream",
          "name": "stderr",
          "text": [
            "100%|██████████| 50/50 [01:59<00:00,  2.40s/it]"
          ]
        },
        {
          "output_type": "stream",
          "name": "stdout",
          "text": [
            "----Traing for task 3 completed ---\n"
          ]
        },
        {
          "output_type": "stream",
          "name": "stderr",
          "text": [
            "\n"
          ]
        }
      ]
    },
    {
      "cell_type": "code",
      "source": [
        "loss_plot(loss), accuracy_plot(acc)"
      ],
      "metadata": {
        "colab": {
          "base_uri": "https://localhost:8080/",
          "height": 634
        },
        "id": "Ve29OTX-TQCd",
        "outputId": "7f8b8b93-3b60-4fd9-ab4d-eda5b8737fb0"
      },
      "execution_count": 25,
      "outputs": [
        {
          "output_type": "display_data",
          "data": {
            "text/plain": [
              "<Figure size 432x288 with 1 Axes>"
            ],
            "image/png": "[encoded data removed]"
          },
          "metadata": {
            "needs_background": "light"
          }
        },
        {
          "output_type": "stream",
          "name": "stdout",
          "text": [
            "V [tensor(0.1227, device='cuda:0'), tensor(0.1375, device='cuda:0'), tensor(0.1569, device='cuda:0'), tensor(0.1759, device='cuda:0'), tensor(0.2019, device='cuda:0'), tensor(0.2364, device='cuda:0'), tensor(0.2657, device='cuda:0'), tensor(0.2863, device='cuda:0'), tensor(0.2985, device='cuda:0'), tensor(0.3045, device='cuda:0'), tensor(0.3081, device='cuda:0'), tensor(0.3110, device='cuda:0'), tensor(0.3142, device='cuda:0'), tensor(0.3145, device='cuda:0'), tensor(0.3152, device='cuda:0'), tensor(0.3150, device='cuda:0'), tensor(0.3154, device='cuda:0'), tensor(0.3148, device='cuda:0'), tensor(0.3136, device='cuda:0'), tensor(0.3122, device='cuda:0'), tensor(0.3105, device='cuda:0'), tensor(0.3097, device='cuda:0'), tensor(0.3095, device='cuda:0'), tensor(0.3082, device='cuda:0'), tensor(0.3075, device='cuda:0'), tensor(0.3068, device='cuda:0'), tensor(0.3072, device='cuda:0'), tensor(0.3074, device='cuda:0'), tensor(0.3092, device='cuda:0'), tensor(0.3128, device='cuda:0'), tensor(0.3172, device='cuda:0'), tensor(0.3237, device='cuda:0'), tensor(0.3299, device='cuda:0'), tensor(0.3355, device='cuda:0'), tensor(0.3399, device='cuda:0'), tensor(0.3434, device='cuda:0'), tensor(0.3478, device='cuda:0'), tensor(0.3508, device='cuda:0'), tensor(0.3525, device='cuda:0'), tensor(0.3549, device='cuda:0'), tensor(0.3558, device='cuda:0'), tensor(0.3570, device='cuda:0'), tensor(0.3604, device='cuda:0'), tensor(0.3688, device='cuda:0'), tensor(0.3810, device='cuda:0'), tensor(0.3927, device='cuda:0'), tensor(0.4017, device='cuda:0'), tensor(0.4102, device='cuda:0'), tensor(0.4164, device='cuda:0'), tensor(0.4234, device='cuda:0'), tensor(0.4197, device='cuda:0'), tensor(0.4210, device='cuda:0'), tensor(0.4162, device='cuda:0'), tensor(0.4054, device='cuda:0'), tensor(0.4024, device='cuda:0'), tensor(0.4025, device='cuda:0'), tensor(0.4050, device='cuda:0'), tensor(0.4087, device='cuda:0'), tensor(0.4101, device='cuda:0'), tensor(0.4116, device='cuda:0'), tensor(0.4132, device='cuda:0'), tensor(0.4142, device='cuda:0'), tensor(0.4141, device='cuda:0'), tensor(0.4138, device='cuda:0'), tensor(0.4147, device='cuda:0'), tensor(0.4143, device='cuda:0'), tensor(0.4142, device='cuda:0'), tensor(0.4137, device='cuda:0'), tensor(0.4135, device='cuda:0'), tensor(0.4126, device='cuda:0'), tensor(0.4121, device='cuda:0'), tensor(0.4121, device='cuda:0'), tensor(0.4114, device='cuda:0'), tensor(0.4107, device='cuda:0'), tensor(0.4106, device='cuda:0'), tensor(0.4107, device='cuda:0'), tensor(0.4103, device='cuda:0'), tensor(0.4101, device='cuda:0'), tensor(0.4096, device='cuda:0'), tensor(0.4088, device='cuda:0'), tensor(0.4090, device='cuda:0'), tensor(0.4088, device='cuda:0'), tensor(0.4086, device='cuda:0'), tensor(0.4084, device='cuda:0'), tensor(0.4077, device='cuda:0'), tensor(0.4075, device='cuda:0'), tensor(0.4073, device='cuda:0'), tensor(0.4069, device='cuda:0'), tensor(0.4071, device='cuda:0'), tensor(0.4072, device='cuda:0'), tensor(0.4071, device='cuda:0'), tensor(0.4069, device='cuda:0'), tensor(0.4064, device='cuda:0'), tensor(0.4065, device='cuda:0'), tensor(0.4058, device='cuda:0'), tensor(0.4056, device='cuda:0'), tensor(0.4050, device='cuda:0'), tensor(0.4047, device='cuda:0'), tensor(0.4044, device='cuda:0'), tensor(0.4041, device='cuda:0'), tensor(0.4039, device='cuda:0'), tensor(0.4037, device='cuda:0'), tensor(0.4047, device='cuda:0'), tensor(0.4083, device='cuda:0'), tensor(0.4146, device='cuda:0'), tensor(0.4142, device='cuda:0'), tensor(0.4131, device='cuda:0'), tensor(0.4125, device='cuda:0'), tensor(0.4125, device='cuda:0'), tensor(0.4122, device='cuda:0'), tensor(0.4125, device='cuda:0'), tensor(0.4134, device='cuda:0'), tensor(0.4144, device='cuda:0'), tensor(0.4136, device='cuda:0'), tensor(0.4133, device='cuda:0'), tensor(0.4131, device='cuda:0'), tensor(0.4132, device='cuda:0'), tensor(0.4131, device='cuda:0'), tensor(0.4127, device='cuda:0'), tensor(0.4127, device='cuda:0'), tensor(0.4121, device='cuda:0'), tensor(0.4123, device='cuda:0'), tensor(0.4119, device='cuda:0'), tensor(0.4111, device='cuda:0'), tensor(0.4106, device='cuda:0'), tensor(0.4103, device='cuda:0'), tensor(0.4105, device='cuda:0'), tensor(0.4100, device='cuda:0'), tensor(0.4103, device='cuda:0'), tensor(0.4096, device='cuda:0'), tensor(0.4092, device='cuda:0'), tensor(0.4088, device='cuda:0'), tensor(0.4083, device='cuda:0'), tensor(0.4079, device='cuda:0'), tensor(0.4074, device='cuda:0'), tensor(0.4062, device='cuda:0'), tensor(0.4059, device='cuda:0'), tensor(0.4054, device='cuda:0'), tensor(0.4052, device='cuda:0'), tensor(0.4050, device='cuda:0'), tensor(0.4042, device='cuda:0'), tensor(0.4037, device='cuda:0'), tensor(0.4029, device='cuda:0'), tensor(0.4021, device='cuda:0'), tensor(0.4017, device='cuda:0'), tensor(0.4013, device='cuda:0'), tensor(0.4008, device='cuda:0'), tensor(0.4010, device='cuda:0'), tensor(0.4005, device='cuda:0'), tensor(0.3996, device='cuda:0')]\n",
            "V [tensor(0.2427, device='cuda:0'), tensor(0.3260, device='cuda:0'), tensor(0.3899, device='cuda:0'), tensor(0.4033, device='cuda:0'), tensor(0.4094, device='cuda:0'), tensor(0.4142, device='cuda:0'), tensor(0.4185, device='cuda:0'), tensor(0.4234, device='cuda:0'), tensor(0.4266, device='cuda:0'), tensor(0.4293, device='cuda:0'), tensor(0.4316, device='cuda:0'), tensor(0.4339, device='cuda:0'), tensor(0.4363, device='cuda:0'), tensor(0.4385, device='cuda:0'), tensor(0.4395, device='cuda:0'), tensor(0.4407, device='cuda:0'), tensor(0.4418, device='cuda:0'), tensor(0.4424, device='cuda:0'), tensor(0.4435, device='cuda:0'), tensor(0.4446, device='cuda:0'), tensor(0.4457, device='cuda:0'), tensor(0.4460, device='cuda:0'), tensor(0.4466, device='cuda:0'), tensor(0.4467, device='cuda:0'), tensor(0.4474, device='cuda:0'), tensor(0.4483, device='cuda:0'), tensor(0.4489, device='cuda:0'), tensor(0.4494, device='cuda:0'), tensor(0.4502, device='cuda:0'), tensor(0.4511, device='cuda:0'), tensor(0.4515, device='cuda:0'), tensor(0.4517, device='cuda:0'), tensor(0.4524, device='cuda:0'), tensor(0.4529, device='cuda:0'), tensor(0.4530, device='cuda:0'), tensor(0.4531, device='cuda:0'), tensor(0.4531, device='cuda:0'), tensor(0.4531, device='cuda:0'), tensor(0.4532, device='cuda:0'), tensor(0.4539, device='cuda:0'), tensor(0.4544, device='cuda:0'), tensor(0.4547, device='cuda:0'), tensor(0.4553, device='cuda:0'), tensor(0.4557, device='cuda:0'), tensor(0.4558, device='cuda:0'), tensor(0.4560, device='cuda:0'), tensor(0.4566, device='cuda:0'), tensor(0.4569, device='cuda:0'), tensor(0.4572, device='cuda:0'), tensor(0.4574, device='cuda:0'), tensor(0.4541, device='cuda:0'), tensor(0.4532, device='cuda:0'), tensor(0.4519, device='cuda:0'), tensor(0.4501, device='cuda:0'), tensor(0.4548, device='cuda:0'), tensor(0.4548, device='cuda:0'), tensor(0.4543, device='cuda:0'), tensor(0.4540, device='cuda:0'), tensor(0.4541, device='cuda:0'), tensor(0.4539, device='cuda:0'), tensor(0.4536, device='cuda:0'), tensor(0.4529, device='cuda:0'), tensor(0.4465, device='cuda:0'), tensor(0.4463, device='cuda:0'), tensor(0.4473, device='cuda:0'), tensor(0.4478, device='cuda:0'), tensor(0.4491, device='cuda:0'), tensor(0.4503, device='cuda:0'), tensor(0.4503, device='cuda:0'), tensor(0.4501, device='cuda:0'), tensor(0.4503, device='cuda:0'), tensor(0.4501, device='cuda:0'), tensor(0.4497, device='cuda:0'), tensor(0.4495, device='cuda:0'), tensor(0.4494, device='cuda:0'), tensor(0.4493, device='cuda:0'), tensor(0.4493, device='cuda:0'), tensor(0.4496, device='cuda:0'), tensor(0.4494, device='cuda:0'), tensor(0.4492, device='cuda:0'), tensor(0.4492, device='cuda:0'), tensor(0.4489, device='cuda:0'), tensor(0.4489, device='cuda:0'), tensor(0.4488, device='cuda:0'), tensor(0.4490, device='cuda:0'), tensor(0.4491, device='cuda:0'), tensor(0.4491, device='cuda:0'), tensor(0.4490, device='cuda:0'), tensor(0.4490, device='cuda:0'), tensor(0.4491, device='cuda:0'), tensor(0.4490, device='cuda:0'), tensor(0.4494, device='cuda:0'), tensor(0.4491, device='cuda:0'), tensor(0.4492, device='cuda:0'), tensor(0.4488, device='cuda:0'), tensor(0.4487, device='cuda:0'), tensor(0.4486, device='cuda:0'), tensor(0.4486, device='cuda:0'), tensor(0.4487, device='cuda:0'), tensor(0.4486, device='cuda:0')]\n",
            "V [tensor(0.1297, device='cuda:0'), tensor(0.1505, device='cuda:0'), tensor(0.1750, device='cuda:0'), tensor(0.2466, device='cuda:0'), tensor(0.3315, device='cuda:0'), tensor(0.3464, device='cuda:0'), tensor(0.3511, device='cuda:0'), tensor(0.3541, device='cuda:0'), tensor(0.3563, device='cuda:0'), tensor(0.3578, device='cuda:0'), tensor(0.3599, device='cuda:0'), tensor(0.3627, device='cuda:0'), tensor(0.4194, device='cuda:0'), tensor(0.4392, device='cuda:0'), tensor(0.4449, device='cuda:0'), tensor(0.4473, device='cuda:0'), tensor(0.4496, device='cuda:0'), tensor(0.4520, device='cuda:0'), tensor(0.4531, device='cuda:0'), tensor(0.4538, device='cuda:0'), tensor(0.4552, device='cuda:0'), tensor(0.4563, device='cuda:0'), tensor(0.4567, device='cuda:0'), tensor(0.4571, device='cuda:0'), tensor(0.4575, device='cuda:0'), tensor(0.4582, device='cuda:0'), tensor(0.4588, device='cuda:0'), tensor(0.4591, device='cuda:0'), tensor(0.4593, device='cuda:0'), tensor(0.4601, device='cuda:0'), tensor(0.4602, device='cuda:0'), tensor(0.4607, device='cuda:0'), tensor(0.4611, device='cuda:0'), tensor(0.4612, device='cuda:0'), tensor(0.4615, device='cuda:0'), tensor(0.4615, device='cuda:0'), tensor(0.4619, device='cuda:0'), tensor(0.4623, device='cuda:0'), tensor(0.4626, device='cuda:0'), tensor(0.4627, device='cuda:0'), tensor(0.4634, device='cuda:0'), tensor(0.4636, device='cuda:0'), tensor(0.4638, device='cuda:0'), tensor(0.4640, device='cuda:0'), tensor(0.4645, device='cuda:0'), tensor(0.4652, device='cuda:0'), tensor(0.4657, device='cuda:0'), tensor(0.4658, device='cuda:0'), tensor(0.4660, device='cuda:0'), tensor(0.4665, device='cuda:0')]\n"
          ]
        },
        {
          "output_type": "display_data",
          "data": {
            "text/plain": [
              "<Figure size 432x288 with 1 Axes>"
            ],
            "image/png": "[encoded data removed]"
          },
          "metadata": {
            "needs_background": "light"
          }
        },
        {
          "output_type": "execute_result",
          "data": {
            "text/plain": [
              "(None, None)"
            ]
          },
          "metadata": {},
          "execution_count": 25
        }
      ]
    },
    {
      "cell_type": "code",
      "source": [
        "(weight)"
      ],
      "metadata": {
        "colab": {
          "base_uri": "https://localhost:8080/"
        },
        "id": "zGBtf4g0SX2Z",
        "outputId": "4d85302a-61e2-4fbf-e0f2-75080d7283d4"
      },
      "execution_count": 26,
      "outputs": [
        {
          "output_type": "execute_result",
          "data": {
            "text/plain": [
              "OrderedDict([('fc1.weight',\n",
              "              tensor([[-0.0138,  0.0263, -0.0335,  ..., -0.0169, -0.0010,  0.0150],\n",
              "                      [-0.0267,  0.0179, -0.0128,  ..., -0.0097,  0.0171,  0.0294],\n",
              "                      [-0.0239,  0.0078, -0.0297,  ..., -0.0261,  0.0343, -0.0197],\n",
              "                      ...,\n",
              "                      [ 0.0389,  0.0275, -0.0214,  ...,  0.0326, -0.0125,  0.0060],\n",
              "                      [-0.0068, -0.0160, -0.0297,  ..., -0.0359,  0.0098, -0.0238],\n",
              "                      [ 0.0401,  0.0292,  0.0044,  ..., -0.0236,  0.0117, -0.0063]],\n",
              "                     device='cuda:0')),\n",
              "             ('fc1.bias',\n",
              "              tensor([ 0.0356, -0.0233, -0.0043, -0.0275,  0.0130, -0.0058, -0.0100, -0.0026,\n",
              "                       0.0051,  0.0809,  0.0003, -0.0110,  0.0244,  0.0011,  0.0013, -0.0001,\n",
              "                       0.0394, -0.0390,  0.0265,  0.0206, -0.0034, -0.0049, -0.0150,  0.0167,\n",
              "                       0.0361,  0.0020,  0.0289,  0.0020,  0.0310, -0.0050, -0.0062,  0.0153,\n",
              "                      -0.0175,  0.0095, -0.0032,  0.0243,  0.0074,  0.0374, -0.0218, -0.0053,\n",
              "                       0.0536, -0.0222,  0.0149,  0.0455,  0.0338,  0.0204,  0.0110, -0.0124,\n",
              "                      -0.0096,  0.0226, -0.0193, -0.0227, -0.0040,  0.0307, -0.0055, -0.0232,\n",
              "                      -0.0296, -0.0178,  0.0053, -0.0062, -0.0037,  0.0074,  0.0403, -0.0336,\n",
              "                      -0.0103, -0.0089,  0.0123, -0.0019,  0.0315,  0.0005,  0.0357,  0.0110,\n",
              "                       0.0214,  0.0281, -0.0062,  0.0499,  0.0343,  0.0205,  0.0072, -0.0248,\n",
              "                       0.0048, -0.0189, -0.0194,  0.0276, -0.0073,  0.0261,  0.0214,  0.0222,\n",
              "                       0.0097,  0.0112, -0.0054,  0.0265, -0.0074, -0.0032,  0.0108,  0.0309,\n",
              "                      -0.0157,  0.0717,  0.0520, -0.0025, -0.0074,  0.0761, -0.0057, -0.0250,\n",
              "                       0.0231,  0.0201,  0.0120,  0.0618,  0.0248, -0.0040,  0.0030, -0.0055,\n",
              "                      -0.0103,  0.0295,  0.0194, -0.0270, -0.0114,  0.0225,  0.0583,  0.0069,\n",
              "                      -0.0271, -0.0282, -0.0120,  0.0450,  0.0378,  0.0108,  0.0178,  0.0281,\n",
              "                       0.0022, -0.0109,  0.0299,  0.0215,  0.0060,  0.0505,  0.0021, -0.0012,\n",
              "                       0.0266,  0.0100, -0.0214,  0.0302, -0.0200, -0.0329,  0.0011,  0.0105,\n",
              "                       0.0134, -0.0080, -0.0011,  0.0121,  0.0201,  0.0386, -0.0100,  0.0238,\n",
              "                       0.0312,  0.0191,  0.0168, -0.0119, -0.0330,  0.0040, -0.0316,  0.0220,\n",
              "                       0.0286,  0.0081,  0.0421,  0.0774,  0.0501,  0.0024,  0.0172,  0.0256,\n",
              "                       0.0194, -0.0146, -0.0197, -0.0020,  0.0044,  0.0672,  0.0304, -0.0095,\n",
              "                       0.0071, -0.0100, -0.0034,  0.0011,  0.0131,  0.0055,  0.0247, -0.0083,\n",
              "                       0.0066, -0.0053, -0.0161,  0.0410, -0.0218,  0.0118, -0.0075,  0.0087,\n",
              "                       0.0165, -0.0114,  0.0087,  0.0979,  0.0294, -0.0060,  0.0171, -0.0049],\n",
              "                     device='cuda:0')),\n",
              "             ('fc2.weight',\n",
              "              tensor([[-0.0803, -0.0569,  0.0137,  ...,  0.0841, -0.0317,  0.0185],\n",
              "                      [ 0.0145,  0.0488,  0.0554,  ..., -0.0390, -0.0035, -0.0553],\n",
              "                      [ 0.0284,  0.0528,  0.0503,  ..., -0.0588, -0.0257, -0.0321],\n",
              "                      ...,\n",
              "                      [-0.0394, -0.0113,  0.0472,  ..., -0.0017,  0.0457, -0.0247],\n",
              "                      [-0.0586, -0.0075, -0.0236,  ...,  0.0593,  0.0450, -0.0024],\n",
              "                      [ 0.0595,  0.0260, -0.0480,  ...,  0.0420, -0.0163,  0.0075]],\n",
              "                     device='cuda:0')),\n",
              "             ('fc2.bias',\n",
              "              tensor([-0.0054, -0.0112,  0.0722, -0.0121, -0.0324,  0.0861,  0.1007,  0.0288,\n",
              "                       0.0480, -0.0326, -0.0564, -0.0072,  0.0705,  0.0485,  0.0875, -0.0639,\n",
              "                       0.0055,  0.0201, -0.0239,  0.0087, -0.0707,  0.0045, -0.0156, -0.0265,\n",
              "                       0.0031,  0.0985, -0.0118, -0.0302,  0.0902, -0.0558, -0.0458, -0.0438,\n",
              "                       0.0719,  0.0140,  0.0990,  0.0685,  0.0386, -0.0478, -0.0655,  0.0671,\n",
              "                      -0.0632,  0.0778,  0.0266,  0.0522,  0.0566, -0.0324, -0.0023, -0.0190,\n",
              "                       0.0426, -0.0047,  0.0942,  0.0185,  0.0622,  0.0913, -0.0126, -0.0304,\n",
              "                       0.0286,  0.0184,  0.0864,  0.0426, -0.0367,  0.0256,  0.0294, -0.0136,\n",
              "                       0.0610,  0.0823, -0.0210,  0.0062, -0.0211, -0.0152, -0.0308,  0.0188,\n",
              "                      -0.0508, -0.0146, -0.0531,  0.1118, -0.0660, -0.0337, -0.0193,  0.0360,\n",
              "                      -0.0242,  0.0618, -0.0044,  0.0111,  0.0451, -0.0378,  0.1056, -0.0360,\n",
              "                       0.0707, -0.0068, -0.0664,  0.0298,  0.0630,  0.0896, -0.0580,  0.0722,\n",
              "                       0.0536, -0.0050, -0.0164,  0.0568,  0.0222, -0.0378, -0.0314, -0.0045,\n",
              "                      -0.0466,  0.0541,  0.0725, -0.0027,  0.0368,  0.0248, -0.0360, -0.0162,\n",
              "                       0.0259,  0.0009,  0.0402,  0.0962,  0.0723,  0.0648, -0.0713, -0.0677,\n",
              "                      -0.0622,  0.0471, -0.0608, -0.0083,  0.0786,  0.0465,  0.1085,  0.0913,\n",
              "                      -0.0677,  0.0743,  0.0941, -0.0093, -0.0094,  0.0901,  0.0428,  0.0556,\n",
              "                       0.0684,  0.0508,  0.0653,  0.0183, -0.0459, -0.0483,  0.0430, -0.0493,\n",
              "                       0.0901, -0.0565, -0.0505,  0.0122,  0.0108,  0.0166, -0.0608,  0.0863,\n",
              "                       0.0361, -0.0311, -0.0070, -0.0432, -0.0645,  0.0637, -0.0279, -0.0145,\n",
              "                       0.0933,  0.0049, -0.0258, -0.0264,  0.1157,  0.0578, -0.0347, -0.0202,\n",
              "                      -0.0522, -0.0251,  0.0753, -0.0388,  0.0873, -0.0665,  0.0454,  0.0187,\n",
              "                       0.0091,  0.0497, -0.0376,  0.0369, -0.0483, -0.0347, -0.0269, -0.0618,\n",
              "                       0.0359, -0.0521, -0.0236,  0.0311, -0.0387, -0.0511, -0.0314,  0.0619,\n",
              "                       0.0538,  0.0768,  0.0705, -0.0009,  0.0690, -0.0620,  0.0636,  0.0744],\n",
              "                     device='cuda:0')),\n",
              "             ('fc3.weight',\n",
              "              tensor([[ 0.0144,  0.0135,  0.0287,  ..., -0.0467,  0.0823, -0.0107],\n",
              "                      [-0.0675, -0.0110, -0.0090,  ...,  0.0639,  0.0199,  0.0423],\n",
              "                      [ 0.0518,  0.0324, -0.0567,  ..., -0.0023,  0.0018,  0.0133],\n",
              "                      ...,\n",
              "                      [-0.0025, -0.0286, -0.0506,  ..., -0.0660,  0.0701, -0.0394],\n",
              "                      [-0.0629,  0.0410,  0.0479,  ..., -0.0523,  0.0521,  0.0307],\n",
              "                      [ 0.0708, -0.0335, -0.0304,  ..., -0.0476,  0.0675, -0.0439]],\n",
              "                     device='cuda:0')),\n",
              "             ('fc3.bias',\n",
              "              tensor([-0.0435,  0.0244,  0.0348,  0.0199, -0.0385,  0.0124,  0.0546,  0.1067,\n",
              "                       0.0842,  0.0809, -0.0160, -0.0314, -0.0329, -0.0188,  0.0096,  0.0498,\n",
              "                      -0.0184,  0.0527,  0.0563, -0.0819,  0.0052,  0.1009,  0.0154,  0.0648,\n",
              "                       0.0491, -0.0671,  0.1557,  0.1096,  0.0295,  0.0526, -0.0140,  0.0518,\n",
              "                       0.0602,  0.0604,  0.0336,  0.0829,  0.0599, -0.0681, -0.0010,  0.0568,\n",
              "                       0.0729, -0.0218, -0.0657, -0.0760,  0.0595,  0.0654,  0.0787, -0.0020,\n",
              "                      -0.0340, -0.0334, -0.0760,  0.0391,  0.0063, -0.0497,  0.1391,  0.0434,\n",
              "                       0.0642,  0.0837, -0.0080, -0.0192,  0.1313, -0.0110,  0.1025,  0.0231,\n",
              "                       0.0882,  0.0542,  0.0137, -0.0434,  0.0218,  0.0812,  0.0960,  0.0332,\n",
              "                       0.0684,  0.0134, -0.0733, -0.0578,  0.0260,  0.0611,  0.0488, -0.0802,\n",
              "                       0.0320,  0.0704,  0.0640,  0.1329, -0.0556, -0.0197, -0.0534, -0.0215,\n",
              "                      -0.0160,  0.0359,  0.0621,  0.0622,  0.0658, -0.0466,  0.1011,  0.0569,\n",
              "                       0.0225,  0.0127,  0.0816,  0.0498,  0.0873,  0.0066,  0.0641,  0.0332,\n",
              "                       0.0682,  0.0075, -0.0061,  0.0739, -0.0387,  0.0105,  0.0679,  0.0891,\n",
              "                      -0.0206,  0.0528,  0.0692, -0.0070,  0.0516, -0.0284,  0.0822, -0.0236,\n",
              "                      -0.0255, -0.0274,  0.0624, -0.0097,  0.0086,  0.0409, -0.0512, -0.0648,\n",
              "                      -0.0694,  0.0653, -0.0436,  0.0033,  0.0011,  0.0608,  0.0458,  0.0048,\n",
              "                       0.0124,  0.0319, -0.0224,  0.0180, -0.0420, -0.0650,  0.0531,  0.0178,\n",
              "                      -0.0285,  0.0330, -0.0084, -0.0065,  0.0795, -0.0658, -0.0072, -0.0405,\n",
              "                       0.0893,  0.0600,  0.0021,  0.0042,  0.1293,  0.0572,  0.0752,  0.0131,\n",
              "                      -0.0256,  0.0316, -0.0334,  0.0299, -0.0050,  0.0020,  0.0638, -0.0717,\n",
              "                      -0.0685,  0.0500, -0.0513, -0.0379,  0.0946, -0.0663, -0.0062,  0.0698,\n",
              "                       0.0191,  0.0604,  0.0753, -0.0262, -0.0112,  0.0624,  0.0496, -0.0237,\n",
              "                      -0.0250,  0.0866,  0.0403, -0.0329,  0.0096,  0.0216,  0.0145,  0.0432,\n",
              "                       0.0802,  0.0392,  0.0217,  0.1005,  0.0793,  0.0297, -0.0300,  0.0783],\n",
              "                     device='cuda:0')),\n",
              "             ('fc4.weight',\n",
              "              tensor([[-0.0455,  0.0559, -0.1142,  ..., -0.2479, -0.0624,  0.1666],\n",
              "                      [-0.0214,  0.0429, -0.0327,  ...,  0.0104,  0.0204, -0.0361],\n",
              "                      [ 0.0438, -0.0009, -0.1405,  ..., -0.1500,  0.0375,  0.0875],\n",
              "                      ...,\n",
              "                      [-0.0478,  0.0067,  0.0098,  ..., -0.0437, -0.0321, -0.0598],\n",
              "                      [ 0.0632, -0.0661, -0.0328,  ...,  0.0362,  0.0075,  0.0344],\n",
              "                      [ 0.0638,  0.0391,  0.3016,  ...,  0.1830, -0.1017, -0.2803]],\n",
              "                     device='cuda:0')),\n",
              "             ('fc4.bias',\n",
              "              tensor([-0.1967, -0.0326,  0.0060, -0.0405, -0.0739,  0.2561,  0.1205, -0.0404,\n",
              "                      -0.0628, -0.2103], device='cuda:0'))])"
            ]
          },
          "metadata": {},
          "execution_count": 26
        }
      ]
    },
    {
      "cell_type": "markdown",
      "source": [
        "## EWC Process Execution"
      ],
      "metadata": {
        "id": "5YzC2LnRR9IB"
      }
    },
    {
      "cell_type": "code",
      "source": [
        "def ewc_process(epochs, importance, use_cuda=True, weight=None):\n",
        "    model = MLP(hidden_size)\n",
        "    if torch.cuda.is_available() and use_cuda:\n",
        "        model.cuda()\n",
        "    optimizer = optim.SGD(params=model.parameters(), lr=lr)\n",
        "\n",
        "    loss, acc, ewc = {}, {}, {}\n",
        "    for task in range(num_task):\n",
        "        loss[task] = []\n",
        "        acc[task] = []\n",
        "\n",
        "        if task == 0:\n",
        "            if weight:\n",
        "                model.load_state_dict(weight)\n",
        "            else:\n",
        "                for _ in tqdm(range(epochs)):\n",
        "                    loss[task].append(normal_train(model, optimizer, train_loader[task]))\n",
        "                    acc[task].append(test(model, test_loader[task]))\n",
        "        else:\n",
        "            old_tasks = []\n",
        "            for sub_task in range(task):\n",
        "                old_tasks = old_tasks + train_loader[sub_task].dataset.get_sample(sample_size)\n",
        "            old_tasks = random.sample(old_tasks, k=sample_size)\n",
        "            for _ in tqdm(range(epochs)):\n",
        "                loss[task].append(ewc_train(model, optimizer, train_loader[task], EWC(model, old_tasks), importance))\n",
        "                for sub_task in range(task + 1):\n",
        "                    acc[sub_task].append(test(model, test_loader[sub_task]))\n",
        "        \n",
        "        print(f'----Training for task {task} completed ---')\n",
        "\n",
        "    return loss, acc"
      ],
      "metadata": {
        "id": "nUCy9Cd7PXV1"
      },
      "execution_count": 27,
      "outputs": []
    },
    {
      "cell_type": "code",
      "source": [
        "#@title Training and Output of EWC Process\n",
        "loss_ewc, acc_ewc = ewc_process(epochs, importance=1000)"
      ],
      "metadata": {
        "colab": {
          "base_uri": "https://localhost:8080/"
        },
        "id": "xL-C07MGTpQM",
        "outputId": "bed31b1e-a0c0-4763-c1f5-fd7d366f845d"
      },
      "execution_count": 28,
      "outputs": [
        {
          "output_type": "stream",
          "name": "stderr",
          "text": [
            "100%|██████████| 50/50 [01:49<00:00,  2.19s/it]\n"
          ]
        },
        {
          "output_type": "stream",
          "name": "stdout",
          "text": [
            "----Traing for task 0 completed ---\n"
          ]
        },
        {
          "output_type": "stream",
          "name": "stderr",
          "text": [
            "100%|██████████| 50/50 [02:42<00:00,  3.26s/it]\n"
          ]
        },
        {
          "output_type": "stream",
          "name": "stdout",
          "text": [
            "----Traing for task 1 completed ---\n"
          ]
        },
        {
          "output_type": "stream",
          "name": "stderr",
          "text": [
            "100%|██████████| 50/50 [02:46<00:00,  3.33s/it]"
          ]
        },
        {
          "output_type": "stream",
          "name": "stdout",
          "text": [
            "----Traing for task 2 completed ---\n"
          ]
        },
        {
          "output_type": "stream",
          "name": "stderr",
          "text": [
            "\n"
          ]
        }
      ]
    },
    {
      "cell_type": "code",
      "source": [
        "loss_plot(loss_ewc) , accuracy_plot(acc_ewc)"
      ],
      "metadata": {
        "colab": {
          "base_uri": "https://localhost:8080/",
          "height": 634
        },
        "id": "l3GYR2WvTzdj",
        "outputId": "aa7487fb-3c24-4bb2-bb88-e378eff7a639"
      },
      "execution_count": 29,
      "outputs": [
        {
          "output_type": "display_data",
          "data": {
            "text/plain": [
              "<Figure size 432x288 with 1 Axes>"
            ],
            "image/png": "[encoded data removed]"
          },
          "metadata": {
            "needs_background": "light"
          }
        },
        {
          "output_type": "stream",
          "name": "stdout",
          "text": [
            "V [tensor(0.0976, device='cuda:0'), tensor(0.1012, device='cuda:0'), tensor(0.1111, device='cuda:0'), tensor(0.1428, device='cuda:0'), tensor(0.1954, device='cuda:0'), tensor(0.2378, device='cuda:0'), tensor(0.2656, device='cuda:0'), tensor(0.2795, device='cuda:0'), tensor(0.2875, device='cuda:0'), tensor(0.2924, device='cuda:0'), tensor(0.2960, device='cuda:0'), tensor(0.2992, device='cuda:0'), tensor(0.3004, device='cuda:0'), tensor(0.2991, device='cuda:0'), tensor(0.2977, device='cuda:0'), tensor(0.2972, device='cuda:0'), tensor(0.2946, device='cuda:0'), tensor(0.2922, device='cuda:0'), tensor(0.2886, device='cuda:0'), tensor(0.2859, device='cuda:0'), tensor(0.2828, device='cuda:0'), tensor(0.2802, device='cuda:0'), tensor(0.2782, device='cuda:0'), tensor(0.2748, device='cuda:0'), tensor(0.2703, device='cuda:0'), tensor(0.2672, device='cuda:0'), tensor(0.2630, device='cuda:0'), tensor(0.2606, device='cuda:0'), tensor(0.2614, device='cuda:0'), tensor(0.2719, device='cuda:0'), tensor(0.2838, device='cuda:0'), tensor(0.3096, device='cuda:0'), tensor(0.3460, device='cuda:0'), tensor(0.3829, device='cuda:0'), tensor(0.4184, device='cuda:0'), tensor(0.4485, device='cuda:0'), tensor(0.4680, device='cuda:0'), tensor(0.4811, device='cuda:0'), tensor(0.4899, device='cuda:0'), tensor(0.4968, device='cuda:0'), tensor(0.5021, device='cuda:0'), tensor(0.5058, device='cuda:0'), tensor(0.5088, device='cuda:0'), tensor(0.5153, device='cuda:0'), tensor(0.5197, device='cuda:0'), tensor(0.5244, device='cuda:0'), tensor(0.5290, device='cuda:0'), tensor(0.5332, device='cuda:0'), tensor(0.5378, device='cuda:0'), tensor(0.5422, device='cuda:0'), tensor(0.5335, device='cuda:0'), tensor(0.5261, device='cuda:0'), tensor(0.5242, device='cuda:0'), tensor(0.5257, device='cuda:0'), tensor(0.5275, device='cuda:0'), tensor(0.5286, device='cuda:0'), tensor(0.5286, device='cuda:0'), tensor(0.5293, device='cuda:0'), tensor(0.5289, device='cuda:0'), tensor(0.5299, device='cuda:0'), tensor(0.5309, device='cuda:0'), tensor(0.5309, device='cuda:0'), tensor(0.5321, device='cuda:0'), tensor(0.5330, device='cuda:0'), tensor(0.5332, device='cuda:0'), tensor(0.5342, device='cuda:0'), tensor(0.5345, device='cuda:0'), tensor(0.5349, device='cuda:0'), tensor(0.5362, device='cuda:0'), tensor(0.5369, device='cuda:0'), tensor(0.5374, device='cuda:0'), tensor(0.5378, device='cuda:0'), tensor(0.5382, device='cuda:0'), tensor(0.5388, device='cuda:0'), tensor(0.5392, device='cuda:0'), tensor(0.5405, device='cuda:0'), tensor(0.5406, device='cuda:0'), tensor(0.5407, device='cuda:0'), tensor(0.5412, device='cuda:0'), tensor(0.5417, device='cuda:0'), tensor(0.5426, device='cuda:0'), tensor(0.5426, device='cuda:0'), tensor(0.5427, device='cuda:0'), tensor(0.5426, device='cuda:0'), tensor(0.5427, device='cuda:0'), tensor(0.5424, device='cuda:0'), tensor(0.5427, device='cuda:0'), tensor(0.5426, device='cuda:0'), tensor(0.5424, device='cuda:0'), tensor(0.5426, device='cuda:0'), tensor(0.5428, device='cuda:0'), tensor(0.5427, device='cuda:0'), tensor(0.5433, device='cuda:0'), tensor(0.5439, device='cuda:0'), tensor(0.5442, device='cuda:0'), tensor(0.5437, device='cuda:0'), tensor(0.5430, device='cuda:0'), tensor(0.5429, device='cuda:0'), tensor(0.5427, device='cuda:0'), tensor(0.5418, device='cuda:0'), tensor(0.5426, device='cuda:0'), tensor(0.5345, device='cuda:0'), tensor(0.5396, device='cuda:0'), tensor(0.5491, device='cuda:0'), tensor(0.5499, device='cuda:0'), tensor(0.5506, device='cuda:0'), tensor(0.5500, device='cuda:0'), tensor(0.5500, device='cuda:0'), tensor(0.5495, device='cuda:0'), tensor(0.5501, device='cuda:0'), tensor(0.5503, device='cuda:0'), tensor(0.5500, device='cuda:0'), tensor(0.5497, device='cuda:0'), tensor(0.5504, device='cuda:0'), tensor(0.5506, device='cuda:0'), tensor(0.5510, device='cuda:0'), tensor(0.5504, device='cuda:0'), tensor(0.5505, device='cuda:0'), tensor(0.5499, device='cuda:0'), tensor(0.5497, device='cuda:0'), tensor(0.5495, device='cuda:0'), tensor(0.5491, device='cuda:0'), tensor(0.5487, device='cuda:0'), tensor(0.5483, device='cuda:0'), tensor(0.5487, device='cuda:0'), tensor(0.5482, device='cuda:0'), tensor(0.5476, device='cuda:0'), tensor(0.5472, device='cuda:0'), tensor(0.5464, device='cuda:0'), tensor(0.5461, device='cuda:0'), tensor(0.5453, device='cuda:0'), tensor(0.5445, device='cuda:0'), tensor(0.5440, device='cuda:0'), tensor(0.5437, device='cuda:0'), tensor(0.5429, device='cuda:0'), tensor(0.5425, device='cuda:0'), tensor(0.5420, device='cuda:0'), tensor(0.5418, device='cuda:0'), tensor(0.5415, device='cuda:0'), tensor(0.5411, device='cuda:0'), tensor(0.5406, device='cuda:0'), tensor(0.5388, device='cuda:0'), tensor(0.5383, device='cuda:0'), tensor(0.5380, device='cuda:0'), tensor(0.5374, device='cuda:0'), tensor(0.5373, device='cuda:0'), tensor(0.5359, device='cuda:0'), tensor(0.5348, device='cuda:0'), tensor(0.5340, device='cuda:0'), tensor(0.5345, device='cuda:0')]\n",
            "V [tensor(0.2545, device='cuda:0'), tensor(0.3754, device='cuda:0'), tensor(0.4451, device='cuda:0'), tensor(0.4745, device='cuda:0'), tensor(0.4894, device='cuda:0'), tensor(0.4980, device='cuda:0'), tensor(0.5062, device='cuda:0'), tensor(0.5142, device='cuda:0'), tensor(0.5205, device='cuda:0'), tensor(0.5260, device='cuda:0'), tensor(0.5316, device='cuda:0'), tensor(0.5386, device='cuda:0'), tensor(0.5432, device='cuda:0'), tensor(0.5480, device='cuda:0'), tensor(0.5527, device='cuda:0'), tensor(0.5569, device='cuda:0'), tensor(0.5615, device='cuda:0'), tensor(0.5644, device='cuda:0'), tensor(0.5691, device='cuda:0'), tensor(0.5733, device='cuda:0'), tensor(0.5759, device='cuda:0'), tensor(0.5795, device='cuda:0'), tensor(0.5832, device='cuda:0'), tensor(0.5863, device='cuda:0'), tensor(0.5887, device='cuda:0'), tensor(0.5917, device='cuda:0'), tensor(0.5937, device='cuda:0'), tensor(0.5963, device='cuda:0'), tensor(0.5993, device='cuda:0'), tensor(0.6009, device='cuda:0'), tensor(0.6024, device='cuda:0'), tensor(0.6043, device='cuda:0'), tensor(0.6064, device='cuda:0'), tensor(0.6094, device='cuda:0'), tensor(0.6117, device='cuda:0'), tensor(0.6141, device='cuda:0'), tensor(0.6162, device='cuda:0'), tensor(0.6181, device='cuda:0'), tensor(0.6195, device='cuda:0'), tensor(0.6218, device='cuda:0'), tensor(0.6237, device='cuda:0'), tensor(0.6255, device='cuda:0'), tensor(0.6279, device='cuda:0'), tensor(0.6306, device='cuda:0'), tensor(0.6319, device='cuda:0'), tensor(0.6346, device='cuda:0'), tensor(0.6365, device='cuda:0'), tensor(0.6387, device='cuda:0'), tensor(0.6407, device='cuda:0'), tensor(0.6422, device='cuda:0'), tensor(0.6482, device='cuda:0'), tensor(0.6439, device='cuda:0'), tensor(0.6363, device='cuda:0'), tensor(0.6404, device='cuda:0'), tensor(0.6340, device='cuda:0'), tensor(0.6324, device='cuda:0'), tensor(0.6326, device='cuda:0'), tensor(0.6329, device='cuda:0'), tensor(0.6330, device='cuda:0'), tensor(0.6333, device='cuda:0'), tensor(0.6340, device='cuda:0'), tensor(0.6345, device='cuda:0'), tensor(0.6351, device='cuda:0'), tensor(0.6362, device='cuda:0'), tensor(0.6378, device='cuda:0'), tensor(0.6381, device='cuda:0'), tensor(0.6388, device='cuda:0'), tensor(0.6398, device='cuda:0'), tensor(0.6407, device='cuda:0'), tensor(0.6418, device='cuda:0'), tensor(0.6425, device='cuda:0'), tensor(0.6432, device='cuda:0'), tensor(0.6439, device='cuda:0'), tensor(0.6443, device='cuda:0'), tensor(0.6442, device='cuda:0'), tensor(0.6436, device='cuda:0'), tensor(0.6443, device='cuda:0'), tensor(0.6448, device='cuda:0'), tensor(0.6453, device='cuda:0'), tensor(0.6453, device='cuda:0'), tensor(0.6458, device='cuda:0'), tensor(0.6463, device='cuda:0'), tensor(0.6461, device='cuda:0'), tensor(0.6453, device='cuda:0'), tensor(0.6454, device='cuda:0'), tensor(0.6449, device='cuda:0'), tensor(0.6442, device='cuda:0'), tensor(0.6447, device='cuda:0'), tensor(0.6448, device='cuda:0'), tensor(0.6444, device='cuda:0'), tensor(0.6433, device='cuda:0'), tensor(0.6433, device='cuda:0'), tensor(0.6431, device='cuda:0'), tensor(0.6418, device='cuda:0'), tensor(0.6420, device='cuda:0'), tensor(0.6422, device='cuda:0'), tensor(0.6419, device='cuda:0'), tensor(0.6417, device='cuda:0'), tensor(0.6416, device='cuda:0'), tensor(0.6411, device='cuda:0')]\n",
            "V [tensor(0.1467, device='cuda:0'), tensor(0.2595, device='cuda:0'), tensor(0.3438, device='cuda:0'), tensor(0.4120, device='cuda:0'), tensor(0.5091, device='cuda:0'), tensor(0.5346, device='cuda:0'), tensor(0.5518, device='cuda:0'), tensor(0.5633, device='cuda:0'), tensor(0.5708, device='cuda:0'), tensor(0.5775, device='cuda:0'), tensor(0.5845, device='cuda:0'), tensor(0.5885, device='cuda:0'), tensor(0.5928, device='cuda:0'), tensor(0.5972, device='cuda:0'), tensor(0.6010, device='cuda:0'), tensor(0.6036, device='cuda:0'), tensor(0.6067, device='cuda:0'), tensor(0.6091, device='cuda:0'), tensor(0.6113, device='cuda:0'), tensor(0.6148, device='cuda:0'), tensor(0.6183, device='cuda:0'), tensor(0.6209, device='cuda:0'), tensor(0.6232, device='cuda:0'), tensor(0.6254, device='cuda:0'), tensor(0.6286, device='cuda:0'), tensor(0.6309, device='cuda:0'), tensor(0.6337, device='cuda:0'), tensor(0.6366, device='cuda:0'), tensor(0.6382, device='cuda:0'), tensor(0.6402, device='cuda:0'), tensor(0.6421, device='cuda:0'), tensor(0.6443, device='cuda:0'), tensor(0.6467, device='cuda:0'), tensor(0.6485, device='cuda:0'), tensor(0.6507, device='cuda:0'), tensor(0.6516, device='cuda:0'), tensor(0.6535, device='cuda:0'), tensor(0.6544, device='cuda:0'), tensor(0.6559, device='cuda:0'), tensor(0.6568, device='cuda:0'), tensor(0.6580, device='cuda:0'), tensor(0.6591, device='cuda:0'), tensor(0.6602, device='cuda:0'), tensor(0.6612, device='cuda:0'), tensor(0.6623, device='cuda:0'), tensor(0.6639, device='cuda:0'), tensor(0.6648, device='cuda:0'), tensor(0.6659, device='cuda:0'), tensor(0.6666, device='cuda:0'), tensor(0.6679, device='cuda:0')]\n"
          ]
        },
        {
          "output_type": "display_data",
          "data": {
            "text/plain": [
              "<Figure size 432x288 with 1 Axes>"
            ],
            "image/png": "[encoded data removed]"
          },
          "metadata": {
            "needs_background": "light"
          }
        },
        {
          "output_type": "execute_result",
          "data": {
            "text/plain": [
              "(None, None)"
            ]
          },
          "metadata": {},
          "execution_count": 29
        }
      ]
    },
    {
      "cell_type": "code",
      "source": [
        "plt.plot([a.cpu() for a in acc[0]], label=\"sgd\")\n",
        "plt.plot([a.cpu() for a in acc_ewc[0]], label=\"ewc\")\n",
        "plt.legend()"
      ],
      "metadata": {
        "colab": {
          "base_uri": "https://localhost:8080/",
          "height": 282
        },
        "id": "oQg1huSnUV_c",
        "outputId": "7df613c4-a448-420c-86d7-34d46a8023e1"
      },
      "execution_count": 31,
      "outputs": [
        {
          "output_type": "execute_result",
          "data": {
            "text/plain": [
              "<matplotlib.legend.Legend at 0x7faed9093df0>"
            ]
          },
          "metadata": {},
          "execution_count": 31
        },
        {
          "output_type": "display_data",
          "data": {
            "text/plain": [
              "<Figure size 432x288 with 1 Axes>"
            ],
            "image/png": "[encoded data removed]"
          },
          "metadata": {
            "needs_background": "light"
          }
        }
      ]
    }
  ]
}