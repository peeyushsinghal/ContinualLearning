{
  "nbformat": 4,
  "nbformat_minor": 0,
  "metadata": {
    "colab": {
      "provenance": [],
      "authorship_tag": "ABX9TyNCiCtUiyGprfiZe7BlTPyS",
      "include_colab_link": true
    },
    "kernelspec": {
      "name": "python3",
      "display_name": "Python 3"
    },
    "language_info": {
      "name": "python"
    }
  },
  "cells": [
    {
      "cell_type": "markdown",
      "metadata": {
        "id": "view-in-github",
        "colab_type": "text"
      },
      "source": [
        "<a href=\"https://colab.research.google.com/github/peeyushsinghal/ContinualLearning/blob/main/EWC_experiment.ipynb\" target=\"_parent\"><img src=\"https://colab.research.google.com/assets/colab-badge.svg\" alt=\"Open In Colab\"/></a>"
      ]
    },
    {
      "cell_type": "code",
      "source": [
        "import torch\n",
        "import torch.nn as nn\n",
        "import torch.nn.functional as F\n",
        "import torch.optim as optim\n",
        "from torchvision import datasets, transforms\n",
        "from torchsummary import summary\n",
        "%matplotlib inline\n",
        "import matplotlib.pyplot as plt\n",
        "import random\n",
        "import warnings\n",
        "warnings.filterwarnings('ignore')"
      ],
      "metadata": {
        "id": "mew9xHnvzdXc"
      },
      "execution_count": 35,
      "outputs": []
    },
    {
      "cell_type": "code",
      "source": [
        "use_cuda = torch.cuda.is_available()\n",
        "device = torch.device(\"cuda\" if use_cuda else \"cpu\")\n",
        "device"
      ],
      "metadata": {
        "colab": {
          "base_uri": "https://localhost:8080/"
        },
        "id": "W2Bg56Nd0C21",
        "outputId": "3d83e64a-207d-4da8-f2ae-97644e8a7e88"
      },
      "execution_count": 36,
      "outputs": [
        {
          "output_type": "execute_result",
          "data": {
            "text/plain": [
              "device(type='cpu')"
            ]
          },
          "metadata": {},
          "execution_count": 36
        }
      ]
    },
    {
      "cell_type": "code",
      "execution_count": 37,
      "metadata": {
        "id": "bCpr2BtBu-td"
      },
      "outputs": [],
      "source": [
        "# #@title Creating Dataset and Dataloader for MNIST\n",
        "\n",
        "# torch.manual_seed(1)\n",
        "# # batch_size = 128\n",
        "# batch_size = 64\n",
        "\n",
        "# kwargs = {'num_workers': 1, 'pin_memory': True} if use_cuda else {}\n",
        "\n",
        "# MNIST_train_loader = torch.utils.data.DataLoader(\n",
        "#     datasets.MNIST('../data', train=True, download=True,\n",
        "#                     transform=transforms.Compose([\n",
        "#                         transforms.ToTensor(),\n",
        "#                         transforms.Normalize((0.1307,), (0.3081,)) # mean and standard deviation\n",
        "#                     ])),\n",
        "#     batch_size=batch_size, shuffle=True, **kwargs)\n",
        "\n",
        "# MNIST_test_loader = torch.utils.data.DataLoader(\n",
        "#     datasets.MNIST('../data', train=False, transform=transforms.Compose([\n",
        "#                         transforms.ToTensor(),\n",
        "#                         transforms.Normalize((0.1307,), (0.3081,)) # mean and standard deviation\n",
        "#                     ])),\n",
        "#     batch_size=batch_size, shuffle=True, **kwargs)"
      ]
    },
    {
      "cell_type": "code",
      "source": [
        "def mnist_imshow(img):\n",
        "    plt.imshow(img.reshape([28,28]), cmap=\"gray\")\n",
        "    plt.axis('off')\n",
        "    plt.show()"
      ],
      "metadata": {
        "id": "UozkbtMB0PQh"
      },
      "execution_count": 38,
      "outputs": []
    },
    {
      "cell_type": "code",
      "source": [
        "# t = 7\n",
        "# data_point = next(iter(MNIST_train_loader))\n",
        "# mnist_imshow(data_point[0][t].squeeze())\n",
        "# print(\"label : \",data_point[1][t].item())"
      ],
      "metadata": {
        "id": "FyUbVCH82ylI"
      },
      "execution_count": 39,
      "outputs": []
    },
    {
      "cell_type": "code",
      "source": [
        "class PermutedMNIST(datasets.MNIST):\n",
        "\n",
        "    def __init__(self, root=\"~/.torch/data/mnist\", train=True, permute_idx=None):\n",
        "        super(PermutedMNIST, self).__init__(root, train, download=True)\n",
        "        assert len(permute_idx) == 28 * 28\n",
        "        if self.train:\n",
        "          # print(\"data\", type(self.train_data),type(self.train_data[0]),self.train_data.shape, self.train_data[0].shape, self.train_data[0])\n",
        "          self.training_data= torch.stack([img.float().view(-1)[permute_idx] / 255 for img in self.train_data])\n",
        "          self.training_labels = self.train_labels\n",
        "        else:\n",
        "          self.testing_data = torch.stack([img.float().view(-1)[permute_idx] / 255 for img in self.test_data])\n",
        "          self.testing_labels = self.test_labels\n",
        "\n",
        "    def __getitem__(self, index):\n",
        "\n",
        "        if self.train:\n",
        "            img, target = self.training_data[index], self.training_labels[index]\n",
        "        else:\n",
        "            img, target = self.testing_data[index], self.testing_labels[index]\n",
        "\n",
        "        return img, target\n",
        "\n",
        "    def get_sample(self, sample_size):\n",
        "        sample_idx = random.sample(range(len(self)), sample_size)\n",
        "        return [img for img in self.training_data[sample_idx]]"
      ],
      "metadata": {
        "id": "wIIODGl2239_"
      },
      "execution_count": 40,
      "outputs": []
    },
    {
      "cell_type": "code",
      "source": [
        "num_task = 3 # Number of tasks, task 1 we would not have any permutation"
      ],
      "metadata": {
        "id": "7brt6rk96bLi"
      },
      "execution_count": 41,
      "outputs": []
    },
    {
      "cell_type": "code",
      "source": [
        "def get_permute_mnist():\n",
        "    train_loader = {}\n",
        "    test_loader = {}\n",
        "    idx = list(range(28 * 28)) # first time there is no shuffle\n",
        "    for i in range(num_task):\n",
        "        train_loader[i] = torch.utils.data.DataLoader(PermutedMNIST(train=True, permute_idx=idx),\n",
        "                                                      batch_size=batch_size,\n",
        "                                                      num_workers=4)\n",
        "        test_loader[i] = torch.utils.data.DataLoader(PermutedMNIST(train=False, permute_idx=idx),\n",
        "                                                     batch_size=batch_size)\n",
        "        print(f'Index for  task {i} \\n {idx}')\n",
        "        idx = random.sample(idx, len(idx))\n",
        "    return train_loader, test_loader \n",
        "\n",
        "\n",
        "train_loader, test_loader = get_permute_mnist()"
      ],
      "metadata": {
        "colab": {
          "base_uri": "https://localhost:8080/"
        },
        "id": "5RmbGeB54SLO",
        "outputId": "14ef8046-3232-4bd0-a0f7-ef2084cc6768"
      },
      "execution_count": 42,
      "outputs": [
        {
          "output_type": "stream",
          "name": "stdout",
          "text": [
            "Index for  task 0 \n",
            " [0, 1, 2, 3, 4, 5, 6, 7, 8, 9, 10, 11, 12, 13, 14, 15, 16, 17, 18, 19, 20, 21, 22, 23, 24, 25, 26, 27, 28, 29, 30, 31, 32, 33, 34, 35, 36, 37, 38, 39, 40, 41, 42, 43, 44, 45, 46, 47, 48, 49, 50, 51, 52, 53, 54, 55, 56, 57, 58, 59, 60, 61, 62, 63, 64, 65, 66, 67, 68, 69, 70, 71, 72, 73, 74, 75, 76, 77, 78, 79, 80, 81, 82, 83, 84, 85, 86, 87, 88, 89, 90, 91, 92, 93, 94, 95, 96, 97, 98, 99, 100, 101, 102, 103, 104, 105, 106, 107, 108, 109, 110, 111, 112, 113, 114, 115, 116, 117, 118, 119, 120, 121, 122, 123, 124, 125, 126, 127, 128, 129, 130, 131, 132, 133, 134, 135, 136, 137, 138, 139, 140, 141, 142, 143, 144, 145, 146, 147, 148, 149, 150, 151, 152, 153, 154, 155, 156, 157, 158, 159, 160, 161, 162, 163, 164, 165, 166, 167, 168, 169, 170, 171, 172, 173, 174, 175, 176, 177, 178, 179, 180, 181, 182, 183, 184, 185, 186, 187, 188, 189, 190, 191, 192, 193, 194, 195, 196, 197, 198, 199, 200, 201, 202, 203, 204, 205, 206, 207, 208, 209, 210, 211, 212, 213, 214, 215, 216, 217, 218, 219, 220, 221, 222, 223, 224, 225, 226, 227, 228, 229, 230, 231, 232, 233, 234, 235, 236, 237, 238, 239, 240, 241, 242, 243, 244, 245, 246, 247, 248, 249, 250, 251, 252, 253, 254, 255, 256, 257, 258, 259, 260, 261, 262, 263, 264, 265, 266, 267, 268, 269, 270, 271, 272, 273, 274, 275, 276, 277, 278, 279, 280, 281, 282, 283, 284, 285, 286, 287, 288, 289, 290, 291, 292, 293, 294, 295, 296, 297, 298, 299, 300, 301, 302, 303, 304, 305, 306, 307, 308, 309, 310, 311, 312, 313, 314, 315, 316, 317, 318, 319, 320, 321, 322, 323, 324, 325, 326, 327, 328, 329, 330, 331, 332, 333, 334, 335, 336, 337, 338, 339, 340, 341, 342, 343, 344, 345, 346, 347, 348, 349, 350, 351, 352, 353, 354, 355, 356, 357, 358, 359, 360, 361, 362, 363, 364, 365, 366, 367, 368, 369, 370, 371, 372, 373, 374, 375, 376, 377, 378, 379, 380, 381, 382, 383, 384, 385, 386, 387, 388, 389, 390, 391, 392, 393, 394, 395, 396, 397, 398, 399, 400, 401, 402, 403, 404, 405, 406, 407, 408, 409, 410, 411, 412, 413, 414, 415, 416, 417, 418, 419, 420, 421, 422, 423, 424, 425, 426, 427, 428, 429, 430, 431, 432, 433, 434, 435, 436, 437, 438, 439, 440, 441, 442, 443, 444, 445, 446, 447, 448, 449, 450, 451, 452, 453, 454, 455, 456, 457, 458, 459, 460, 461, 462, 463, 464, 465, 466, 467, 468, 469, 470, 471, 472, 473, 474, 475, 476, 477, 478, 479, 480, 481, 482, 483, 484, 485, 486, 487, 488, 489, 490, 491, 492, 493, 494, 495, 496, 497, 498, 499, 500, 501, 502, 503, 504, 505, 506, 507, 508, 509, 510, 511, 512, 513, 514, 515, 516, 517, 518, 519, 520, 521, 522, 523, 524, 525, 526, 527, 528, 529, 530, 531, 532, 533, 534, 535, 536, 537, 538, 539, 540, 541, 542, 543, 544, 545, 546, 547, 548, 549, 550, 551, 552, 553, 554, 555, 556, 557, 558, 559, 560, 561, 562, 563, 564, 565, 566, 567, 568, 569, 570, 571, 572, 573, 574, 575, 576, 577, 578, 579, 580, 581, 582, 583, 584, 585, 586, 587, 588, 589, 590, 591, 592, 593, 594, 595, 596, 597, 598, 599, 600, 601, 602, 603, 604, 605, 606, 607, 608, 609, 610, 611, 612, 613, 614, 615, 616, 617, 618, 619, 620, 621, 622, 623, 624, 625, 626, 627, 628, 629, 630, 631, 632, 633, 634, 635, 636, 637, 638, 639, 640, 641, 642, 643, 644, 645, 646, 647, 648, 649, 650, 651, 652, 653, 654, 655, 656, 657, 658, 659, 660, 661, 662, 663, 664, 665, 666, 667, 668, 669, 670, 671, 672, 673, 674, 675, 676, 677, 678, 679, 680, 681, 682, 683, 684, 685, 686, 687, 688, 689, 690, 691, 692, 693, 694, 695, 696, 697, 698, 699, 700, 701, 702, 703, 704, 705, 706, 707, 708, 709, 710, 711, 712, 713, 714, 715, 716, 717, 718, 719, 720, 721, 722, 723, 724, 725, 726, 727, 728, 729, 730, 731, 732, 733, 734, 735, 736, 737, 738, 739, 740, 741, 742, 743, 744, 745, 746, 747, 748, 749, 750, 751, 752, 753, 754, 755, 756, 757, 758, 759, 760, 761, 762, 763, 764, 765, 766, 767, 768, 769, 770, 771, 772, 773, 774, 775, 776, 777, 778, 779, 780, 781, 782, 783]\n",
            "Index for  task 1 \n",
            " [246, 381, 62, 66, 203, 604, 721, 263, 513, 199, 674, 151, 626, 14, 202, 105, 321, 325, 187, 593, 611, 28, 48, 586, 232, 578, 694, 25, 295, 750, 397, 619, 243, 725, 33, 442, 311, 553, 38, 51, 209, 783, 400, 769, 37, 427, 116, 387, 565, 466, 79, 130, 267, 573, 149, 93, 763, 358, 255, 415, 410, 617, 39, 261, 75, 241, 369, 448, 224, 12, 640, 136, 430, 496, 643, 399, 386, 379, 589, 500, 558, 698, 765, 481, 612, 729, 304, 276, 210, 507, 308, 101, 571, 333, 127, 370, 113, 420, 280, 240, 337, 764, 322, 104, 89, 301, 542, 126, 773, 406, 390, 731, 355, 438, 463, 752, 462, 336, 469, 592, 531, 635, 223, 625, 111, 548, 54, 233, 408, 689, 720, 652, 639, 497, 702, 7, 417, 521, 638, 597, 771, 687, 313, 535, 498, 443, 662, 366, 157, 340, 582, 343, 272, 393, 297, 724, 594, 354, 389, 518, 82, 668, 650, 445, 782, 368, 503, 102, 781, 391, 375, 645, 380, 464, 636, 258, 779, 61, 504, 747, 382, 282, 440, 579, 661, 20, 677, 754, 584, 97, 144, 265, 34, 675, 505, 679, 201, 622, 129, 711, 552, 165, 644, 306, 482, 50, 91, 460, 616, 163, 664, 690, 237, 122, 281, 598, 107, 128, 412, 228, 631, 456, 411, 599, 73, 403, 196, 744, 71, 373, 352, 517, 727, 551, 658, 357, 587, 778, 429, 123, 465, 704, 234, 428, 81, 569, 83, 483, 758, 242, 15, 217, 543, 266, 534, 207, 9, 2, 204, 168, 761, 65, 563, 660, 610, 53, 69, 600, 283, 748, 318, 331, 665, 435, 561, 601, 627, 436, 211, 43, 509, 303, 148, 197, 346, 541, 106, 195, 161, 256, 94, 560, 559, 685, 709, 723, 312, 320, 577, 294, 743, 229, 673, 289, 278, 775, 90, 755, 16, 251, 330, 749, 17, 474, 319, 222, 230, 446, 621, 139, 362, 215, 286, 527, 8, 633, 181, 250, 657, 405, 431, 708, 672, 76, 401, 156, 143, 353, 454, 44, 774, 683, 30, 712, 686, 26, 307, 147, 654, 666, 637, 64, 715, 341, 532, 556, 512, 762, 667, 588, 326, 696, 40, 546, 528, 641, 432, 87, 180, 651, 59, 714, 707, 566, 701, 575, 86, 361, 529, 550, 757, 522, 329, 461, 131, 154, 302, 424, 36, 538, 137, 499, 218, 84, 6, 124, 663, 95, 18, 676, 170, 756, 742, 392, 629, 257, 736, 572, 334, 5, 656, 451, 360, 162, 305, 613, 570, 703, 11, 164, 718, 22, 216, 628, 259, 140, 726, 447, 359, 738, 659, 544, 385, 618, 524, 264, 607, 596, 394, 150, 514, 501, 132, 426, 583, 275, 606, 173, 741, 338, 728, 339, 409, 269, 288, 609, 115, 516, 630, 4, 539, 487, 710, 100, 753, 198, 45, 52, 396, 299, 730, 92, 533, 490, 376, 32, 455, 252, 121, 574, 471, 418, 706, 520, 646, 274, 564, 206, 238, 70, 189, 328, 110, 191, 759, 231, 568, 47, 138, 221, 188, 649, 458, 227, 271, 314, 344, 327, 374, 770, 444, 493, 620, 208, 567, 372, 623, 733, 279, 184, 285, 284, 404, 470, 335, 425, 450, 60, 395, 254, 473, 468, 310, 716, 212, 117, 495, 489, 511, 27, 688, 671, 476, 98, 342, 591, 722, 780, 740, 580, 174, 642, 235, 193, 713, 682, 179, 547, 200, 634, 133, 80, 449, 453, 114, 63, 145, 245, 653, 437, 614, 605, 772, 508, 603, 351, 220, 363, 693, 478, 56, 41, 536, 112, 421, 735, 349, 737, 739, 491, 486, 472, 367, 555, 24, 192, 23, 364, 345, 590, 135, 153, 422, 300, 315, 768, 433, 248, 549, 159, 691, 109, 239, 177, 205, 67, 55, 324, 452, 167, 316, 525, 467, 494, 78, 479, 119, 365, 434, 398, 717, 169, 350, 684, 68, 19, 186, 244, 347, 1, 745, 142, 678, 356, 46, 554, 647, 317, 475, 213, 0, 118, 777, 332, 655, 648, 273, 530, 506, 296, 585, 699, 348, 236, 416, 484, 776, 767, 226, 669, 510, 371, 760, 602, 3, 562, 194, 624, 293, 225, 29, 695, 595, 419, 383, 120, 705, 175, 292, 247, 277, 526, 35, 632, 457, 160, 576, 719, 134, 287, 270, 77, 402, 42, 480, 185, 108, 459, 290, 49, 268, 74, 155, 746, 166, 323, 581, 10, 492, 384, 545, 141, 260, 697, 99, 423, 608, 57, 85, 615, 378, 158, 751, 72, 488, 171, 183, 540, 253, 152, 309, 182, 414, 519, 700, 477, 515, 407, 146, 21, 214, 178, 125, 249, 537, 413, 103, 732, 262, 219, 388, 441, 692, 172, 734, 439, 96, 291, 31, 670, 58, 88, 681, 680, 523, 557, 13, 766, 298, 485, 377, 176, 190, 502]\n",
            "Index for  task 2 \n",
            " [778, 533, 594, 411, 498, 256, 694, 469, 587, 486, 503, 496, 783, 782, 214, 601, 485, 200, 771, 112, 667, 602, 406, 129, 768, 30, 439, 177, 329, 430, 246, 361, 499, 512, 534, 666, 324, 63, 737, 523, 370, 353, 397, 432, 238, 151, 622, 500, 322, 740, 494, 216, 101, 767, 471, 589, 613, 292, 707, 766, 461, 723, 327, 110, 659, 60, 342, 647, 221, 663, 207, 599, 17, 702, 28, 598, 629, 364, 44, 54, 244, 157, 165, 641, 271, 206, 525, 168, 288, 23, 709, 338, 429, 290, 330, 473, 134, 163, 710, 366, 522, 446, 544, 186, 711, 413, 241, 518, 123, 689, 748, 620, 307, 13, 656, 8, 708, 283, 550, 721, 122, 4, 79, 400, 220, 392, 743, 452, 421, 113, 505, 569, 396, 595, 199, 573, 154, 491, 581, 27, 453, 645, 552, 625, 183, 185, 435, 345, 661, 0, 52, 251, 194, 699, 637, 744, 488, 118, 414, 25, 687, 67, 470, 252, 229, 584, 521, 43, 718, 9, 759, 153, 764, 540, 141, 451, 722, 639, 739, 455, 303, 22, 36, 226, 686, 675, 313, 193, 321, 198, 720, 382, 88, 758, 184, 355, 73, 170, 445, 531, 89, 725, 378, 474, 155, 41, 191, 95, 520, 580, 507, 160, 383, 33, 319, 621, 273, 458, 490, 600, 404, 482, 209, 91, 254, 467, 557, 260, 631, 344, 286, 234, 390, 259, 749, 668, 46, 348, 416, 408, 457, 332, 320, 149, 64, 70, 624, 202, 776, 235, 318, 253, 543, 410, 409, 638, 530, 270, 80, 509, 32, 779, 586, 368, 365, 444, 388, 148, 398, 66, 726, 434, 389, 698, 189, 219, 715, 731, 514, 402, 585, 660, 162, 592, 578, 147, 372, 346, 98, 447, 536, 161, 651, 347, 593, 62, 296, 697, 704, 705, 441, 464, 203, 167, 688, 562, 456, 627, 287, 617, 693, 76, 178, 334, 218, 757, 233, 34, 541, 128, 39, 304, 427, 433, 119, 175, 262, 527, 236, 719, 339, 15, 672, 75, 215, 747, 357, 385, 180, 714, 240, 301, 468, 489, 481, 245, 187, 662, 84, 317, 703, 542, 415, 299, 173, 18, 472, 763, 352, 716, 377, 272, 568, 99, 96, 250, 181, 38, 224, 546, 654, 463, 754, 466, 142, 105, 422, 495, 289, 724, 510, 379, 108, 315, 678, 717, 612, 237, 538, 190, 169, 504, 564, 760, 137, 551, 69, 570, 130, 282, 258, 730, 302, 780, 310, 565, 20, 266, 583, 603, 102, 700, 358, 152, 40, 559, 535, 756, 373, 312, 212, 325, 393, 478, 107, 285, 140, 442, 164, 566, 417, 156, 150, 275, 554, 616, 343, 247, 558, 74, 652, 7, 448, 405, 295, 548, 58, 516, 528, 333, 492, 553, 555, 298, 677, 519, 657, 125, 614, 676, 2, 279, 278, 440, 487, 483, 281, 26, 454, 350, 532, 326, 575, 314, 781, 59, 6, 450, 294, 341, 653, 683, 196, 706, 158, 195, 116, 579, 371, 268, 331, 701, 87, 335, 132, 328, 356, 3, 144, 293, 515, 431, 61, 367, 391, 71, 217, 424, 460, 395, 738, 300, 419, 53, 11, 83, 623, 436, 582, 572, 201, 166, 611, 231, 423, 437, 86, 31, 547, 336, 774, 47, 648, 728, 92, 308, 770, 57, 21, 685, 261, 449, 443, 477, 736, 354, 126, 120, 363, 664, 529, 77, 681, 81, 264, 674, 159, 172, 51, 560, 615, 640, 274, 93, 19, 5, 695, 669, 401, 633, 753, 14, 340, 537, 1, 746, 135, 665, 426, 517, 94, 563, 619, 176, 133, 610, 210, 249, 597, 524, 48, 121, 316, 526, 556, 574, 239, 68, 690, 213, 242, 655, 323, 104, 777, 679, 387, 604, 607, 513, 211, 772, 24, 127, 309, 571, 438, 375, 56, 729, 280, 403, 103, 188, 576, 727, 359, 712, 143, 682, 16, 741, 131, 138, 42, 493, 65, 35, 549, 204, 50, 635, 78, 29, 192, 501, 755, 374, 267, 762, 750, 55, 174, 511, 479, 650, 630, 276, 680, 106, 311, 139, 124, 632, 459, 12, 752, 636, 596, 228, 179, 376, 673, 380, 90, 381, 265, 618, 351, 407, 671, 145, 306, 577, 428, 646, 751, 734, 508, 484, 732, 628, 684, 642, 284, 85, 773, 37, 263, 643, 349, 297, 115, 590, 277, 117, 692, 608, 230, 502, 227, 670, 412, 205, 765, 605, 761, 399, 360, 136, 337, 269, 182, 248, 384, 305, 539, 97, 644, 465, 146, 10, 362, 420, 735, 742, 257, 109, 769, 111, 745, 480, 476, 394, 713, 72, 418, 545, 733, 223, 567, 255, 462, 591, 634, 775, 425, 82, 606, 222, 45, 243, 225, 386, 197, 208, 506, 658, 561, 232, 649, 100, 588, 497, 291, 696, 609, 691, 114, 475, 49, 171, 626, 369]\n"
          ]
        }
      ]
    },
    {
      "cell_type": "code",
      "source": [
        "t = 0\n",
        "for i in range(num_task):\n",
        "  print(f' ------task {i} --------')\n",
        "  batch = next(iter(train_loader[i]))\n",
        "  if t == 0:\n",
        "    t = random.randint(1,len(batch))\n",
        "  image, label = batch[0][t], batch[1][t]\n",
        "  print(\"label : \", label.item())  \n",
        "  mnist_imshow(image)\n"
      ],
      "metadata": {
        "colab": {
          "base_uri": "https://localhost:8080/",
          "height": 820
        },
        "id": "N9_VzEOe944D",
        "outputId": "bf92af4f-e0d1-40c8-d0c8-fe49dbf8ee4d"
      },
      "execution_count": 46,
      "outputs": [
        {
          "output_type": "stream",
          "name": "stdout",
          "text": [
            " ------task 0 --------\n",
            "label :  4\n"
          ]
        },
        {
          "output_type": "display_data",
          "data": {
            "text/plain": [
              "<Figure size 432x288 with 1 Axes>"
            ],
            "image/png": "[encoded data removed]"
          },
          "metadata": {
            "needs_background": "light"
          }
        },
        {
          "output_type": "stream",
          "name": "stdout",
          "text": [
            " ------task 1 --------\n",
            "label :  4\n"
          ]
        },
        {
          "output_type": "display_data",
          "data": {
            "text/plain": [
              "<Figure size 432x288 with 1 Axes>"
            ],
            "image/png": "[encoded data removed]"
          },
          "metadata": {
            "needs_background": "light"
          }
        },
        {
          "output_type": "stream",
          "name": "stdout",
          "text": [
            " ------task 2 --------\n",
            "label :  4\n"
          ]
        },
        {
          "output_type": "display_data",
          "data": {
            "text/plain": [
              "<Figure size 432x288 with 1 Axes>"
            ],
            "image/png": "[encoded data removed]"
          },
          "metadata": {
            "needs_background": "light"
          }
        }
      ]
    },
    {
      "cell_type": "code",
      "source": [
        "# idx = list(range(28 * 28))\n",
        "# t = random.randint(1,10)\n",
        "# data_point = next(iter(MNIST_train_loader))\n",
        "# data_point_img = data_point[0][t].squeeze()\n",
        "\n",
        "# for i in range(num_task):\n",
        "#   print(f' ------task {i} --------')\n",
        "#   data_point_img = data_point_img.float().view(-1)[idx].view(28,28)\n",
        "#   print(\"label : \", data_point[1][t].item())  \n",
        "#   mnist_imshow(data_point_img)\n",
        "#   idx = random.sample(idx, len(idx))"
      ],
      "metadata": {
        "id": "DTzfwvBr_7Vy"
      },
      "execution_count": 44,
      "outputs": []
    },
    {
      "cell_type": "code",
      "source": [],
      "metadata": {
        "id": "11gMlQ_tATUi"
      },
      "execution_count": 44,
      "outputs": []
    }
  ]
}